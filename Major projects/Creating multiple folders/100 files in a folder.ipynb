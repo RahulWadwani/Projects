{
 "cells": [
  {
   "cell_type": "code",
   "execution_count": 11,
   "id": "acdc12cf",
   "metadata": {},
   "outputs": [],
   "source": [
    "# multiple files in particular folder \n",
    "import os \n",
    "for i in range(1,101):\n",
    "    os.mkdir('Rahul_'+str(i))\n",
    "for i in range(1,101):\n",
    "    files = 'Rahul_'+ str(i) +'/Rahul_'+str(i)+'.txt'\n",
    "    fd = open(files,'w')\n",
    "    fd.write('Hello_'+str(i))\n",
    "    fd.close()\n",
    "    \n",
    "    "
   ]
  },
  {
   "cell_type": "code",
   "execution_count": null,
   "id": "1dcfe2c9",
   "metadata": {},
   "outputs": [],
   "source": []
  }
 ],
 "metadata": {
  "kernelspec": {
   "display_name": "Python 3 (ipykernel)",
   "language": "python",
   "name": "python3"
  },
  "language_info": {
   "codemirror_mode": {
    "name": "ipython",
    "version": 3
   },
   "file_extension": ".py",
   "mimetype": "text/x-python",
   "name": "python",
   "nbconvert_exporter": "python",
   "pygments_lexer": "ipython3",
   "version": "3.9.6"
  }
 },
 "nbformat": 4,
 "nbformat_minor": 5
}

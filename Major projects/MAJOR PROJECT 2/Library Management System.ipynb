{
 "cells": [
  {
   "cell_type": "markdown",
   "id": "01df80c7",
   "metadata": {},
   "source": [
    "# Creating Book Databases \n"
   ]
  },
  {
   "cell_type": "code",
   "execution_count": 7,
   "id": "a8deb976",
   "metadata": {},
   "outputs": [],
   "source": [
    "import datetime\n",
    "import json"
   ]
  },
  {
   "cell_type": "markdown",
   "id": "2d00ec28",
   "metadata": {},
   "source": [
    "## Databases of books that contains | dictionary "
   ]
  },
  {
   "cell_type": "code",
   "execution_count": 2,
   "id": "9aea1f30",
   "metadata": {},
   "outputs": [],
   "source": [
    "# getting the issue date and return date \n",
    "\n",
    "def issue_date():\n",
    "    d = datetime.date.today()\n",
    "    date = d.strftime('%d-%m-%Y')\n",
    "    return date\n",
    "\n",
    "def return_date():\n",
    "    dt2 = datetime.timedelta(days=7)\n",
    "    d = datetime.date.today() + dt2\n",
    "    date = d.strftime('%d-%m-%Y')\n",
    "    return date"
   ]
  },
  {
   "cell_type": "markdown",
   "id": "3affad27",
   "metadata": {},
   "source": [
    "# Function for getting the book id "
   ]
  },
  {
   "cell_type": "code",
   "execution_count": 39,
   "id": "746891cf",
   "metadata": {},
   "outputs": [],
   "source": [
    "def get_bookid():\n",
    "    book_lst = []\n",
    "    for i in range(3):\n",
    "        i = input()\n",
    "        if i == 'q':\n",
    "            break\n",
    "        elif str(i) in book_db.keys():            # logic check whether the book is present inside the book_db or not \n",
    "            book_lst.append(i)\n",
    "            if book_db[i]['quantity'] >= 0:\n",
    "                book_db[i]['quantity'] = str(int(book_db[i]['quantity'])- 1) # if the book is present decrement in the quantity column \n",
    "            else:\n",
    "                print('Book Not available')\n",
    "        else:\n",
    "            print('Currently the book is not available ')\n",
    "    return book_lst"
   ]
  },
  {
   "cell_type": "markdown",
   "id": "554a3749",
   "metadata": {},
   "source": [
    "# Adding Books to Books Database"
   ]
  },
  {
   "cell_type": "code",
   "execution_count": 5,
   "id": "94f268ac",
   "metadata": {},
   "outputs": [],
   "source": [
    "# books database \n",
    "books_data = {}"
   ]
  },
  {
   "cell_type": "code",
   "execution_count": 37,
   "id": "61aafd7e",
   "metadata": {},
   "outputs": [
    {
     "name": "stdout",
     "output_type": "stream",
     "text": [
      "Enter the books id                     : 1001\n",
      "Enter the name of the book             : Kimentsu no yaiba\n",
      "Enter the quantity of book available   : 25\n",
      "Enter the Genre of the book            : Comics\n",
      "Enter the price of the book            : 25\n",
      "Enter the name of the author           : Nakasaki \n"
     ]
    }
   ],
   "source": [
    "# master books \n",
    "fd = open('book_data.json','r')\n",
    "txt = fd.read()\n",
    "fd.close()\n",
    "\n",
    "book_db = json.loads(txt)\n",
    "\n",
    "# inputing the data of the books \n",
    "book_id     = str(input('Enter the books id                     : ')) \n",
    "book_name   =     input('Enter the name of the book             : ')  \n",
    "quantity    =     input('Enter the quantity of book available   : ')\n",
    "genre       =     input('Enter the Genre of the book            : ')\n",
    "price       =     input('Enter the price of the book            : ')\n",
    "author      =     input('Enter the name of the author           : ')\n",
    "\n",
    "# temporary books \n",
    "books_ = {}\n",
    "books_['book_name'] = book_name\n",
    "books_['quantity'] = quantity\n",
    "books_['genre'] = genre\n",
    "books_['price'] = price\n",
    "books_['author'] = author\n",
    "\n",
    "books_data[book_id] = books_\n",
    "\n",
    "text = json.dumps(books_data)\n",
    "\n",
    "fd = open('book_data.json','w')\n",
    "fd.write(text)\n",
    "fd.close()\n"
   ]
  },
  {
   "cell_type": "markdown",
   "id": "2aaeec3e",
   "metadata": {},
   "source": [
    "# Adding more students to Students database"
   ]
  },
  {
   "cell_type": "code",
   "execution_count": 10,
   "id": "89d59397",
   "metadata": {},
   "outputs": [],
   "source": [
    "# students database \n",
    "students_data = {}"
   ]
  },
  {
   "cell_type": "code",
   "execution_count": 40,
   "id": "26e38524",
   "metadata": {
    "scrolled": true
   },
   "outputs": [
    {
     "name": "stdout",
     "output_type": "stream",
     "text": [
      "Enter your Student Id         : 19131005\n",
      "Enter your Name                   : Mahendra\n",
      "Enter your Graduation Year        : 2023\n",
      "Enter your Graduation Degree      : B.Tech\n",
      "1000\n",
      "10002\n",
      "Currently the book is not available \n",
      "1002\n",
      "Currently the book is not available \n"
     ]
    }
   ],
   "source": [
    "# master books \n",
    "\n",
    "fd = open('student_data.json','r')\n",
    "text = fd.read()\n",
    "fd.close()\n",
    "\n",
    "# converting the json data in dictionary  \n",
    "students_data = json.loads(text)\n",
    "\n",
    "# inputs \n",
    "student_id             = int(input('Enter your Student Id             : '))\n",
    "stud_name              = input('Enter your Name                   : ')\n",
    "grad_year              = input('Enter your Graduation Year        : ')\n",
    "grad_degree            = input('Enter your Graduation Degree      : ')\n",
    "books_issued           = get_bookid()\n",
    "issue_date             = issue_date\n",
    "return_date            = return_date\n",
    "\n",
    "\n",
    "# temporary student data dictionary\n",
    "\n",
    "students_ = {}\n",
    "students_['stud_name']     = stud_name\n",
    "students_['grad_year']     = grad_year\n",
    "students_['grad_degree']   = grad_degree\n",
    "students_['books_issued']  = books_issued\n",
    "students_['issue_date']    = issue_date()\n",
    "students_['return_date']   = return_date()\n",
    "\n",
    "\n",
    "# adding all the temporary data to the master dictionary \n",
    "students_data[student_id] = students_\n",
    "\n",
    "# converting back to text \n",
    "text = json.dumps(students_data)\n",
    "\n",
    "# adding the data to the student database\n",
    "fd = open('student_data.json','w')\n",
    "fd.write(text)\n",
    "fd.close()"
   ]
  }
 ],
 "metadata": {
  "kernelspec": {
   "display_name": "Python 3 (ipykernel)",
   "language": "python",
   "name": "python3"
  },
  "language_info": {
   "codemirror_mode": {
    "name": "ipython",
    "version": 3
   },
   "file_extension": ".py",
   "mimetype": "text/x-python",
   "name": "python",
   "nbconvert_exporter": "python",
   "pygments_lexer": "ipython3",
   "version": "3.10.6"
  }
 },
 "nbformat": 4,
 "nbformat_minor": 5
}

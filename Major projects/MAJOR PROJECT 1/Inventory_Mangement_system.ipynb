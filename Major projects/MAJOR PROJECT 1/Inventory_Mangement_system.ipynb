{
 "cells": [
  {
   "cell_type": "markdown",
   "id": "4980be99",
   "metadata": {},
   "source": [
    "# write a program to product id as key and dict as values with product details for inventory management systems "
   ]
  },
  {
   "cell_type": "code",
   "execution_count": 1,
   "id": "b0e6b922",
   "metadata": {},
   "outputs": [],
   "source": [
    "import datetime\n",
    "import random "
   ]
  },
  {
   "cell_type": "markdown",
   "id": "a5c885d2",
   "metadata": {},
   "source": [
    "### Using multi dimensional dictionary "
   ]
  },
  {
   "cell_type": "code",
   "execution_count": 2,
   "id": "3959c989",
   "metadata": {},
   "outputs": [],
   "source": [
    "# creating a list of dictionary of products \n",
    "dct = { # product_id and product values\n",
    "          1312:{'product_name':'Boult Earbuds',\n",
    "                'product_category':'Electronics',\n",
    "                'features':'13 mm drivers , waterproof , 40 hrs playback',\n",
    "                'price':499,\n",
    "                'total':50\n",
    "               },\n",
    "          1322:{'product_name':'Acer Laptop',\n",
    "                'product_category':'Electronics devices',\n",
    "                'features':'512 SSD, windows 11 operating system , 4k digital screen',\n",
    "                'price':14999,\n",
    "                'total':10\n",
    "               },\n",
    "          1332:{'product_name':'Nike Shoes',\n",
    "                'product_category':'Shoes',\n",
    "                'features':'stylish, comfy soles',\n",
    "                'price':1499,\n",
    "                'total':15\n",
    "               },\n",
    "          1342:{'product_name':'Gucci T-shirt',\n",
    "                'product_category':'Clothing',\n",
    "                'features':'comfy wear, full sleeves',\n",
    "                'price':899,\n",
    "                'total':25\n",
    "               },\n",
    "          1352:{'product_name':'Apple Watch',\n",
    "                'product_category':'Wearables',\n",
    "                'features':'heart-rate monitoring senor, 100 sports modes',\n",
    "                'price':25499,\n",
    "                'total':10\n",
    "               }\n",
    "}"
   ]
  },
  {
   "cell_type": "markdown",
   "id": "c024d517",
   "metadata": {},
   "source": [
    "### checking the items in the dictionary "
   ]
  },
  {
   "cell_type": "code",
   "execution_count": 3,
   "id": "7db95da6",
   "metadata": {},
   "outputs": [
    {
     "data": {
      "text/plain": [
       "dict_keys([1312, 1322, 1332, 1342, 1352])"
      ]
     },
     "execution_count": 3,
     "metadata": {},
     "output_type": "execute_result"
    }
   ],
   "source": [
    "dct.keys()"
   ]
  },
  {
   "cell_type": "markdown",
   "id": "4dea4c7f",
   "metadata": {},
   "source": [
    "# Consumer side "
   ]
  },
  {
   "cell_type": "markdown",
   "id": "9163d7bb",
   "metadata": {},
   "source": [
    "### Adding new products "
   ]
  },
  {
   "cell_type": "code",
   "execution_count": 4,
   "id": "1a30cb2d",
   "metadata": {},
   "outputs": [
    {
     "name": "stdout",
     "output_type": "stream",
     "text": [
      "Enter the product key: 1239\n",
      "Enter product name: boat headphones\n",
      "Enter product category :electronics\n",
      "Enter the features related to the product : lightweight, dynamic audio , deep bass, 13mm drivers\n",
      "Enter the price : 1500\n",
      "Enter the total stocks available  : 20\n"
     ]
    }
   ],
   "source": [
    "prod_key      = int(input(\"Enter the product key: \"))\n",
    "if prod_key in dct.keys():\n",
    "    print('Product already exits in the Inventory ')\n",
    "else:\n",
    "    # inputs \n",
    "    prod_name      = str(input(\"Enter product name: \"))\n",
    "    prod_category  = str(input(\"Enter product category :\"))\n",
    "    features       = str(input('Enter the features related to the product : '))\n",
    "    price          = int(input(\"Enter the price : \"))\n",
    "    total          = int(input('Enter the total stocks available  : ')) \n",
    "    \n",
    "    \n",
    "    # creating another dictionary \n",
    "    prod = {}\n",
    "    prod['product_name']      = prod_name.title()\n",
    "    prod['product_category']  = prod_category\n",
    "    prod['features']          = features\n",
    "    prod['price']             = price\n",
    "    prod['total']             = total \n",
    "    \n",
    "    \n",
    "    # adding the key value pair to the main dictionary\n",
    "    dct[prod_key] = prod          "
   ]
  },
  {
   "cell_type": "code",
   "execution_count": 5,
   "id": "1f133b2c",
   "metadata": {},
   "outputs": [
    {
     "data": {
      "text/plain": [
       "{1312: {'product_name': 'Boult Earbuds',\n",
       "  'product_category': 'Electronics',\n",
       "  'features': '13 mm drivers , waterproof , 40 hrs playback',\n",
       "  'price': 499,\n",
       "  'total': 50},\n",
       " 1322: {'product_name': 'Acer Laptop',\n",
       "  'product_category': 'Electronics devices',\n",
       "  'features': '512 SSD, windows 11 operating system , 4k digital screen',\n",
       "  'price': 14999,\n",
       "  'total': 10},\n",
       " 1332: {'product_name': 'Nike Shoes',\n",
       "  'product_category': 'Shoes',\n",
       "  'features': 'stylish, comfy soles',\n",
       "  'price': 1499,\n",
       "  'total': 15},\n",
       " 1342: {'product_name': 'Gucci T-shirt',\n",
       "  'product_category': 'Clothing',\n",
       "  'features': 'comfy wear, full sleeves',\n",
       "  'price': 899,\n",
       "  'total': 25},\n",
       " 1352: {'product_name': 'Apple Watch',\n",
       "  'product_category': 'Wearables',\n",
       "  'features': 'heart-rate monitoring senor, 100 sports modes',\n",
       "  'price': 25499,\n",
       "  'total': 10},\n",
       " 1239: {'product_name': 'Boat Headphones',\n",
       "  'product_category': 'electronics',\n",
       "  'features': 'lightweight, dynamic audio , deep bass, 13mm drivers',\n",
       "  'price': 1500,\n",
       "  'total': 20}}"
      ]
     },
     "execution_count": 5,
     "metadata": {},
     "output_type": "execute_result"
    }
   ],
   "source": [
    "dct"
   ]
  },
  {
   "cell_type": "markdown",
   "id": "1abc7167",
   "metadata": {},
   "source": [
    "### Searching based on Product_name"
   ]
  },
  {
   "cell_type": "code",
   "execution_count": 70,
   "id": "0821f2a5",
   "metadata": {},
   "outputs": [],
   "source": [
    "def search(dct, prod_name, quantity = 1):\n",
    "    print('-' * 50 )\n",
    "    for i in dct:\n",
    "        if (prod_name.lower() == (dct[i]['product_name']).lower()) and (quantity != 0):\n",
    "            print('Product Name                   : ',dct[i]['product_name'])\n",
    "            print('Category                       : ',dct[i]['product_category'])\n",
    "            print('Quantity                       : ',quantity)\n",
    "            print('Total amount                   :  Rs.',dct[i]['price'] * quantity)\n",
    "            if dct[i]['total'] >= quantity :\n",
    "                dct[i]['total'] = dct[i]['total'] - quantity                                   # direct from product purchase\n",
    "            else:\n",
    "                print('-' * 50)  \n",
    "                print('Currently Not Available')\n",
    "            print('-' * 50)           "
   ]
  },
  {
   "cell_type": "code",
   "execution_count": 72,
   "id": "507d1366",
   "metadata": {},
   "outputs": [
    {
     "name": "stdout",
     "output_type": "stream",
     "text": [
      "Enter the product name : apple watch\n",
      "--------------------------------------------------\n",
      "Product Name                   :  Apple Watch\n",
      "Category                       :  Wearables\n",
      "Quantity                       :  1\n",
      "Total amount                   :  Rs. 25499\n",
      "--------------------------------------------------\n"
     ]
    }
   ],
   "source": [
    "prod_name = str(input('Enter the product name : '))\n",
    "search(dct,prod_name)"
   ]
  },
  {
   "cell_type": "markdown",
   "id": "697f06bb",
   "metadata": {},
   "source": [
    "### Searching based on incomplete product name"
   ]
  },
  {
   "cell_type": "code",
   "execution_count": 9,
   "id": "48389041",
   "metadata": {},
   "outputs": [
    {
     "name": "stdout",
     "output_type": "stream",
     "text": [
      "Enter the product name :a\n",
      "--------------------------------------------------\n",
      "Product Name :  Apple Watch\n",
      "Category     :  Wearables\n",
      "Price        :  Rs. 25499\n",
      "--------------------------------------------------\n"
     ]
    }
   ],
   "source": [
    "prod_name = str(input('Enter the product name :'))\n",
    "print('-' * 50)\n",
    "for i in dct:\n",
    "    if (prod_name.lower() in (dct[i]['product_category']).lower()):\n",
    "        print('Product Name : ',dct[i]['product_name'])\n",
    "        print('Category     : ',dct[i]['product_category'])\n",
    "        print('Price        :  Rs.',dct[i]['price'])\n",
    "        print('-' * 50)"
   ]
  },
  {
   "cell_type": "markdown",
   "id": "61f28389",
   "metadata": {},
   "source": [
    "### Searching based on price range "
   ]
  },
  {
   "cell_type": "code",
   "execution_count": 8,
   "id": "91171b4e",
   "metadata": {},
   "outputs": [
    {
     "name": "stdout",
     "output_type": "stream",
     "text": [
      "Enter your price range : 500\n",
      "--------------------------------------------------\n",
      "Product Name :  Boult Earbuds\n",
      "Category     :  Electronics\n",
      "Price        :  Rs. 499\n",
      "--------------------------------------------------\n",
      "Product Name :  Boult Airbass\n",
      "Category     :  earphones\n",
      "Price        :  Rs. 500\n",
      "--------------------------------------------------\n"
     ]
    }
   ],
   "source": [
    "p_range = int(input('Enter your price range : '))\n",
    "print('-' * 50 )\n",
    "for i in dct:\n",
    "    if dct[i]['price'] <= p_range:\n",
    "        print('Product Name : ',dct[i]['product_name'])\n",
    "        print('Category     : ',dct[i]['product_category'])\n",
    "        print('Price        :  Rs.',dct[i]['price'])\n",
    "        print('-' * 50 )"
   ]
  },
  {
   "cell_type": "markdown",
   "id": "96db1603",
   "metadata": {},
   "source": [
    "## product overview\n"
   ]
  },
  {
   "cell_type": "code",
   "execution_count": 13,
   "id": "e1c3d686",
   "metadata": {},
   "outputs": [
    {
     "name": "stdout",
     "output_type": "stream",
     "text": [
      "Enter your name               : raju\n",
      "Enter your delivery address   : juhu chaupati\n",
      "--------------------------------------------------\n",
      "Name of the product              :  Boult Earbuds\n",
      "Grand total                      :  499\n",
      "Delivery address                 :  juhu chaupati\n",
      "date of delivery                 :  2023-02-17\n",
      "--------------------------------------------------\n",
      "Name of the product              :  Acer Laptop\n",
      "Grand total                      :  14999\n",
      "Delivery address                 :  juhu chaupati\n",
      "date of delivery                 :  2023-02-20\n",
      "--------------------------------------------------\n",
      "Name of the product              :  Nike Shoes\n",
      "Grand total                      :  1499\n",
      "Delivery address                 :  juhu chaupati\n",
      "date of delivery                 :  2023-02-20\n",
      "--------------------------------------------------\n",
      "--------------------------------------------------\n",
      "Name of the product              :  Apple Watch\n",
      "Grand total                      :  25499\n",
      "Delivery address                 :  juhu chaupati\n",
      "date of delivery                 :  2023-02-16\n",
      "--------------------------------------------------\n",
      "--------------------------------------------------\n"
     ]
    }
   ],
   "source": [
    "# setting the delivery date\n",
    "def del_date():\n",
    "    t_day = datetime.date.today()\n",
    "    tdelta = datetime.timedelta(days = random.randint(1,7))\n",
    "    return (t_day + tdelta)\n",
    "\n",
    "name     = input('Enter your name               : ')\n",
    "address  = input('Enter your delivery address   : ') \n",
    "print('-'*50)\n",
    "for i in dct:\n",
    "    if prod_name.lower() in dct[i]['product_name'].lower():\n",
    "        print('Name of the product              : ',dct[i]['product_name'])\n",
    "        print('Grand total                      : ',dct[i]['price'])\n",
    "        print('Delivery address                 : ',address)\n",
    "        print('date of delivery                 : ',del_date())\n",
    "    print('-'*50)"
   ]
  },
  {
   "cell_type": "code",
   "execution_count": null,
   "id": "7bf29552",
   "metadata": {},
   "outputs": [],
   "source": []
  },
  {
   "cell_type": "code",
   "execution_count": null,
   "id": "441b8aab",
   "metadata": {},
   "outputs": [],
   "source": []
  },
  {
   "cell_type": "code",
   "execution_count": null,
   "id": "aa995f96",
   "metadata": {},
   "outputs": [],
   "source": []
  }
 ],
 "metadata": {
  "kernelspec": {
   "display_name": "Python 3 (ipykernel)",
   "language": "python",
   "name": "python3"
  },
  "language_info": {
   "codemirror_mode": {
    "name": "ipython",
    "version": 3
   },
   "file_extension": ".py",
   "mimetype": "text/x-python",
   "name": "python",
   "nbconvert_exporter": "python",
   "pygments_lexer": "ipython3",
   "version": "3.10.6"
  },
  "vscode": {
   "interpreter": {
    "hash": "1c4eeb78d5e1dc6cb6e62b5bd20620b702dce5b8b8ded6688ef7aad2e1c0d17c"
   }
  }
 },
 "nbformat": 4,
 "nbformat_minor": 5
}

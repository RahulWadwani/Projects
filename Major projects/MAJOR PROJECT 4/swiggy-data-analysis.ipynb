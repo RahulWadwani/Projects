{
 "cells": [
  {
   "cell_type": "code",
   "execution_count": 1,
   "id": "148a97f9",
   "metadata": {
    "_cell_guid": "b1076dfc-b9ad-4769-8c92-a6c4dae69d19",
    "_uuid": "8f2839f25d086af736a60e9eeb907d3b93b6e0e5",
    "execution": {
     "iopub.execute_input": "2023-03-20T14:34:39.993635Z",
     "iopub.status.busy": "2023-03-20T14:34:39.992803Z",
     "iopub.status.idle": "2023-03-20T14:34:40.012474Z",
     "shell.execute_reply": "2023-03-20T14:34:40.011492Z"
    },
    "papermill": {
     "duration": 0.033897,
     "end_time": "2023-03-20T14:34:40.015199",
     "exception": false,
     "start_time": "2023-03-20T14:34:39.981302",
     "status": "completed"
    },
    "tags": []
   },
   "outputs": [
    {
     "name": "stdout",
     "output_type": "stream",
     "text": [
      "/kaggle/input/swiggy-restaurants-dataset/data.json\n",
      "/kaggle/input/swiggy-restaurants-dataset/swiggy.csv\n"
     ]
    }
   ],
   "source": [
    "import numpy as np \n",
    "import pandas as pd \n",
    "import os\n",
    "from json  import loads , dumps\n",
    "\n",
    "for dirname, _, filenames in os.walk('/kaggle/input'):\n",
    "    for filename in filenames:\n",
    "        print(os.path.join(dirname, filename))"
   ]
  },
  {
   "cell_type": "markdown",
   "id": "83f549b3",
   "metadata": {
    "papermill": {
     "duration": 0.008169,
     "end_time": "2023-03-20T14:34:40.032129",
     "exception": false,
     "start_time": "2023-03-20T14:34:40.023960",
     "status": "completed"
    },
    "tags": []
   },
   "source": [
    "## 1. Loading the swiggy dataset (JSON file)"
   ]
  },
  {
   "cell_type": "code",
   "execution_count": 2,
   "id": "ca8e7089",
   "metadata": {
    "execution": {
     "iopub.execute_input": "2023-03-20T14:34:40.052007Z",
     "iopub.status.busy": "2023-03-20T14:34:40.051363Z",
     "iopub.status.idle": "2023-03-20T14:35:11.541063Z",
     "shell.execute_reply": "2023-03-20T14:35:11.540044Z"
    },
    "papermill": {
     "duration": 31.503312,
     "end_time": "2023-03-20T14:35:11.543885",
     "exception": false,
     "start_time": "2023-03-20T14:34:40.040573",
     "status": "completed"
    },
    "tags": []
   },
   "outputs": [],
   "source": [
    "file = open('/kaggle/input/swiggy-restaurants-dataset/data.json','r')\n",
    "data = file.read()\n",
    "file.close()\n",
    "js = loads(data)"
   ]
  },
  {
   "cell_type": "markdown",
   "id": "76ae67fe",
   "metadata": {
    "papermill": {
     "duration": 0.008179,
     "end_time": "2023-03-20T14:35:11.561045",
     "exception": false,
     "start_time": "2023-03-20T14:35:11.552866",
     "status": "completed"
    },
    "tags": []
   },
   "source": [
    "## 2. Dataset walkthrough "
   ]
  },
  {
   "cell_type": "markdown",
   "id": "717b96a4",
   "metadata": {
    "papermill": {
     "duration": 0.008039,
     "end_time": "2023-03-20T14:35:11.577330",
     "exception": false,
     "start_time": "2023-03-20T14:35:11.569291",
     "status": "completed"
    },
    "tags": []
   },
   "source": [
    "#### 2.1) how many cities are present in the given dataset "
   ]
  },
  {
   "cell_type": "code",
   "execution_count": 3,
   "id": "17a65347",
   "metadata": {
    "execution": {
     "iopub.execute_input": "2023-03-20T14:35:11.595419Z",
     "iopub.status.busy": "2023-03-20T14:35:11.595070Z",
     "iopub.status.idle": "2023-03-20T14:35:11.600450Z",
     "shell.execute_reply": "2023-03-20T14:35:11.599519Z"
    },
    "papermill": {
     "duration": 0.017049,
     "end_time": "2023-03-20T14:35:11.602693",
     "exception": false,
     "start_time": "2023-03-20T14:35:11.585644",
     "status": "completed"
    },
    "tags": []
   },
   "outputs": [
    {
     "name": "stdout",
     "output_type": "stream",
     "text": [
      "623\n"
     ]
    }
   ],
   "source": [
    "print(len(js.keys()))"
   ]
  },
  {
   "cell_type": "markdown",
   "id": "bb884624",
   "metadata": {
    "papermill": {
     "duration": 0.008421,
     "end_time": "2023-03-20T14:35:11.619644",
     "exception": false,
     "start_time": "2023-03-20T14:35:11.611223",
     "status": "completed"
    },
    "tags": []
   },
   "source": [
    "#### 2.2) how many restaurants are present in a particular city "
   ]
  },
  {
   "cell_type": "code",
   "execution_count": 4,
   "id": "944a09c2",
   "metadata": {
    "execution": {
     "iopub.execute_input": "2023-03-20T14:35:11.641434Z",
     "iopub.status.busy": "2023-03-20T14:35:11.641040Z",
     "iopub.status.idle": "2023-03-20T14:35:11.649085Z",
     "shell.execute_reply": "2023-03-20T14:35:11.647398Z"
    },
    "papermill": {
     "duration": 0.023352,
     "end_time": "2023-03-20T14:35:11.652760",
     "exception": false,
     "start_time": "2023-03-20T14:35:11.629408",
     "status": "completed"
    },
    "tags": []
   },
   "outputs": [
    {
     "name": "stdout",
     "output_type": "stream",
     "text": [
      "63\n"
     ]
    }
   ],
   "source": [
    "print(len(js['Abohar']['restaurants'].keys()))"
   ]
  },
  {
   "cell_type": "markdown",
   "id": "96f38d89",
   "metadata": {
    "papermill": {
     "duration": 0.008358,
     "end_time": "2023-03-20T14:35:11.677019",
     "exception": false,
     "start_time": "2023-03-20T14:35:11.668661",
     "status": "completed"
    },
    "tags": []
   },
   "source": [
    "#### 2.3) All restaurant is serving how many number of different menu products category in Abohar?"
   ]
  },
  {
   "cell_type": "code",
   "execution_count": 5,
   "id": "2bd1f0ad",
   "metadata": {
    "execution": {
     "iopub.execute_input": "2023-03-20T14:35:11.695367Z",
     "iopub.status.busy": "2023-03-20T14:35:11.695058Z",
     "iopub.status.idle": "2023-03-20T14:35:11.703042Z",
     "shell.execute_reply": "2023-03-20T14:35:11.701099Z"
    },
    "papermill": {
     "duration": 0.019931,
     "end_time": "2023-03-20T14:35:11.705665",
     "exception": false,
     "start_time": "2023-03-20T14:35:11.685734",
     "status": "completed"
    },
    "tags": []
   },
   "outputs": [
    {
     "name": "stdout",
     "output_type": "stream",
     "text": [
      "AB FOODS POINT | 17\n",
      "Janta Sweet House | 21\n",
      "theka coffee desi | 29\n",
      "Singh Hut | 11\n",
      "GRILL MASTERS | 16\n",
      "Sam Uncle | 8\n",
      "shere punjab veg | 8\n",
      "Shri Balaji Vaishno Dhaba | 3\n",
      "Hinglaj Kachori Bhandhar | 2\n",
      "yummy hub | 2\n",
      "CHAWLA SAAB THE JUICE MASTER | 17\n",
      "Sethi Milk Badam | 2\n",
      "Swastik Dhaba | 7\n",
      "Jodhpuri Kachori | 1\n",
      "Bharawan Da Dhaba | 7\n",
      "Tandoori Nights | 8\n",
      "Rahul Food | 0\n",
      "Roll Express | 2\n",
      "wah ji waah veg and non veg corner | 8\n",
      "Shri Balaji fast food and Variety store | 15\n",
      "FOODY MOOD | 7\n",
      "PUNJABI TADKA | 3\n",
      "PUNJABI TADKA CHICKEN HUB | 3\n",
      "Royal Chicken | 7\n",
      "Just Baked | 10\n",
      "Picado International Food | 23\n",
      "PubG Cafe | 20\n",
      "Verma Dhaba | 4\n",
      "Fresh Food Cafe | 23\n",
      "NAVU PIZZA HOUSE | 6\n",
      "Domino's Pizza | 10\n",
      "Joker Cafe | 15\n",
      "Deepak Dhaba | 4\n",
      "FUN TIME (SHARMA DAIRY) | 3\n",
      "Pari Healthy Food | 4\n",
      "Bhatti Ki Rasoi | 2\n",
      "SETHI PUNJABI RASOI | 6\n",
      "Kurda Ram Desi Ghee Dhaba(Original & Famous) | 7\n",
      "Paratha 24x7 | 3\n",
      "NIKKU VEG THALI | 8\n",
      "PARJAPATI FAST FOOD | 1\n",
      "Ganesh Fast Food | 5\n",
      "Mitran Da dhaba | 1\n",
      "The Super Cafe | 2\n",
      "chacha sweets house | 17\n",
      "Cafe M | 2\n",
      "Frankie roll junction | 1\n",
      "G.K Dhaba | 4\n",
      "DAYA RAJ VEG VAISHNO DHABA AND  CATERS | 2\n",
      "JUICY BAR N RESTO | 21\n",
      "FresHub | 6\n",
      "The Food Factory | 9\n",
      "MUNNA PUNJABI RASOI | 8\n",
      "Grill Master By Sharda Anita Enterprises | 17\n",
      "Maruti Plaza | 9\n",
      "Nikku Chaap Cafe | 13\n",
      "DK Food Point | 1\n",
      "TUMMY CLINIK FAST FOOD CORNER | 8\n",
      "Sagar Fast Food | 9\n",
      "SUDESH FAST FOOD | 6\n",
      "Sonu Tandoori Paties | 1\n",
      "Bihari da vaishno dhaba | 5\n",
      "SHRI GANESH SWEET HOUSE | 2\n"
     ]
    }
   ],
   "source": [
    "for i in js['Abohar']['restaurants'].keys():\n",
    "    print(js['Abohar']['restaurants'][i]['name'],'|',len(js['Abohar']['restaurants'][i]['menu'].keys()))"
   ]
  },
  {
   "cell_type": "markdown",
   "id": "d74df29b",
   "metadata": {
    "papermill": {
     "duration": 0.008384,
     "end_time": "2023-03-20T14:35:11.722489",
     "exception": false,
     "start_time": "2023-03-20T14:35:11.714105",
     "status": "completed"
    },
    "tags": []
   },
   "source": [
    "#### 2.4) Find the Restaurants with no Menu in Abohar?"
   ]
  },
  {
   "cell_type": "code",
   "execution_count": 6,
   "id": "169cc275",
   "metadata": {
    "execution": {
     "iopub.execute_input": "2023-03-20T14:35:11.740992Z",
     "iopub.status.busy": "2023-03-20T14:35:11.740658Z",
     "iopub.status.idle": "2023-03-20T14:35:11.746234Z",
     "shell.execute_reply": "2023-03-20T14:35:11.745222Z"
    },
    "papermill": {
     "duration": 0.018203,
     "end_time": "2023-03-20T14:35:11.749352",
     "exception": false,
     "start_time": "2023-03-20T14:35:11.731149",
     "status": "completed"
    },
    "tags": []
   },
   "outputs": [
    {
     "name": "stdout",
     "output_type": "stream",
     "text": [
      "Rahul Food | 453869\n"
     ]
    }
   ],
   "source": [
    "for i in js['Abohar']['restaurants'].keys():\n",
    "    if len(js['Abohar']['restaurants'][i]['menu']) == 0:\n",
    "        print(js['Abohar']['restaurants'][i]['name'],'|',i)\n",
    "    \n",
    "\n",
    "          "
   ]
  },
  {
   "cell_type": "markdown",
   "id": "46479f5c",
   "metadata": {
    "papermill": {
     "duration": 0.008321,
     "end_time": "2023-03-20T14:35:11.767626",
     "exception": false,
     "start_time": "2023-03-20T14:35:11.759305",
     "status": "completed"
    },
    "tags": []
   },
   "source": [
    "#### 2.5) different cuisines surved in abohar "
   ]
  },
  {
   "cell_type": "code",
   "execution_count": 7,
   "id": "8ffa5ef0",
   "metadata": {
    "execution": {
     "iopub.execute_input": "2023-03-20T14:35:11.786432Z",
     "iopub.status.busy": "2023-03-20T14:35:11.785618Z",
     "iopub.status.idle": "2023-03-20T14:35:11.792066Z",
     "shell.execute_reply": "2023-03-20T14:35:11.791052Z"
    },
    "papermill": {
     "duration": 0.018501,
     "end_time": "2023-03-20T14:35:11.794689",
     "exception": false,
     "start_time": "2023-03-20T14:35:11.776188",
     "status": "completed"
    },
    "tags": []
   },
   "outputs": [
    {
     "name": "stdout",
     "output_type": "stream",
     "text": [
      "22\n"
     ]
    }
   ],
   "source": [
    "cuisines = []\n",
    "for i in js['Abohar']['restaurants'].keys():\n",
    "    cuisines += (js['Abohar']['restaurants'][i]['cuisine'].split(','))\n",
    "cuisines = list(set(cuisines))\n",
    "print(len(cuisines))"
   ]
  },
  {
   "cell_type": "markdown",
   "id": "608e9086",
   "metadata": {
    "papermill": {
     "duration": 0.009133,
     "end_time": "2023-03-20T14:35:11.813566",
     "exception": false,
     "start_time": "2023-03-20T14:35:11.804433",
     "status": "completed"
    },
    "tags": []
   },
   "source": [
    "#### 2.5) Most popular cuisine surved in Abohar(top 5)"
   ]
  },
  {
   "cell_type": "code",
   "execution_count": 8,
   "id": "0fcae1f5",
   "metadata": {
    "execution": {
     "iopub.execute_input": "2023-03-20T14:35:11.832695Z",
     "iopub.status.busy": "2023-03-20T14:35:11.831912Z",
     "iopub.status.idle": "2023-03-20T14:35:11.867998Z",
     "shell.execute_reply": "2023-03-20T14:35:11.867054Z"
    },
    "papermill": {
     "duration": 0.047666,
     "end_time": "2023-03-20T14:35:11.870029",
     "exception": false,
     "start_time": "2023-03-20T14:35:11.822363",
     "status": "completed"
    },
    "tags": []
   },
   "outputs": [
    {
     "data": {
      "text/html": [
       "<div>\n",
       "<style scoped>\n",
       "    .dataframe tbody tr th:only-of-type {\n",
       "        vertical-align: middle;\n",
       "    }\n",
       "\n",
       "    .dataframe tbody tr th {\n",
       "        vertical-align: top;\n",
       "    }\n",
       "\n",
       "    .dataframe thead th {\n",
       "        text-align: right;\n",
       "    }\n",
       "</style>\n",
       "<table border=\"1\" class=\"dataframe\">\n",
       "  <thead>\n",
       "    <tr style=\"text-align: right;\">\n",
       "      <th></th>\n",
       "      <th>item</th>\n",
       "      <th>freq</th>\n",
       "    </tr>\n",
       "  </thead>\n",
       "  <tbody>\n",
       "    <tr>\n",
       "      <th>21</th>\n",
       "      <td>Indian</td>\n",
       "      <td>31</td>\n",
       "    </tr>\n",
       "  </tbody>\n",
       "</table>\n",
       "</div>"
      ],
      "text/plain": [
       "      item  freq\n",
       "21  Indian    31"
      ]
     },
     "execution_count": 8,
     "metadata": {},
     "output_type": "execute_result"
    }
   ],
   "source": [
    "pop_cui = []\n",
    "for cuisine in cuisines:\n",
    "    c = 0\n",
    "    for i in js['Abohar']['restaurants'].keys():\n",
    "        if cuisine in (js['Abohar']['restaurants'][i]['cuisine']):\n",
    "            c += 1\n",
    "    pop_cui.append([cuisine,c])\n",
    "df = pd.DataFrame(pop_cui,columns =['item','freq'])\n",
    "df[df['freq'] == max(df['freq'])]   #  it prints only one cuisine"
   ]
  },
  {
   "cell_type": "code",
   "execution_count": 9,
   "id": "f0cd91f4",
   "metadata": {
    "execution": {
     "iopub.execute_input": "2023-03-20T14:35:11.888614Z",
     "iopub.status.busy": "2023-03-20T14:35:11.888337Z",
     "iopub.status.idle": "2023-03-20T14:35:11.900653Z",
     "shell.execute_reply": "2023-03-20T14:35:11.899655Z"
    },
    "papermill": {
     "duration": 0.023806,
     "end_time": "2023-03-20T14:35:11.902697",
     "exception": false,
     "start_time": "2023-03-20T14:35:11.878891",
     "status": "completed"
    },
    "tags": []
   },
   "outputs": [
    {
     "data": {
      "text/html": [
       "<div>\n",
       "<style scoped>\n",
       "    .dataframe tbody tr th:only-of-type {\n",
       "        vertical-align: middle;\n",
       "    }\n",
       "\n",
       "    .dataframe tbody tr th {\n",
       "        vertical-align: top;\n",
       "    }\n",
       "\n",
       "    .dataframe thead th {\n",
       "        text-align: right;\n",
       "    }\n",
       "</style>\n",
       "<table border=\"1\" class=\"dataframe\">\n",
       "  <thead>\n",
       "    <tr style=\"text-align: right;\">\n",
       "      <th></th>\n",
       "      <th>item</th>\n",
       "      <th>freq</th>\n",
       "    </tr>\n",
       "  </thead>\n",
       "  <tbody>\n",
       "    <tr>\n",
       "      <th>21</th>\n",
       "      <td>Indian</td>\n",
       "      <td>31</td>\n",
       "    </tr>\n",
       "    <tr>\n",
       "      <th>2</th>\n",
       "      <td>North Indian</td>\n",
       "      <td>20</td>\n",
       "    </tr>\n",
       "    <tr>\n",
       "      <th>15</th>\n",
       "      <td>Beverages</td>\n",
       "      <td>10</td>\n",
       "    </tr>\n",
       "    <tr>\n",
       "      <th>3</th>\n",
       "      <td>Chinese</td>\n",
       "      <td>9</td>\n",
       "    </tr>\n",
       "    <tr>\n",
       "      <th>16</th>\n",
       "      <td>Fast Food</td>\n",
       "      <td>9</td>\n",
       "    </tr>\n",
       "  </tbody>\n",
       "</table>\n",
       "</div>"
      ],
      "text/plain": [
       "            item  freq\n",
       "21        Indian    31\n",
       "2   North Indian    20\n",
       "15     Beverages    10\n",
       "3        Chinese     9\n",
       "16     Fast Food     9"
      ]
     },
     "execution_count": 9,
     "metadata": {},
     "output_type": "execute_result"
    }
   ],
   "source": [
    "## method 2 \n",
    "pop_cui = []\n",
    "for cuisine in cuisines:\n",
    "    c = 0\n",
    "    for i in js['Abohar']['restaurants'].keys():\n",
    "        if cuisine in (js['Abohar']['restaurants'][i]['cuisine']):\n",
    "            c += 1\n",
    "    pop_cui.append([cuisine,c])\n",
    "df = pd.DataFrame(pop_cui,columns =['item','freq'])\n",
    "df.sort_values(by='freq',ascending=False).head(5)\n"
   ]
  },
  {
   "cell_type": "markdown",
   "id": "d6aff186",
   "metadata": {
    "papermill": {
     "duration": 0.008633,
     "end_time": "2023-03-20T14:35:11.920158",
     "exception": false,
     "start_time": "2023-03-20T14:35:11.911525",
     "status": "completed"
    },
    "tags": []
   },
   "source": [
    "#### 2.6 ) average cost of eating outside in Abohar"
   ]
  },
  {
   "cell_type": "code",
   "execution_count": 10,
   "id": "1bb07e4c",
   "metadata": {
    "execution": {
     "iopub.execute_input": "2023-03-20T14:35:11.939571Z",
     "iopub.status.busy": "2023-03-20T14:35:11.938633Z",
     "iopub.status.idle": "2023-03-20T14:35:11.946149Z",
     "shell.execute_reply": "2023-03-20T14:35:11.944676Z"
    },
    "papermill": {
     "duration": 0.020169,
     "end_time": "2023-03-20T14:35:11.949101",
     "exception": false,
     "start_time": "2023-03-20T14:35:11.928932",
     "status": "completed"
    },
    "tags": []
   },
   "outputs": [
    {
     "name": "stdout",
     "output_type": "stream",
     "text": [
      "Average cost of eating outside in abohar is : Rs. 232.7\n"
     ]
    }
   ],
   "source": [
    "cost = []\n",
    "for i in js['Abohar']['restaurants'].keys():\n",
    "    cost.append(int(js['Abohar']['restaurants'][i]['cost'].split(' ')[-1]))\n",
    "avg_cost = (round(sum(cost)/len(cost),2))\n",
    "print('Average cost of eating outside in abohar is : Rs. '+str(avg_cost))\n",
    "       "
   ]
  },
  {
   "cell_type": "markdown",
   "id": "9d73c68e",
   "metadata": {
    "papermill": {
     "duration": 0.00929,
     "end_time": "2023-03-20T14:35:11.968059",
     "exception": false,
     "start_time": "2023-03-20T14:35:11.958769",
     "status": "completed"
    },
    "tags": []
   },
   "source": [
    "#### 2.7) average cost of eating north indian in Abohar"
   ]
  },
  {
   "cell_type": "code",
   "execution_count": 11,
   "id": "8a4bb692",
   "metadata": {
    "execution": {
     "iopub.execute_input": "2023-03-20T14:35:11.987880Z",
     "iopub.status.busy": "2023-03-20T14:35:11.987034Z",
     "iopub.status.idle": "2023-03-20T14:35:11.994241Z",
     "shell.execute_reply": "2023-03-20T14:35:11.992791Z"
    },
    "papermill": {
     "duration": 0.019524,
     "end_time": "2023-03-20T14:35:11.996735",
     "exception": false,
     "start_time": "2023-03-20T14:35:11.977211",
     "status": "completed"
    },
    "tags": []
   },
   "outputs": [
    {
     "name": "stdout",
     "output_type": "stream",
     "text": [
      "243\n"
     ]
    }
   ],
   "source": [
    "price = []\n",
    "for i in js['Abohar']['restaurants'].keys():\n",
    "    if 'North Indian' in js['Abohar']['restaurants'][i]['cuisine']:\n",
    "        price.append(int(js['Abohar']['restaurants'][i]['cost'].split(' ')[-1]))\n",
    "print(sum(price)//len(price))"
   ]
  },
  {
   "cell_type": "markdown",
   "id": "e9058dcd",
   "metadata": {
    "papermill": {
     "duration": 0.008919,
     "end_time": "2023-03-20T14:35:12.015600",
     "exception": false,
     "start_time": "2023-03-20T14:35:12.006681",
     "status": "completed"
    },
    "tags": []
   },
   "source": [
    "#### 2.8) Average cost of each cusine in Abohar "
   ]
  },
  {
   "cell_type": "code",
   "execution_count": 12,
   "id": "6dd4f01c",
   "metadata": {
    "execution": {
     "iopub.execute_input": "2023-03-20T14:35:12.035592Z",
     "iopub.status.busy": "2023-03-20T14:35:12.034711Z",
     "iopub.status.idle": "2023-03-20T14:35:12.047675Z",
     "shell.execute_reply": "2023-03-20T14:35:12.046638Z"
    },
    "papermill": {
     "duration": 0.025037,
     "end_time": "2023-03-20T14:35:12.049691",
     "exception": false,
     "start_time": "2023-03-20T14:35:12.024654",
     "status": "completed"
    },
    "tags": []
   },
   "outputs": [
    {
     "data": {
      "text/html": [
       "<div>\n",
       "<style scoped>\n",
       "    .dataframe tbody tr th:only-of-type {\n",
       "        vertical-align: middle;\n",
       "    }\n",
       "\n",
       "    .dataframe tbody tr th {\n",
       "        vertical-align: top;\n",
       "    }\n",
       "\n",
       "    .dataframe thead th {\n",
       "        text-align: right;\n",
       "    }\n",
       "</style>\n",
       "<table border=\"1\" class=\"dataframe\">\n",
       "  <thead>\n",
       "    <tr style=\"text-align: right;\">\n",
       "      <th></th>\n",
       "      <th>cuisine</th>\n",
       "      <th>avg_cost</th>\n",
       "    </tr>\n",
       "  </thead>\n",
       "  <tbody>\n",
       "    <tr>\n",
       "      <th>0</th>\n",
       "      <td>Sweets</td>\n",
       "      <td>166</td>\n",
       "    </tr>\n",
       "    <tr>\n",
       "      <th>1</th>\n",
       "      <td>Desserts</td>\n",
       "      <td>100</td>\n",
       "    </tr>\n",
       "    <tr>\n",
       "      <th>2</th>\n",
       "      <td>North Indian</td>\n",
       "      <td>243</td>\n",
       "    </tr>\n",
       "    <tr>\n",
       "      <th>3</th>\n",
       "      <td>Chinese</td>\n",
       "      <td>266</td>\n",
       "    </tr>\n",
       "    <tr>\n",
       "      <th>4</th>\n",
       "      <td>Continental</td>\n",
       "      <td>200</td>\n",
       "    </tr>\n",
       "  </tbody>\n",
       "</table>\n",
       "</div>"
      ],
      "text/plain": [
       "        cuisine  avg_cost\n",
       "0        Sweets       166\n",
       "1      Desserts       100\n",
       "2  North Indian       243\n",
       "3       Chinese       266\n",
       "4   Continental       200"
      ]
     },
     "execution_count": 12,
     "metadata": {},
     "output_type": "execute_result"
    }
   ],
   "source": [
    "avg_cuisine = []\n",
    "for cuisine in cuisines:\n",
    "    price = []\n",
    "    for i in js['Abohar']['restaurants'].keys():\n",
    "        if cuisine in js['Abohar']['restaurants'][i]['cuisine']:\n",
    "            price.append(int(js['Abohar']['restaurants'][i]['cost'].split(' ')[-1]))\n",
    "    avg_cuisine.append([cuisine,sum(price)//len(price)])\n",
    "avg_cuisine = pd.DataFrame(avg_cuisine,columns = ['cuisine','avg_cost'])\n",
    "avg_cuisine.head()"
   ]
  },
  {
   "cell_type": "markdown",
   "id": "005884a8",
   "metadata": {
    "papermill": {
     "duration": 0.00922,
     "end_time": "2023-03-20T14:35:12.068366",
     "exception": false,
     "start_time": "2023-03-20T14:35:12.059146",
     "status": "completed"
    },
    "tags": []
   },
   "source": [
    "#### 2.8) top 5 expensive cuisine in Abohar"
   ]
  },
  {
   "cell_type": "code",
   "execution_count": 13,
   "id": "998f017c",
   "metadata": {
    "execution": {
     "iopub.execute_input": "2023-03-20T14:35:12.088976Z",
     "iopub.status.busy": "2023-03-20T14:35:12.088143Z",
     "iopub.status.idle": "2023-03-20T14:35:12.097917Z",
     "shell.execute_reply": "2023-03-20T14:35:12.096845Z"
    },
    "papermill": {
     "duration": 0.02198,
     "end_time": "2023-03-20T14:35:12.099975",
     "exception": false,
     "start_time": "2023-03-20T14:35:12.077995",
     "status": "completed"
    },
    "tags": []
   },
   "outputs": [
    {
     "data": {
      "text/html": [
       "<div>\n",
       "<style scoped>\n",
       "    .dataframe tbody tr th:only-of-type {\n",
       "        vertical-align: middle;\n",
       "    }\n",
       "\n",
       "    .dataframe tbody tr th {\n",
       "        vertical-align: top;\n",
       "    }\n",
       "\n",
       "    .dataframe thead th {\n",
       "        text-align: right;\n",
       "    }\n",
       "</style>\n",
       "<table border=\"1\" class=\"dataframe\">\n",
       "  <thead>\n",
       "    <tr style=\"text-align: right;\">\n",
       "      <th></th>\n",
       "      <th>cuisine</th>\n",
       "      <th>avg_cost</th>\n",
       "    </tr>\n",
       "  </thead>\n",
       "  <tbody>\n",
       "    <tr>\n",
       "      <th>6</th>\n",
       "      <td>Punjabi</td>\n",
       "      <td>700</td>\n",
       "    </tr>\n",
       "    <tr>\n",
       "      <th>11</th>\n",
       "      <td>Tandoor</td>\n",
       "      <td>475</td>\n",
       "    </tr>\n",
       "    <tr>\n",
       "      <th>18</th>\n",
       "      <td>Juices</td>\n",
       "      <td>300</td>\n",
       "    </tr>\n",
       "    <tr>\n",
       "      <th>17</th>\n",
       "      <td>Ice Cream</td>\n",
       "      <td>300</td>\n",
       "    </tr>\n",
       "    <tr>\n",
       "      <th>9</th>\n",
       "      <td>Pizzas</td>\n",
       "      <td>287</td>\n",
       "    </tr>\n",
       "  </tbody>\n",
       "</table>\n",
       "</div>"
      ],
      "text/plain": [
       "      cuisine  avg_cost\n",
       "6     Punjabi       700\n",
       "11    Tandoor       475\n",
       "18     Juices       300\n",
       "17  Ice Cream       300\n",
       "9      Pizzas       287"
      ]
     },
     "execution_count": 13,
     "metadata": {},
     "output_type": "execute_result"
    }
   ],
   "source": [
    "avg_cuisine.sort_values(by ='avg_cost',ascending=False).head()"
   ]
  },
  {
   "cell_type": "markdown",
   "id": "c34254e3",
   "metadata": {
    "papermill": {
     "duration": 0.009165,
     "end_time": "2023-03-20T14:35:12.118539",
     "exception": false,
     "start_time": "2023-03-20T14:35:12.109374",
     "status": "completed"
    },
    "tags": []
   },
   "source": [
    "#### 2.9) top 5 cheapest cuisine in Abohar"
   ]
  },
  {
   "cell_type": "code",
   "execution_count": 14,
   "id": "8a5f6e1b",
   "metadata": {
    "execution": {
     "iopub.execute_input": "2023-03-20T14:35:12.139046Z",
     "iopub.status.busy": "2023-03-20T14:35:12.138134Z",
     "iopub.status.idle": "2023-03-20T14:35:12.147645Z",
     "shell.execute_reply": "2023-03-20T14:35:12.146662Z"
    },
    "papermill": {
     "duration": 0.021626,
     "end_time": "2023-03-20T14:35:12.149620",
     "exception": false,
     "start_time": "2023-03-20T14:35:12.127994",
     "status": "completed"
    },
    "tags": []
   },
   "outputs": [
    {
     "data": {
      "text/html": [
       "<div>\n",
       "<style scoped>\n",
       "    .dataframe tbody tr th:only-of-type {\n",
       "        vertical-align: middle;\n",
       "    }\n",
       "\n",
       "    .dataframe tbody tr th {\n",
       "        vertical-align: top;\n",
       "    }\n",
       "\n",
       "    .dataframe thead th {\n",
       "        text-align: right;\n",
       "    }\n",
       "</style>\n",
       "<table border=\"1\" class=\"dataframe\">\n",
       "  <thead>\n",
       "    <tr style=\"text-align: right;\">\n",
       "      <th></th>\n",
       "      <th>cuisine</th>\n",
       "      <th>avg_cost</th>\n",
       "    </tr>\n",
       "  </thead>\n",
       "  <tbody>\n",
       "    <tr>\n",
       "      <th>1</th>\n",
       "      <td>Desserts</td>\n",
       "      <td>100</td>\n",
       "    </tr>\n",
       "    <tr>\n",
       "      <th>10</th>\n",
       "      <td>Chaat</td>\n",
       "      <td>116</td>\n",
       "    </tr>\n",
       "    <tr>\n",
       "      <th>0</th>\n",
       "      <td>Sweets</td>\n",
       "      <td>166</td>\n",
       "    </tr>\n",
       "    <tr>\n",
       "      <th>14</th>\n",
       "      <td>Snacks</td>\n",
       "      <td>192</td>\n",
       "    </tr>\n",
       "    <tr>\n",
       "      <th>4</th>\n",
       "      <td>Continental</td>\n",
       "      <td>200</td>\n",
       "    </tr>\n",
       "  </tbody>\n",
       "</table>\n",
       "</div>"
      ],
      "text/plain": [
       "        cuisine  avg_cost\n",
       "1      Desserts       100\n",
       "10        Chaat       116\n",
       "0        Sweets       166\n",
       "14       Snacks       192\n",
       "4   Continental       200"
      ]
     },
     "execution_count": 14,
     "metadata": {},
     "output_type": "execute_result"
    }
   ],
   "source": [
    "avg_cuisine.sort_values(by ='avg_cost',ascending=True).head()"
   ]
  },
  {
   "cell_type": "markdown",
   "id": "0654d20b",
   "metadata": {
    "papermill": {
     "duration": 0.00935,
     "end_time": "2023-03-20T14:35:12.168410",
     "exception": false,
     "start_time": "2023-03-20T14:35:12.159060",
     "status": "completed"
    },
    "tags": []
   },
   "source": [
    "# 3.Dataset Walkthrough -whole\n",
    "#### 3.1) how many restaurants are there in each city ?\n"
   ]
  },
  {
   "cell_type": "code",
   "execution_count": 15,
   "id": "b42f34dd",
   "metadata": {
    "execution": {
     "iopub.execute_input": "2023-03-20T14:35:12.188985Z",
     "iopub.status.busy": "2023-03-20T14:35:12.188174Z",
     "iopub.status.idle": "2023-03-20T14:35:12.197137Z",
     "shell.execute_reply": "2023-03-20T14:35:12.196270Z"
    },
    "papermill": {
     "duration": 0.021254,
     "end_time": "2023-03-20T14:35:12.199083",
     "exception": false,
     "start_time": "2023-03-20T14:35:12.177829",
     "status": "completed"
    },
    "tags": []
   },
   "outputs": [],
   "source": [
    "rest_city = []\n",
    "for i in js.keys():\n",
    "    c = 0\n",
    "    if 'restaurants' in js[i].keys():\n",
    "        c = len(js[i]['restaurants'])\n",
    "    else:\n",
    "        for region in js[i].keys():\n",
    "            if 'restaurants' in js[i][region].keys():\n",
    "                c = len(js[i][region]['restaurants'])\n",
    "    rest_city.append([i,c])\n",
    "\n",
    "rest_city = pd.DataFrame(rest_city,columns=['city','total_restaurants'])\n",
    "   "
   ]
  },
  {
   "cell_type": "markdown",
   "id": "1abf9d1f",
   "metadata": {
    "papermill": {
     "duration": 0.009221,
     "end_time": "2023-03-20T14:35:12.217665",
     "exception": false,
     "start_time": "2023-03-20T14:35:12.208444",
     "status": "completed"
    },
    "tags": []
   },
   "source": [
    "#### 3.2) top 5 cities maximum number of restaurants "
   ]
  },
  {
   "cell_type": "code",
   "execution_count": 16,
   "id": "6f12e57c",
   "metadata": {
    "execution": {
     "iopub.execute_input": "2023-03-20T14:35:12.238232Z",
     "iopub.status.busy": "2023-03-20T14:35:12.237940Z",
     "iopub.status.idle": "2023-03-20T14:35:12.247919Z",
     "shell.execute_reply": "2023-03-20T14:35:12.246929Z"
    },
    "papermill": {
     "duration": 0.022494,
     "end_time": "2023-03-20T14:35:12.250134",
     "exception": false,
     "start_time": "2023-03-20T14:35:12.227640",
     "status": "completed"
    },
    "tags": []
   },
   "outputs": [
    {
     "data": {
      "text/html": [
       "<div>\n",
       "<style scoped>\n",
       "    .dataframe tbody tr th:only-of-type {\n",
       "        vertical-align: middle;\n",
       "    }\n",
       "\n",
       "    .dataframe tbody tr th {\n",
       "        vertical-align: top;\n",
       "    }\n",
       "\n",
       "    .dataframe thead th {\n",
       "        text-align: right;\n",
       "    }\n",
       "</style>\n",
       "<table border=\"1\" class=\"dataframe\">\n",
       "  <thead>\n",
       "    <tr style=\"text-align: right;\">\n",
       "      <th></th>\n",
       "      <th>city</th>\n",
       "      <th>total_restaurants</th>\n",
       "    </tr>\n",
       "  </thead>\n",
       "  <tbody>\n",
       "    <tr>\n",
       "      <th>104</th>\n",
       "      <td>Bikaner</td>\n",
       "      <td>1673</td>\n",
       "    </tr>\n",
       "    <tr>\n",
       "      <th>545</th>\n",
       "      <td>Sirsa</td>\n",
       "      <td>1659</td>\n",
       "    </tr>\n",
       "    <tr>\n",
       "      <th>559</th>\n",
       "      <td>Sultanpur</td>\n",
       "      <td>1430</td>\n",
       "    </tr>\n",
       "    <tr>\n",
       "      <th>433</th>\n",
       "      <td>Noida-1</td>\n",
       "      <td>1428</td>\n",
       "    </tr>\n",
       "    <tr>\n",
       "      <th>49</th>\n",
       "      <td>Bangalore</td>\n",
       "      <td>1396</td>\n",
       "    </tr>\n",
       "  </tbody>\n",
       "</table>\n",
       "</div>"
      ],
      "text/plain": [
       "          city  total_restaurants\n",
       "104    Bikaner               1673\n",
       "545      Sirsa               1659\n",
       "559  Sultanpur               1430\n",
       "433    Noida-1               1428\n",
       "49   Bangalore               1396"
      ]
     },
     "execution_count": 16,
     "metadata": {},
     "output_type": "execute_result"
    }
   ],
   "source": [
    "rest_city.sort_values(by = 'total_restaurants',ascending =False).head()"
   ]
  },
  {
   "cell_type": "markdown",
   "id": "4bb5af76",
   "metadata": {
    "papermill": {
     "duration": 0.009205,
     "end_time": "2023-03-20T14:35:12.269348",
     "exception": false,
     "start_time": "2023-03-20T14:35:12.260143",
     "status": "completed"
    },
    "tags": []
   },
   "source": [
    "#### 3.3) how many restaurants have no menu or empty menu "
   ]
  },
  {
   "cell_type": "code",
   "execution_count": 17,
   "id": "eaa8d1ff",
   "metadata": {
    "execution": {
     "iopub.execute_input": "2023-03-20T14:35:12.290765Z",
     "iopub.status.busy": "2023-03-20T14:35:12.289245Z",
     "iopub.status.idle": "2023-03-20T14:35:12.609624Z",
     "shell.execute_reply": "2023-03-20T14:35:12.608130Z"
    },
    "papermill": {
     "duration": 0.333731,
     "end_time": "2023-03-20T14:35:12.612436",
     "exception": false,
     "start_time": "2023-03-20T14:35:12.278705",
     "status": "completed"
    },
    "tags": []
   },
   "outputs": [
    {
     "name": "stdout",
     "output_type": "stream",
     "text": [
      "78863\n"
     ]
    }
   ],
   "source": [
    "c = 0\n",
    "arr = []\n",
    "for city in js.keys():\n",
    "    if 'restaurants' in js[city].keys():\n",
    "        for rest in (js[city]['restaurants'].keys()):\n",
    "            if 'menu' in js[city]['restaurants'][rest].keys():\n",
    "                if (len(js[city]['restaurants'][rest]['menu'].keys()) == 0):\n",
    "                    c += 1\n",
    "                    arr.append([rest])\n",
    "                else:\n",
    "                    c += 1\n",
    "                    arr.append([rest])\n",
    "    else:\n",
    "        for regions in (js[city].keys()):\n",
    "            if 'restaurants' in js[city][regions].keys():\n",
    "                for rest in js[city][regions]['restaurants'].keys():\n",
    "                    if 'menu' in js[city][regions]['restaurants'][rest].keys():\n",
    "                        if len(js[city][regions]['restaurants'][rest]['menu'].keys()) == 0:\n",
    "                            c += 1\n",
    "                            arr.append([rest])\n",
    "                    else:\n",
    "                        c += 1\n",
    "                        arr.append([rest])\n",
    "print(c)\n",
    "arr = np.array(arr)\n",
    "np.save('incompleted_rest_data.npy',arr) "
   ]
  },
  {
   "cell_type": "markdown",
   "id": "b5d01337",
   "metadata": {
    "papermill": {
     "duration": 0.010152,
     "end_time": "2023-03-20T14:35:12.633191",
     "exception": false,
     "start_time": "2023-03-20T14:35:12.623039",
     "status": "completed"
    },
    "tags": []
   },
   "source": [
    "#### 3.4) Top 5 most expensive cities to eat outside?"
   ]
  },
  {
   "cell_type": "code",
   "execution_count": 18,
   "id": "c84db3b9",
   "metadata": {
    "execution": {
     "iopub.execute_input": "2023-03-20T14:35:12.654433Z",
     "iopub.status.busy": "2023-03-20T14:35:12.654110Z",
     "iopub.status.idle": "2023-03-20T14:35:12.878894Z",
     "shell.execute_reply": "2023-03-20T14:35:12.877808Z"
    },
    "papermill": {
     "duration": 0.238189,
     "end_time": "2023-03-20T14:35:12.881431",
     "exception": false,
     "start_time": "2023-03-20T14:35:12.643242",
     "status": "completed"
    },
    "tags": []
   },
   "outputs": [
    {
     "data": {
      "text/html": [
       "<div>\n",
       "<style scoped>\n",
       "    .dataframe tbody tr th:only-of-type {\n",
       "        vertical-align: middle;\n",
       "    }\n",
       "\n",
       "    .dataframe tbody tr th {\n",
       "        vertical-align: top;\n",
       "    }\n",
       "\n",
       "    .dataframe thead th {\n",
       "        text-align: right;\n",
       "    }\n",
       "</style>\n",
       "<table border=\"1\" class=\"dataframe\">\n",
       "  <thead>\n",
       "    <tr style=\"text-align: right;\">\n",
       "      <th></th>\n",
       "      <th>city</th>\n",
       "      <th>avg_cost</th>\n",
       "    </tr>\n",
       "  </thead>\n",
       "  <tbody>\n",
       "    <tr>\n",
       "      <th>217</th>\n",
       "      <td>Hinganghat</td>\n",
       "      <td>18962</td>\n",
       "    </tr>\n",
       "    <tr>\n",
       "      <th>495</th>\n",
       "      <td>South-goa</td>\n",
       "      <td>470</td>\n",
       "    </tr>\n",
       "    <tr>\n",
       "      <th>396</th>\n",
       "      <td>North-goa</td>\n",
       "      <td>468</td>\n",
       "    </tr>\n",
       "    <tr>\n",
       "      <th>184</th>\n",
       "      <td>Gangtok</td>\n",
       "      <td>466</td>\n",
       "    </tr>\n",
       "    <tr>\n",
       "      <th>363</th>\n",
       "      <td>Mussoorie</td>\n",
       "      <td>460</td>\n",
       "    </tr>\n",
       "  </tbody>\n",
       "</table>\n",
       "</div>"
      ],
      "text/plain": [
       "           city  avg_cost\n",
       "217  Hinganghat     18962\n",
       "495   South-goa       470\n",
       "396   North-goa       468\n",
       "184     Gangtok       466\n",
       "363   Mussoorie       460"
      ]
     },
     "execution_count": 18,
     "metadata": {},
     "output_type": "execute_result"
    }
   ],
   "source": [
    "avg_cost = []\n",
    "for city in js.keys():\n",
    "    cost = []\n",
    "    if 'restaurants' in js[city].keys():\n",
    "        for rest in js[city]['restaurants'].keys():\n",
    "            try:\n",
    "                cost.append(int(js[city]['restaurants'][rest]['cost'].split(' ')[-1]))\n",
    "            except:\n",
    "                pass\n",
    "    else:\n",
    "        for region in js[city].keys():\n",
    "            if 'restaurants' in (js[city][region].keys()):\n",
    "                for rest in js[city][region]['restaurants'].keys():\n",
    "                    try:\n",
    "                        cost.append(int(js[city][region]['restaurants'][rest]['cost'].split(' ')[-1]))\n",
    "                    except:\n",
    "                        pass\n",
    "    try:                \n",
    "        avg_cost.append([city,sum(cost)//len(cost)])\n",
    "    except:\n",
    "        pass\n",
    "df_ = pd.DataFrame(avg_cost,columns = ['city','avg_cost'])                    \n",
    "df_.sort_values(by='avg_cost',ascending = False).head(5)"
   ]
  },
  {
   "cell_type": "markdown",
   "id": "a1e3e0c0",
   "metadata": {
    "papermill": {
     "duration": 0.010047,
     "end_time": "2023-03-20T14:35:12.901903",
     "exception": false,
     "start_time": "2023-03-20T14:35:12.891856",
     "status": "completed"
    },
    "tags": []
   },
   "source": [
    "#### 3.5) top 5 most expensive cities to eat Indian?"
   ]
  },
  {
   "cell_type": "code",
   "execution_count": 19,
   "id": "a88f347e",
   "metadata": {
    "execution": {
     "iopub.execute_input": "2023-03-20T14:35:12.924482Z",
     "iopub.status.busy": "2023-03-20T14:35:12.923520Z",
     "iopub.status.idle": "2023-03-20T14:35:13.077841Z",
     "shell.execute_reply": "2023-03-20T14:35:13.076766Z"
    },
    "papermill": {
     "duration": 0.167915,
     "end_time": "2023-03-20T14:35:13.080087",
     "exception": false,
     "start_time": "2023-03-20T14:35:12.912172",
     "status": "completed"
    },
    "tags": []
   },
   "outputs": [
    {
     "data": {
      "text/html": [
       "<div>\n",
       "<style scoped>\n",
       "    .dataframe tbody tr th:only-of-type {\n",
       "        vertical-align: middle;\n",
       "    }\n",
       "\n",
       "    .dataframe tbody tr th {\n",
       "        vertical-align: top;\n",
       "    }\n",
       "\n",
       "    .dataframe thead th {\n",
       "        text-align: right;\n",
       "    }\n",
       "</style>\n",
       "<table border=\"1\" class=\"dataframe\">\n",
       "  <thead>\n",
       "    <tr style=\"text-align: right;\">\n",
       "      <th></th>\n",
       "      <th>city</th>\n",
       "      <th>cost</th>\n",
       "    </tr>\n",
       "  </thead>\n",
       "  <tbody>\n",
       "    <tr>\n",
       "      <th>237</th>\n",
       "      <td>Hinganghat</td>\n",
       "      <td>50241</td>\n",
       "    </tr>\n",
       "    <tr>\n",
       "      <th>202</th>\n",
       "      <td>Gangtok</td>\n",
       "      <td>460</td>\n",
       "    </tr>\n",
       "    <tr>\n",
       "      <th>397</th>\n",
       "      <td>Mussoorie</td>\n",
       "      <td>450</td>\n",
       "    </tr>\n",
       "    <tr>\n",
       "      <th>555</th>\n",
       "      <td>South-goa</td>\n",
       "      <td>449</td>\n",
       "    </tr>\n",
       "    <tr>\n",
       "      <th>434</th>\n",
       "      <td>North-goa</td>\n",
       "      <td>447</td>\n",
       "    </tr>\n",
       "  </tbody>\n",
       "</table>\n",
       "</div>"
      ],
      "text/plain": [
       "           city   cost\n",
       "237  Hinganghat  50241\n",
       "202     Gangtok    460\n",
       "397   Mussoorie    450\n",
       "555   South-goa    449\n",
       "434   North-goa    447"
      ]
     },
     "execution_count": 19,
     "metadata": {},
     "output_type": "execute_result"
    }
   ],
   "source": [
    "ind_cuisine = []\n",
    "for city in js.keys():\n",
    "    cost = []\n",
    "    if 'restaurants' in js[city].keys():\n",
    "        for rest in (js[city]['restaurants'].keys()):\n",
    "            try:\n",
    "                if 'Indian' in js[city]['restaurants'][rest]['cuisine']:\n",
    "                    try:\n",
    "                        cost.append(int(js[city]['restaurants'][rest]['cost'].split(' ')[-1]))\n",
    "                    except:\n",
    "                        pass\n",
    "            except:\n",
    "                pass\n",
    "        try:\n",
    "            cost = sum(cost)//len(cost)    \n",
    "        except:\n",
    "            pass\n",
    "    \n",
    "\n",
    "    else:\n",
    "        for regions in js[city].keys():\n",
    "            if 'restaurants' in js[city][regions].keys():\n",
    "                for rest in js[city][regions]['restaurants'].keys():\n",
    "                    try:\n",
    "                        if 'Indian' in js[city][region]['restaurants'][rest]['cuisine']:\n",
    "                            try:\n",
    "                                cost.append(int(js[city][region]['restaurants'][rest]['cost'].split(' ')[-1]))\n",
    "                            except:\n",
    "                                pass\n",
    "                    except:\n",
    "                        pass\n",
    "                try:\n",
    "                    cost = sum(cost)//len(cost)\n",
    "                except:\n",
    "                    pass\n",
    "                    \n",
    "    ind_cuisine.append([city,cost])\n",
    "\n",
    "ind_cuisine = pd.DataFrame(ind_cuisine,columns = ['city','cost'])\n",
    "\n",
    "\n",
    "cost = []\n",
    "for i in ind_cuisine['cost']:\n",
    "    if (str(i)== '[]'):\n",
    "        cost.append(0)\n",
    "    else:\n",
    "        cost.append(int(i))\n",
    "        \n",
    "        \n",
    "ind_cuisine['cost'] = cost\n",
    "ind_cuisine.sort_values(by='cost',ascending= False).head()\n"
   ]
  },
  {
   "cell_type": "markdown",
   "id": "d4301ce6",
   "metadata": {
    "papermill": {
     "duration": 0.009532,
     "end_time": "2023-03-20T14:35:13.099560",
     "exception": false,
     "start_time": "2023-03-20T14:35:13.090028",
     "status": "completed"
    },
    "tags": []
   },
   "source": [
    "## Q1. Top 10 most common restaurant name in India \n"
   ]
  },
  {
   "cell_type": "code",
   "execution_count": 20,
   "id": "245a2334",
   "metadata": {
    "execution": {
     "iopub.execute_input": "2023-03-20T14:35:13.120690Z",
     "iopub.status.busy": "2023-03-20T14:35:13.119886Z",
     "iopub.status.idle": "2023-03-20T14:35:13.470757Z",
     "shell.execute_reply": "2023-03-20T14:35:13.469716Z"
    },
    "papermill": {
     "duration": 0.363533,
     "end_time": "2023-03-20T14:35:13.472763",
     "exception": false,
     "start_time": "2023-03-20T14:35:13.109230",
     "status": "completed"
    },
    "tags": []
   },
   "outputs": [
    {
     "data": {
      "text/html": [
       "<div>\n",
       "<style scoped>\n",
       "    .dataframe tbody tr th:only-of-type {\n",
       "        vertical-align: middle;\n",
       "    }\n",
       "\n",
       "    .dataframe tbody tr th {\n",
       "        vertical-align: top;\n",
       "    }\n",
       "\n",
       "    .dataframe thead th {\n",
       "        text-align: right;\n",
       "    }\n",
       "</style>\n",
       "<table border=\"1\" class=\"dataframe\">\n",
       "  <thead>\n",
       "    <tr style=\"text-align: right;\">\n",
       "      <th></th>\n",
       "      <th>Restaurants_name</th>\n",
       "      <th>most_count</th>\n",
       "    </tr>\n",
       "  </thead>\n",
       "  <tbody>\n",
       "    <tr>\n",
       "      <th>30</th>\n",
       "      <td>Domino's Pizza</td>\n",
       "      <td>481</td>\n",
       "    </tr>\n",
       "    <tr>\n",
       "      <th>110</th>\n",
       "      <td>Pizza Hut</td>\n",
       "      <td>364</td>\n",
       "    </tr>\n",
       "    <tr>\n",
       "      <th>104</th>\n",
       "      <td>KFC</td>\n",
       "      <td>352</td>\n",
       "    </tr>\n",
       "    <tr>\n",
       "      <th>88</th>\n",
       "      <td>Kwality Walls Frozen Dessert and Ice Cream Shop</td>\n",
       "      <td>333</td>\n",
       "    </tr>\n",
       "    <tr>\n",
       "      <th>197</th>\n",
       "      <td>Baskin Robbins</td>\n",
       "      <td>321</td>\n",
       "    </tr>\n",
       "    <tr>\n",
       "      <th>137</th>\n",
       "      <td>Subway</td>\n",
       "      <td>271</td>\n",
       "    </tr>\n",
       "    <tr>\n",
       "      <th>853</th>\n",
       "      <td>The Good Bowl</td>\n",
       "      <td>237</td>\n",
       "    </tr>\n",
       "    <tr>\n",
       "      <th>812</th>\n",
       "      <td>Faasos - Wraps &amp; Rolls</td>\n",
       "      <td>236</td>\n",
       "    </tr>\n",
       "    <tr>\n",
       "      <th>850</th>\n",
       "      <td>The Biryani Life</td>\n",
       "      <td>235</td>\n",
       "    </tr>\n",
       "    <tr>\n",
       "      <th>833</th>\n",
       "      <td>Oven Story Pizza</td>\n",
       "      <td>232</td>\n",
       "    </tr>\n",
       "  </tbody>\n",
       "</table>\n",
       "</div>"
      ],
      "text/plain": [
       "                                    Restaurants_name  most_count\n",
       "30                                    Domino's Pizza         481\n",
       "110                                        Pizza Hut         364\n",
       "104                                              KFC         352\n",
       "88   Kwality Walls Frozen Dessert and Ice Cream Shop         333\n",
       "197                                   Baskin Robbins         321\n",
       "137                                           Subway         271\n",
       "853                                    The Good Bowl         237\n",
       "812                           Faasos - Wraps & Rolls         236\n",
       "850                                 The Biryani Life         235\n",
       "833                                 Oven Story Pizza         232"
      ]
     },
     "execution_count": 20,
     "metadata": {},
     "output_type": "execute_result"
    }
   ],
   "source": [
    "dct = {}\n",
    "for city in js.keys():\n",
    "    if 'restaurants' in (js[city].keys()):\n",
    "        for rest in (js[city]['restaurants'].keys()):\n",
    "            if (js[city]['restaurants'][rest]['name']) not in dct:\n",
    "                dct[js[city]['restaurants'][rest]['name']] = 1\n",
    "            elif js[city]['restaurants'][rest]['name'] in dct:\n",
    "                dct[js[city]['restaurants'][rest]['name']] += 1\n",
    "                \n",
    "    else:\n",
    "        for subcity in js[city].keys():\n",
    "            if 'restaurants' in  js[city][subcity].keys():\n",
    "                for rest in (js[city][subcity]['restaurants'].keys()):\n",
    "                    if (js[city][subcity]['restaurants'][rest]['name']) not in dct:\n",
    "                        dct[js[city][subcity]['restaurants'][rest]['name']] = 1\n",
    "                    elif js[city][subcity]['restaurants'][rest]['name'] in dct:\n",
    "                        dct[js[city][subcity]['restaurants'][rest]['name']] += 1\n",
    "    \n",
    "    \n",
    "top_rest = pd.DataFrame()    \n",
    "top_rest['Restaurants_name'] = dct.keys()\n",
    "top_rest['most_count'] = dct.values()\n",
    "top_rest.sort_values(by='most_count',ascending=False).head(10)"
   ]
  },
  {
   "cell_type": "markdown",
   "id": "6deadcca",
   "metadata": {
    "papermill": {
     "duration": 0.010316,
     "end_time": "2023-03-20T14:35:13.493576",
     "exception": false,
     "start_time": "2023-03-20T14:35:13.483260",
     "status": "completed"
    },
    "tags": []
   },
   "source": [
    "## Q2. Top 10 most common restaurant name in Bangalore"
   ]
  },
  {
   "cell_type": "code",
   "execution_count": 21,
   "id": "e33ed2a3",
   "metadata": {
    "execution": {
     "iopub.execute_input": "2023-03-20T14:35:13.516391Z",
     "iopub.status.busy": "2023-03-20T14:35:13.516048Z",
     "iopub.status.idle": "2023-03-20T14:35:13.633731Z",
     "shell.execute_reply": "2023-03-20T14:35:13.632730Z"
    },
    "papermill": {
     "duration": 0.13194,
     "end_time": "2023-03-20T14:35:13.635976",
     "exception": false,
     "start_time": "2023-03-20T14:35:13.504036",
     "status": "completed"
    },
    "tags": []
   },
   "outputs": [
    {
     "data": {
      "text/html": [
       "<div>\n",
       "<style scoped>\n",
       "    .dataframe tbody tr th:only-of-type {\n",
       "        vertical-align: middle;\n",
       "    }\n",
       "\n",
       "    .dataframe tbody tr th {\n",
       "        vertical-align: top;\n",
       "    }\n",
       "\n",
       "    .dataframe thead th {\n",
       "        text-align: right;\n",
       "    }\n",
       "</style>\n",
       "<table border=\"1\" class=\"dataframe\">\n",
       "  <thead>\n",
       "    <tr style=\"text-align: right;\">\n",
       "      <th></th>\n",
       "      <th>Restaurants_name</th>\n",
       "      <th>most_count</th>\n",
       "    </tr>\n",
       "  </thead>\n",
       "  <tbody>\n",
       "    <tr>\n",
       "      <th>30</th>\n",
       "      <td>Domino's Pizza</td>\n",
       "      <td>481</td>\n",
       "    </tr>\n",
       "    <tr>\n",
       "      <th>110</th>\n",
       "      <td>Pizza Hut</td>\n",
       "      <td>364</td>\n",
       "    </tr>\n",
       "    <tr>\n",
       "      <th>104</th>\n",
       "      <td>KFC</td>\n",
       "      <td>352</td>\n",
       "    </tr>\n",
       "    <tr>\n",
       "      <th>88</th>\n",
       "      <td>Kwality Walls Frozen Dessert and Ice Cream Shop</td>\n",
       "      <td>333</td>\n",
       "    </tr>\n",
       "    <tr>\n",
       "      <th>197</th>\n",
       "      <td>Baskin Robbins</td>\n",
       "      <td>321</td>\n",
       "    </tr>\n",
       "    <tr>\n",
       "      <th>137</th>\n",
       "      <td>Subway</td>\n",
       "      <td>271</td>\n",
       "    </tr>\n",
       "    <tr>\n",
       "      <th>853</th>\n",
       "      <td>The Good Bowl</td>\n",
       "      <td>237</td>\n",
       "    </tr>\n",
       "    <tr>\n",
       "      <th>812</th>\n",
       "      <td>Faasos - Wraps &amp; Rolls</td>\n",
       "      <td>236</td>\n",
       "    </tr>\n",
       "    <tr>\n",
       "      <th>850</th>\n",
       "      <td>The Biryani Life</td>\n",
       "      <td>235</td>\n",
       "    </tr>\n",
       "    <tr>\n",
       "      <th>833</th>\n",
       "      <td>Oven Story Pizza</td>\n",
       "      <td>232</td>\n",
       "    </tr>\n",
       "  </tbody>\n",
       "</table>\n",
       "</div>"
      ],
      "text/plain": [
       "                                    Restaurants_name  most_count\n",
       "30                                    Domino's Pizza         481\n",
       "110                                        Pizza Hut         364\n",
       "104                                              KFC         352\n",
       "88   Kwality Walls Frozen Dessert and Ice Cream Shop         333\n",
       "197                                   Baskin Robbins         321\n",
       "137                                           Subway         271\n",
       "853                                    The Good Bowl         237\n",
       "812                           Faasos - Wraps & Rolls         236\n",
       "850                                 The Biryani Life         235\n",
       "833                                 Oven Story Pizza         232"
      ]
     },
     "execution_count": 21,
     "metadata": {},
     "output_type": "execute_result"
    }
   ],
   "source": [
    "res = {}\n",
    "for subcity in js['Bangalore'].keys():\n",
    "    for rest in (js['Bangalore'][subcity]['restaurants'].keys()):\n",
    "        if (js['Bangalore'][subcity]['restaurants'][rest]['name']) not in res:\n",
    "            res[js['Bangalore'][subcity]['restaurants'][rest]['name']] = 1\n",
    "        else:\n",
    "            res[js['Bangalore'][subcity]['restaurants'][rest]['name']] += 1\n",
    "            \n",
    "com_rest = pd.DataFrame()    \n",
    "com_rest['Restaurants_name'] = dct.keys()\n",
    "com_rest['most_count'] = dct.values()\n",
    "com_rest.sort_values(by='most_count',ascending=False).head(10)"
   ]
  },
  {
   "cell_type": "markdown",
   "id": "50145233",
   "metadata": {
    "papermill": {
     "duration": 0.009974,
     "end_time": "2023-03-20T14:35:13.656652",
     "exception": false,
     "start_time": "2023-03-20T14:35:13.646678",
     "status": "completed"
    },
    "tags": []
   },
   "source": [
    "## Q3. Total number of Dominos Branches "
   ]
  },
  {
   "cell_type": "code",
   "execution_count": 22,
   "id": "553c4d20",
   "metadata": {
    "execution": {
     "iopub.execute_input": "2023-03-20T14:35:13.679055Z",
     "iopub.status.busy": "2023-03-20T14:35:13.678220Z",
     "iopub.status.idle": "2023-03-20T14:35:13.710407Z",
     "shell.execute_reply": "2023-03-20T14:35:13.708796Z"
    },
    "papermill": {
     "duration": 0.045761,
     "end_time": "2023-03-20T14:35:13.712875",
     "exception": false,
     "start_time": "2023-03-20T14:35:13.667114",
     "status": "completed"
    },
    "tags": []
   },
   "outputs": [
    {
     "name": "stdout",
     "output_type": "stream",
     "text": [
      "Total Number of Dominos Branches :\n"
     ]
    },
    {
     "data": {
      "text/plain": [
       "30    481\n",
       "Name: most_count, dtype: int64"
      ]
     },
     "execution_count": 22,
     "metadata": {},
     "output_type": "execute_result"
    }
   ],
   "source": [
    "print('Total Number of Dominos Branches :')\n",
    "top_rest[top_rest.Restaurants_name == \"Domino's Pizza\"].most_count"
   ]
  },
  {
   "cell_type": "markdown",
   "id": "92816681",
   "metadata": {
    "papermill": {
     "duration": 0.010137,
     "end_time": "2023-03-20T14:35:13.733410",
     "exception": false,
     "start_time": "2023-03-20T14:35:13.723273",
     "status": "completed"
    },
    "tags": []
   },
   "source": [
    "# Visualisation "
   ]
  },
  {
   "cell_type": "markdown",
   "id": "e663efe9",
   "metadata": {
    "papermill": {
     "duration": 0.010858,
     "end_time": "2023-03-20T14:35:13.755139",
     "exception": false,
     "start_time": "2023-03-20T14:35:13.744281",
     "status": "completed"
    },
    "tags": []
   },
   "source": [
    "## Q4. Compare the number of Branches KFC, MacD , Dominos and Subway (Visualisation)\n"
   ]
  },
  {
   "cell_type": "code",
   "execution_count": 23,
   "id": "53ae4580",
   "metadata": {
    "execution": {
     "iopub.execute_input": "2023-03-20T14:35:13.779113Z",
     "iopub.status.busy": "2023-03-20T14:35:13.778210Z",
     "iopub.status.idle": "2023-03-20T14:35:14.083953Z",
     "shell.execute_reply": "2023-03-20T14:35:14.083005Z"
    },
    "papermill": {
     "duration": 0.319897,
     "end_time": "2023-03-20T14:35:14.086041",
     "exception": false,
     "start_time": "2023-03-20T14:35:13.766144",
     "status": "completed"
    },
    "tags": []
   },
   "outputs": [
    {
     "data": {
      "image/png": "[encoded data removed]",
      "text/plain": [
       "<Figure size 432x288 with 1 Axes>"
      ]
     },
     "metadata": {
      "needs_background": "light"
     },
     "output_type": "display_data"
    }
   ],
   "source": [
    "import matplotlib.pyplot as plt \n",
    "names    = []\n",
    "branches = []\n",
    "for i in top_rest.values:\n",
    "    if (i[0] == \"KFC\") or (i[0] == \"Domino's Pizza\") or (i[0] == \"Subway\") or (i[0] == \"Mcdonald's\"):\n",
    "        names.append(i[0])\n",
    "        branches.append(i[1])\n",
    "        \n",
    "        \n",
    "plt.bar(names,branches,color = ['yellow','red','green','black'])\n",
    "plt.xlabel('names')\n",
    "plt.ylabel('branches')\n",
    "plt.show()"
   ]
  },
  {
   "cell_type": "markdown",
   "id": "d7a39b0d",
   "metadata": {
    "papermill": {
     "duration": 0.011054,
     "end_time": "2023-03-20T14:35:14.108351",
     "exception": false,
     "start_time": "2023-03-20T14:35:14.097297",
     "status": "completed"
    },
    "tags": []
   },
   "source": [
    "## Q5. Top Most Popular Cuisines in terms of number of restaurants serving "
   ]
  },
  {
   "cell_type": "code",
   "execution_count": 24,
   "id": "340f7ae9",
   "metadata": {
    "execution": {
     "iopub.execute_input": "2023-03-20T14:35:14.132153Z",
     "iopub.status.busy": "2023-03-20T14:35:14.131208Z",
     "iopub.status.idle": "2023-03-20T14:35:14.477417Z",
     "shell.execute_reply": "2023-03-20T14:35:14.476424Z"
    },
    "papermill": {
     "duration": 0.360676,
     "end_time": "2023-03-20T14:35:14.479913",
     "exception": false,
     "start_time": "2023-03-20T14:35:14.119237",
     "status": "completed"
    },
    "tags": []
   },
   "outputs": [],
   "source": [
    "dct = {}\n",
    "for city in js.keys():\n",
    "    if 'restaurants' in js[city].keys():\n",
    "        for rest in (js[city]['restaurants'].keys()):\n",
    "            if 'cuisine' in js[city]['restaurants'][rest].keys():\n",
    "                for cuisines in (js[city]['restaurants'][rest]['cuisine'].split(',')):\n",
    "                    if cuisines in dct:\n",
    "                        dct[cuisines] += 1\n",
    "                    else:\n",
    "                        dct[cuisines] = 1\n",
    "            else:\n",
    "                 for cuisines in js[city]['restaurants'][rest]['type'].split(','):\n",
    "                    if cuisines in  dct:\n",
    "                        dct[cuisines] += 1 \n",
    "                    else:\n",
    "                        dct[cuisines] = 1\n",
    "    else:\n",
    "        for subcity in js[city].keys():\n",
    "            if 'restaurants' in js[city][subcity].keys():\n",
    "                for rest in (js[city][subcity]['restaurants'].keys()):\n",
    "                    if 'cuisine' in js[city][subcity]['restaurants'][rest].keys():\n",
    "                        for cuisines in (js[city][subcity]['restaurants'][rest]['cuisine'].split(',')):\n",
    "                            if cuisines in  dct:\n",
    "                                dct[cuisines] += 1 \n",
    "                            else:\n",
    "                                dct[cuisines] = 1\n",
    "                    else:\n",
    "                        for cuisines in js[city][subcity]['restaurants'][rest]['type'].split(','):\n",
    "                            if cuisines in  dct:\n",
    "                                dct[cuisines] += 1 \n",
    "                            else:\n",
    "                                dct[cuisines] = 1\n",
    "                            \n",
    "cuisines = pd.DataFrame({'cuisine':dct.keys(),'total':dct.values()})\n",
    "\n",
    "# taking only top 10 cuisine \n",
    "cuisines = cuisines.sort_values('total',ascending = False).head(10)"
   ]
  },
  {
   "cell_type": "code",
   "execution_count": 25,
   "id": "e1d39061",
   "metadata": {
    "execution": {
     "iopub.execute_input": "2023-03-20T14:35:14.504510Z",
     "iopub.status.busy": "2023-03-20T14:35:14.502706Z",
     "iopub.status.idle": "2023-03-20T14:35:14.705772Z",
     "shell.execute_reply": "2023-03-20T14:35:14.703994Z"
    },
    "papermill": {
     "duration": 0.218886,
     "end_time": "2023-03-20T14:35:14.709860",
     "exception": false,
     "start_time": "2023-03-20T14:35:14.490974",
     "status": "completed"
    },
    "tags": []
   },
   "outputs": [
    {
     "data": {
      "image/png": "[encoded data removed]",
      "text/plain": [
       "<Figure size 432x288 with 1 Axes>"
      ]
     },
     "metadata": {},
     "output_type": "display_data"
    }
   ],
   "source": [
    "# visualization \n",
    "plt.pie(cuisines['total'],labels=cuisines['cuisine'],autopct = '%1.2f%%')\n",
    "plt.title('TOP 10 Most Popular Cuisine in Terms of Restaurants serving')\n",
    "plt.show()"
   ]
  },
  {
   "cell_type": "markdown",
   "id": "6921f706",
   "metadata": {
    "papermill": {
     "duration": 0.019997,
     "end_time": "2023-03-20T14:35:14.759866",
     "exception": false,
     "start_time": "2023-03-20T14:35:14.739869",
     "status": "completed"
    },
    "tags": []
   },
   "source": [
    " ## Q6. Ratio of veg and non-veg restaurants in India"
   ]
  },
  {
   "cell_type": "code",
   "execution_count": 26,
   "id": "59ca34c0",
   "metadata": {
    "execution": {
     "iopub.execute_input": "2023-03-20T14:35:14.785194Z",
     "iopub.status.busy": "2023-03-20T14:35:14.784859Z",
     "iopub.status.idle": "2023-03-20T14:35:17.455178Z",
     "shell.execute_reply": "2023-03-20T14:35:17.453656Z"
    },
    "papermill": {
     "duration": 2.687245,
     "end_time": "2023-03-20T14:35:17.459134",
     "exception": false,
     "start_time": "2023-03-20T14:35:14.771889",
     "status": "completed"
    },
    "tags": []
   },
   "outputs": [
    {
     "data": {
      "image/png": "[encoded data removed]",
      "text/plain": [
       "<Figure size 432x288 with 1 Axes>"
      ]
     },
     "metadata": {},
     "output_type": "display_data"
    }
   ],
   "source": [
    "veg_rest = 0\n",
    "non_veg_rest = 0\n",
    "for city in js.keys():\n",
    "    if 'restaurants' in js[city].keys():\n",
    "        for rest in js[city]['restaurants'].keys():\n",
    "            veg = 0\n",
    "            nonveg = 0\n",
    "            if 'menu' in js[city]['restaurants'][rest].keys():\n",
    "                for menu in (js[city]['restaurants'][rest]['menu']):\n",
    "                    for food in (js[city]['restaurants'][rest]['menu'][menu].keys()):\n",
    "                        if js[city]['restaurants'][rest]['menu'][menu][food]['veg_or_non_veg'] == 'Veg':   \n",
    "                            veg += 1                  # counting the number of veg items in the menu of each and every restaurants\n",
    "                        else:\n",
    "                            nonveg += 1\n",
    "                if nonveg == 0:                       # if no noveg dishes are present in the menu then we consider the restaurant to be pure veg else non veg restaurant\n",
    "                    veg_rest += 1\n",
    "                else:\n",
    "                    non_veg_rest += 1 \n",
    "            else:\n",
    "                pass\n",
    "    else:\n",
    "        for subcity in js[city].keys():\n",
    "            if 'restaurants' in js[city].keys():\n",
    "                for rest in js[city][subcity]['restaurants'].keys():\n",
    "                    veg = 0\n",
    "                    nonveg = 0\n",
    "                    for menu in (js[city][subcity]['restaurants'][rest]['menu']):\n",
    "                        for food in js[city][subcity]['restaurants'][rest]['menu'][menu].keys():\n",
    "                            if js[city]['restaurants'][rest]['menu'][menu][food]['veg_or_non_veg'] == 'Veg':\n",
    "                                veg += 1\n",
    "                            else:\n",
    "                                nonveg += 1\n",
    "                    if nonveg == 0:\n",
    "                        veg_rest += 1\n",
    "                    else:\n",
    "                        non_veg_rest += 1 \n",
    "\n",
    "plt.pie([veg_rest,non_veg_rest],labels =['veg_rest','non_veg_rest'],autopct ='%1.2f%%',explode =[0.1,0],shadow =True,colors=['green','red'])\n",
    "plt.title('Veg Restaurants VS Non Veg Restaurants')\n",
    "plt.show()\n"
   ]
  }
 ],
 "metadata": {
  "kernelspec": {
   "display_name": "Python 3 (ipykernel)",
   "language": "python",
   "name": "python3"
  },
  "language_info": {
   "codemirror_mode": {
    "name": "ipython",
    "version": 3
   },
   "file_extension": ".py",
   "mimetype": "text/x-python",
   "name": "python",
   "nbconvert_exporter": "python",
   "pygments_lexer": "ipython3",
   "version": "3.10.6"
  },
  "papermill": {
   "default_parameters": {},
   "duration": 51.43884,
   "end_time": "2023-03-20T14:35:20.520329",
   "environment_variables": {},
   "exception": null,
   "input_path": "__notebook__.ipynb",
   "output_path": "__notebook__.ipynb",
   "parameters": {},
   "start_time": "2023-03-20T14:34:29.081489",
   "version": "2.3.4"
  }
 },
 "nbformat": 4,
 "nbformat_minor": 5
}

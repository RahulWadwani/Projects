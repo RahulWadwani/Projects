{
 "cells": [
  {
   "cell_type": "markdown",
   "id": "77a094f9",
   "metadata": {},
   "source": [
    "# University management "
   ]
  },
  {
   "cell_type": "markdown",
   "id": "074407bf",
   "metadata": {},
   "source": [
    "## Student details "
   ]
  },
  {
   "cell_type": "code",
   "execution_count": null,
   "id": "90050319",
   "metadata": {},
   "outputs": [],
   "source": [
    "student_details = {45551255 : {'first_name'     : 'Rahul' , # registration as key and details of students as value  \n",
    "                              'last_name'      : 'Wadwani' ,\n",
    "                              'contact_number' : 9898979799,\n",
    "                              'email'          : 'rahulwadwani@gmail.com',\n",
    "                              'degree'         : 'B.Tech',\n",
    "                              'batch'          : '2019-2023'},\n",
    "                   45551256 : {'first_name'     : 'Suraj' ,\n",
    "                              'last_name'      : 'Thakur' ,\n",
    "                              'contact_number' : 9898979745,\n",
    "                              'email'          : 'surajthakur@gmail.com',\n",
    "                              'degree'         : 'B.Tech',\n",
    "                              'batch'          : '2019-2023'},\n",
    "                   45551257 : {'first_name'     : 'Suraj ' ,\n",
    "                               'last_name'      : 'Shewale' ,\n",
    "                               'contact_number' : 9898979756,\n",
    "                               'email'          : 'surajshewale@gmail.com',\n",
    "                               'degree'         : 'B.Tech',\n",
    "                               'batch'          : '2019-2023'},\n",
    "                   45551258 : {'first_name'     : 'Yogesh' ,\n",
    "                               'last_name'      : 'Patil' ,\n",
    "                               'contact_number' : 9898979787,\n",
    "                               'email'          : 'yogeshpatil@gmail.com',\n",
    "                               'degree'         : 'B.Tech',                   \n",
    "                               'batch'          : '2019-2023'}}"
   ]
  },
  {
   "cell_type": "markdown",
   "id": "cee86272",
   "metadata": {},
   "source": [
    "## Displaying the student details and accessing the entire details about the students data "
   ]
  },
  {
   "cell_type": "code",
   "execution_count": 112,
   "id": "189fdd96",
   "metadata": {},
   "outputs": [
    {
     "name": "stdout",
     "output_type": "stream",
     "text": [
      "what do you want first_name\n",
      "Rahul\n",
      "Suraj\n",
      "Suraj \n",
      "Yogesh\n"
     ]
    }
   ],
   "source": [
    "#for i in student_details :\n",
    "#   print(student_details[i])#this will return you the value of entire details of a particular student \n",
    "j = input(\"what do you want \")\n",
    "for i in student_details :\n",
    "    if j == 'first_name' or 'last_name' or 'contact_number' or 'email' or 'degree' or 'batch':\n",
    "        print(student_details[i][j])#this will give you the first name of all the students in an \n",
    "    else :\n",
    "        print('invalid input ') # for other inputs  "
   ]
  },
  {
   "cell_type": "markdown",
   "id": "aff0ec1f",
   "metadata": {},
   "source": [
    "## Adding new student details "
   ]
  },
  {
   "cell_type": "code",
   "execution_count": null,
   "id": "bd6bcd64",
   "metadata": {},
   "outputs": [],
   "source": [
    "def add_student():\n",
    "    #inputing the values from the user\n",
    "    registration_no = int(input(\"Enter your Registration number : \"))\n",
    "    firstname = str(input(\"Enter your first name:\"))\n",
    "    lastname = str(input(\"Enter your last name :\"))\n",
    "    contactnumber = int(input (\"Enter your parents mobile number:\"))\n",
    "    email = str(input(\"Enter your email:\"))\n",
    "    degree = str(input(\"Enter your current pursuing degree :\"))\n",
    "    batch = str(input(\"Enter your batch :\"))\n",
    "    \n",
    "    #creating dictionary and inputing the values to the main dictionary\n",
    "    student = {}\n",
    "    student['first_name'] = firstname\n",
    "    student['last_name'] = lastname\n",
    "    student['contact_number'] = contactnumber\n",
    "    student['email'] = email\n",
    "    student['degree'] = degree\n",
    "    student['batch'] = batch\n",
    "    student_details[registration_no] = student \n",
    "\n",
    "add_student()"
   ]
  },
  {
   "cell_type": "markdown",
   "id": "1fb4901c",
   "metadata": {},
   "source": [
    "# Displaying the details of all students"
   ]
  },
  {
   "cell_type": "code",
   "execution_count": 123,
   "id": "e4ef07a4",
   "metadata": {},
   "outputs": [
    {
     "name": "stdout",
     "output_type": "stream",
     "text": [
      "Full Name      :  Rahul Wadwani\n",
      "Phone Number   :  9898979799\n",
      "Email Address  :  rahulwadwani@gmail.com\n",
      "Degree         :  B.Tech\n",
      "Batch          :  2019-2023\n",
      "--------------------------------------------------\n",
      "Full Name      :  Suraj Thakur\n",
      "Phone Number   :  9898979745\n",
      "Email Address  :  surajthakur@gmail.com\n",
      "Degree         :  B.Tech\n",
      "Batch          :  2019-2023\n",
      "--------------------------------------------------\n",
      "Full Name      :  Suraj  Shewale\n",
      "Phone Number   :  9898979756\n",
      "Email Address  :  surajshewale@gmail.com\n",
      "Degree         :  B.Tech\n",
      "Batch          :  2019-2023\n",
      "--------------------------------------------------\n",
      "Full Name      :  Yogesh Patil\n",
      "Phone Number   :  9898979787\n",
      "Email Address  :  yogeshpatil@gmail.com\n",
      "Degree         :  B.Tech\n",
      "Batch          :  2019-2023\n",
      "--------------------------------------------------\n",
      "Full Name      :  Prajakta manika\n",
      "Phone Number   :  8779966445\n",
      "Email Address  :  prajakta@gmail.com\n",
      "Degree         :  B.Tech\n",
      "Batch          :  2019-2023\n",
      "--------------------------------------------------\n"
     ]
    }
   ],
   "source": [
    "for details in student_details:\n",
    "    print('Full Name      : ',student_details[details]['first_name'] + ' ' +student_details[details]['last_name'])\n",
    "    print('Phone Number   : ',student_details[details]['contact_number'])\n",
    "    print('Email Address  : ',student_details[details]['email'])\n",
    "    print('Degree         : ',student_details[details]['degree'])\n",
    "    print('Batch          : ',student_details[details]['batch'])\n",
    "    print('-'*50)"
   ]
  },
  {
   "cell_type": "markdown",
   "id": "6abce41d",
   "metadata": {},
   "source": [
    "# Changing the values of any students "
   ]
  },
  {
   "cell_type": "code",
   "execution_count": 24,
   "id": "db0d8a82",
   "metadata": {},
   "outputs": [
    {
     "name": "stdout",
     "output_type": "stream",
     "text": [
      "Enter your Registration number :45551255\n",
      "Rahul Wadwani\n",
      "What would you like to change : first_name\n"
     ]
    }
   ],
   "source": [
    "reg_no = int(input(\"Enter your Registration number :\"))\n",
    "for i in student_details:\n",
    "    if reg_no == i :\n",
    "        print(student_details[i]['first_name'] + ' ' + (student_details[i]['last_name']))\n",
    "chng = str(input(\"What would you like to change : \"))\n",
    "for j in student_details:\n",
    "    if chng == student_details[j]['first_name']:\n",
    "        print(student_details[j]['first_name'])"
   ]
  },
  {
   "cell_type": "markdown",
   "id": "b904e209",
   "metadata": {},
   "source": [
    "# Searching based on Registration "
   ]
  },
  {
   "cell_type": "code",
   "execution_count": 141,
   "id": "8b13581a",
   "metadata": {},
   "outputs": [
    {
     "name": "stdout",
     "output_type": "stream",
     "text": [
      "enter your Registration no.:-45551245\n",
      "-------------------------\n"
     ]
    },
    {
     "ename": "KeyError",
     "evalue": "45551245",
     "output_type": "error",
     "traceback": [
      "\u001b[1;31m---------------------------------------------------------------------------\u001b[0m",
      "\u001b[1;31mKeyError\u001b[0m                                  Traceback (most recent call last)",
      "Input \u001b[1;32mIn [141]\u001b[0m, in \u001b[0;36m<module>\u001b[1;34m\u001b[0m\n\u001b[0;32m      1\u001b[0m Reg_no \u001b[38;5;241m=\u001b[39m \u001b[38;5;28mint\u001b[39m(\u001b[38;5;28minput\u001b[39m(\u001b[38;5;124m'\u001b[39m\u001b[38;5;124menter your Registration no.:-\u001b[39m\u001b[38;5;124m'\u001b[39m))\n\u001b[0;32m      2\u001b[0m \u001b[38;5;28mprint\u001b[39m(\u001b[38;5;124m'\u001b[39m\u001b[38;5;124m-\u001b[39m\u001b[38;5;124m'\u001b[39m\u001b[38;5;241m*\u001b[39m\u001b[38;5;241m25\u001b[39m)\n\u001b[1;32m----> 3\u001b[0m \u001b[38;5;28mprint\u001b[39m(\u001b[38;5;124m'\u001b[39m\u001b[38;5;124mName     : \u001b[39m\u001b[38;5;124m'\u001b[39m,\u001b[43mstudent_details\u001b[49m\u001b[43m[\u001b[49m\u001b[43mReg_no\u001b[49m\u001b[43m]\u001b[49m[\u001b[38;5;124m'\u001b[39m\u001b[38;5;124mfirst_name\u001b[39m\u001b[38;5;124m'\u001b[39m]\u001b[38;5;241m+\u001b[39m\u001b[38;5;124m'\u001b[39m\u001b[38;5;124m \u001b[39m\u001b[38;5;124m'\u001b[39m\u001b[38;5;241m+\u001b[39mstudent_details[Reg_no][\u001b[38;5;124m'\u001b[39m\u001b[38;5;124mlast_name\u001b[39m\u001b[38;5;124m'\u001b[39m])\n        Reg_no \u001b[1;34m= 45551245\u001b[0m\u001b[1;34m\n        \u001b[0mstudent_details \u001b[1;34m= {45551255: {'first_name': 'Rahul', 'last_name': 'Wadwani', 'contact_number': 9898979799, 'email': 'rahulwadwani@gmail.com', 'degree': 'B.Tech', 'batch': '2019-2023'}, 45551256: {'first_name': 'Suraj', 'last_name': 'Thakur', 'contact_number': 9898979745, 'email': 'surajthakur@gmail.com', 'degree': 'B.Tech', 'batch': '2019-2023'}, 45551257: {'first_name': 'Suraj ', 'last_name': 'Shewale', 'contact_number': 9898979756, 'email': 'surajshewale@gmail.com', 'degree': 'B.Tech', 'batch': '2019-2023'}, 45551258: {'first_name': 'Yogesh', 'last_name': 'Patil', 'contact_number': 9898979787, 'email': 'yogeshpatil@gmail.com', 'degree': 'B.Tech', 'batch': '2019-2023'}, 45551259: {'first_name': 'Prajakta', 'last_name': 'manika', 'contact_number': 8779966445, 'email': 'prajakta@gmail.com', 'degree': 'B.Tech', 'batch': '2019-2023'}}\u001b[0m\n\u001b[0;32m      4\u001b[0m \u001b[38;5;28mprint\u001b[39m(\u001b[38;5;124m'\u001b[39m\u001b[38;5;124mPhone    : \u001b[39m\u001b[38;5;124m'\u001b[39m,student_details[Reg_no][\u001b[38;5;124m'\u001b[39m\u001b[38;5;124mcontact_number\u001b[39m\u001b[38;5;124m'\u001b[39m])\n\u001b[0;32m      5\u001b[0m \u001b[38;5;28mprint\u001b[39m(\u001b[38;5;124m'\u001b[39m\u001b[38;5;124mEmail    : \u001b[39m\u001b[38;5;124m'\u001b[39m,student_details[Reg_no][\u001b[38;5;124m'\u001b[39m\u001b[38;5;124memail\u001b[39m\u001b[38;5;124m'\u001b[39m])\n",
      "\u001b[1;31mKeyError\u001b[0m: 45551245"
     ]
    }
   ],
   "source": [
    "Reg_no = int(input('enter your Registration no.:-'))\n",
    "print('-' * 50)\n",
    "print('Name     : ',student_details[Reg_no]['first_name']+' '+student_details[Reg_no]['last_name'])\n",
    "print('Phone    : ',student_details[Reg_no]['contact_number'])\n",
    "print('Email    : ',student_details[Reg_no]['email'])\n",
    "print('Degree   : ',student_details[Reg_no]['degree'])\n",
    "print('-' * 50)"
   ]
  },
  {
   "cell_type": "markdown",
   "id": "351786b5",
   "metadata": {},
   "source": [
    "# Searching based on First Name (sufficient data)"
   ]
  },
  {
   "cell_type": "code",
   "execution_count": 138,
   "id": "dfee0ba1",
   "metadata": {},
   "outputs": [
    {
     "name": "stdout",
     "output_type": "stream",
     "text": [
      "Enter the First name : prajakta\n",
      "--------------------------------------------------\n",
      "Full Name      :  Prajakta manika\n",
      "Phone Number   :  8779966445\n",
      "Email Address  :  prajakta@gmail.com\n",
      "Degree         :  B.Tech\n",
      "Batch          :  2019-2023\n",
      "--------------------------------------------------\n"
     ]
    }
   ],
   "source": [
    "Name = str(input('Enter the First name : '))\n",
    "print('-'*50)\n",
    "for names_ in student_details:\n",
    "    if (Name.lower() == student_details[names_]['first_name'].lower()):\n",
    "        print('Full Name      : ',student_details[names_]['first_name'] + ' ' +student_details[names_]['last_name'])\n",
    "        print('Phone Number   : ',student_details[names_]['contact_number'])\n",
    "        print('Email Address  : ',student_details[names_]['email'])\n",
    "        print('Degree         : ',student_details[names_]['degree'])\n",
    "        print('Batch          : ',student_details[names_]['batch'])\n",
    "        print('-'*50)\n"
   ]
  },
  {
   "cell_type": "markdown",
   "id": "05988444",
   "metadata": {},
   "source": [
    "# Searching based on First Name (insufficient data)"
   ]
  },
  {
   "cell_type": "code",
   "execution_count": 139,
   "id": "0542ff3f",
   "metadata": {},
   "outputs": [
    {
     "name": "stdout",
     "output_type": "stream",
     "text": [
      "Enter the First name : Ra\n",
      "--------------------------------------------------\n",
      "Full Name      :  Rahul Wadwani\n",
      "Phone Number   :  9898979799\n",
      "Email Address  :  rahulwadwani@gmail.com\n",
      "Degree         :  B.Tech\n",
      "Batch          :  2019-2023\n",
      "--------------------------------------------------\n",
      "Full Name      :  Suraj Thakur\n",
      "Phone Number   :  9898979745\n",
      "Email Address  :  surajthakur@gmail.com\n",
      "Degree         :  B.Tech\n",
      "Batch          :  2019-2023\n",
      "--------------------------------------------------\n",
      "Full Name      :  Suraj  Shewale\n",
      "Phone Number   :  9898979756\n",
      "Email Address  :  surajshewale@gmail.com\n",
      "Degree         :  B.Tech\n",
      "Batch          :  2019-2023\n",
      "--------------------------------------------------\n",
      "Full Name      :  Prajakta manika\n",
      "Phone Number   :  8779966445\n",
      "Email Address  :  prajakta@gmail.com\n",
      "Degree         :  B.Tech\n",
      "Batch          :  2019-2023\n",
      "--------------------------------------------------\n"
     ]
    }
   ],
   "source": [
    "Name = str(input('Enter the First name : '))\n",
    "print('-'*50)\n",
    "for names_ in student_details:\n",
    "    if (Name.lower() in student_details[names_]['first_name'].lower()):\n",
    "        print('Full Name      : ',student_details[names_]['first_name'] + ' ' +student_details[names_]['last_name'])\n",
    "        print('Phone Number   : ',student_details[names_]['contact_number'])\n",
    "        print('Email Address  : ',student_details[names_]['email'])\n",
    "        print('Degree         : ',student_details[names_]['degree'])\n",
    "        print('Batch          : ',student_details[names_]['batch'])\n",
    "        print('-'*50)\n"
   ]
  },
  {
   "cell_type": "markdown",
   "id": "9105d7c7",
   "metadata": {},
   "source": [
    "# Changing the values of any students"
   ]
  },
  {
   "cell_type": "code",
   "execution_count": null,
   "id": "28b8dd68",
   "metadata": {},
   "outputs": [],
   "source": []
  },
  {
   "cell_type": "markdown",
   "id": "d040e142",
   "metadata": {},
   "source": [
    "# Creating dictionary of Faculty"
   ]
  },
  {
   "cell_type": "code",
   "execution_count": 8,
   "id": "5147f7cd",
   "metadata": {},
   "outputs": [],
   "source": [
    "# creating a faculty dictionary with name , age , department , specialisation and class \n",
    "teach = {12345:{  'name'   :  'Suresh',\n",
    "                  'age'    :  '42',\n",
    "                  'dept'   :  'EXTC',\n",
    "                  'sp'     :  'Digital Electronics',\n",
    "                  'class'  :  'A'\n",
    "               },\n",
    "        12346:{   'name'   :  'Ramesh',\n",
    "                  'age'    :  '45',\n",
    "                  'dept'   :  'EXTC',\n",
    "                  'sp'     :  'Analog Electronics',\n",
    "                  'class'  :  'B'\n",
    "              },\n",
    "        12347:{   'name'   :  'Jignesh',\n",
    "                  'age'    :  '43',\n",
    "                  'dept'   :  'EXTC',\n",
    "                  'sp'     :  'VLSI Design ',\n",
    "                  'class'  :  'A'\n",
    "              }\n",
    "        }\n",
    "\n"
   ]
  },
  {
   "cell_type": "markdown",
   "id": "a9b5ebb8",
   "metadata": {},
   "source": [
    "## Displaying all Faculty details "
   ]
  },
  {
   "cell_type": "code",
   "execution_count": 60,
   "id": "071983e3",
   "metadata": {},
   "outputs": [
    {
     "name": "stdout",
     "output_type": "stream",
     "text": [
      "--------------------------------------------------\n",
      "Faculty Name        :  Suresh\n",
      "Faculty Age         :  42\n",
      "Faculty Department  :  EXTC\n",
      "Faculty Expertise   :  Digital Electronics\n",
      "Division Allotted   :  A\n",
      "--------------------------------------------------\n",
      "Faculty Name        :  Ramesh\n",
      "Faculty Age         :  45\n",
      "Faculty Department  :  EXTC\n",
      "Faculty Expertise   :  Analog Electronics\n",
      "Division Allotted   :  B\n",
      "--------------------------------------------------\n",
      "Faculty Name        :  Jignesh\n",
      "Faculty Age         :  43\n",
      "Faculty Department  :  EXTC\n",
      "Faculty Expertise   :  VLSI Design \n",
      "Division Allotted   :  A\n",
      "--------------------------------------------------\n",
      "Faculty Name        :  Rajesh \n",
      "Faculty Age         :  45\n",
      "Faculty Department  :  EXTC\n",
      "Faculty Expertise   :  VLSI\n",
      "Division Allotted   :  A\n",
      "--------------------------------------------------\n"
     ]
    }
   ],
   "source": [
    "print('-'*50)\n",
    "for i in teach:\n",
    "    print('Faculty Name        : ',teach[i]['name'])\n",
    "    print('Faculty Age         : ',teach[i]['age'])\n",
    "    print('Faculty Department  : ',teach[i]['dept'])\n",
    "    print('Faculty Expertise   : ',teach[i]['sp'])\n",
    "    print('Division Allotted   : ',teach[i]['class'])\n",
    "    print('-'*50)"
   ]
  },
  {
   "cell_type": "markdown",
   "id": "c0c15073",
   "metadata": {},
   "source": [
    "##  Generating a new faculty id "
   ]
  },
  {
   "cell_type": "code",
   "execution_count": 61,
   "id": "64d737d5",
   "metadata": {},
   "outputs": [],
   "source": [
    "def generate_id(teach):\n",
    "    teacher_id = []\n",
    "    for i in teach:\n",
    "        teacher_id.append(i)\n",
    "    new_id = teacher_id[len(teacher_id)-1] + 1\n",
    "    return new_id   "
   ]
  },
  {
   "cell_type": "code",
   "execution_count": 62,
   "id": "55989349",
   "metadata": {},
   "outputs": [
    {
     "data": {
      "text/plain": [
       "12349"
      ]
     },
     "execution_count": 62,
     "metadata": {},
     "output_type": "execute_result"
    }
   ],
   "source": [
    "generate_id(teach)"
   ]
  },
  {
   "cell_type": "markdown",
   "id": "8a020af0",
   "metadata": {},
   "source": [
    "## Adding a new faculty into the Dictionary "
   ]
  },
  {
   "cell_type": "code",
   "execution_count": 63,
   "id": "fbad91fe",
   "metadata": {},
   "outputs": [
    {
     "name": "stdout",
     "output_type": "stream",
     "text": [
      "Enter your Name        : Ashish\n",
      "Enter your Age         : 56\n",
      "Enter your Department  : EXTC\n",
      "Enter your Expertise   : Machine Learning\n"
     ]
    }
   ],
   "source": [
    "import random \n",
    "name  = input('Enter your Name        : ')\n",
    "age   = input('Enter your Age         : ')\n",
    "dept  = input('Enter your Department  : ')\n",
    "sp    = input('Enter your Expertise   : ')\n",
    "class_ = chr(random.randint(65,66))\n",
    "id1 = generate_id(teach)\n",
    "\n",
    "dct1 = {}\n",
    "dct1['name'] = name\n",
    "dct1['age'] = age\n",
    "dct1['dept'] = dept\n",
    "dct1['sp'] = sp\n",
    "dct1['class'] = class_\n",
    "\n",
    "teach[id1] = dct1\n",
    "\n",
    "\n"
   ]
  },
  {
   "cell_type": "code",
   "execution_count": 64,
   "id": "3ad573da",
   "metadata": {},
   "outputs": [
    {
     "name": "stdout",
     "output_type": "stream",
     "text": [
      "--------------------------------------------------\n",
      "Faculty Name        :  Suresh\n",
      "Faculty Age         :  42\n",
      "Faculty Department  :  EXTC\n",
      "Faculty Expertise   :  Digital Electronics\n",
      "Division Allotted   :  A\n",
      "--------------------------------------------------\n",
      "Faculty Name        :  Ramesh\n",
      "Faculty Age         :  45\n",
      "Faculty Department  :  EXTC\n",
      "Faculty Expertise   :  Analog Electronics\n",
      "Division Allotted   :  B\n",
      "--------------------------------------------------\n",
      "Faculty Name        :  Jignesh\n",
      "Faculty Age         :  43\n",
      "Faculty Department  :  EXTC\n",
      "Faculty Expertise   :  VLSI Design \n",
      "Division Allotted   :  A\n",
      "--------------------------------------------------\n",
      "Faculty Name        :  Rajesh \n",
      "Faculty Age         :  45\n",
      "Faculty Department  :  EXTC\n",
      "Faculty Expertise   :  VLSI\n",
      "Division Allotted   :  A\n",
      "--------------------------------------------------\n",
      "Faculty Name        :  Ashish\n",
      "Faculty Age         :  56\n",
      "Faculty Department  :  EXTC\n",
      "Faculty Expertise   :  Machine Learning\n",
      "Division Allotted   :  A\n",
      "--------------------------------------------------\n"
     ]
    }
   ],
   "source": [
    "# Displaying the newly hired teacher \n",
    "print('-'*50)\n",
    "for i in teach:\n",
    "    print('Faculty Name        : ',teach[i]['name'])\n",
    "    print('Faculty Age         : ',teach[i]['age'])\n",
    "    print('Faculty Department  : ',teach[i]['dept'])\n",
    "    print('Faculty Expertise   : ',teach[i]['sp'])\n",
    "    print('Division Allotted   : ',teach[i]['class'])\n",
    "    print('-'*50)"
   ]
  },
  {
   "cell_type": "markdown",
   "id": "5e62ca89",
   "metadata": {},
   "source": [
    "# Searching based on name "
   ]
  },
  {
   "cell_type": "code",
   "execution_count": 65,
   "id": "843fa35d",
   "metadata": {},
   "outputs": [
    {
     "name": "stdout",
     "output_type": "stream",
     "text": [
      "Search Faculty name : Ashish\n",
      "--------------------------------------------------\n",
      "Name Of Faculty :  Ashish\n",
      "Department      :  EXTC\n",
      "Expertise       :  Machine Learning\n",
      "Division        :  A\n",
      "--------------------------------------------------\n"
     ]
    }
   ],
   "source": [
    "names = str(input('Search Faculty name : '))\n",
    "for i in teach:\n",
    "    if names.lower()  == teach[i]['name'].lower():\n",
    "        print('-'*50)\n",
    "        print('Name Of Faculty : ',teach[i]['name'])\n",
    "        print('Department      : ',teach[i]['dept'])\n",
    "        print('Expertise       : ',teach[i]['sp'])\n",
    "        print('Division        : ',teach[i]['class'])\n",
    "        print('-'*50)\n"
   ]
  },
  {
   "cell_type": "markdown",
   "id": "79307499",
   "metadata": {},
   "source": [
    "# Searching based on name due insufficient data"
   ]
  },
  {
   "cell_type": "code",
   "execution_count": 66,
   "id": "ba818c24",
   "metadata": {},
   "outputs": [
    {
     "name": "stdout",
     "output_type": "stream",
     "text": [
      "Search Faculty name : a\n",
      "--------------------------------------------------\n",
      "Name Of Faculty :  Ramesh\n",
      "Department      :  EXTC\n",
      "Expertise       :  Analog Electronics\n",
      "Division        :  B\n",
      "--------------------------------------------------\n",
      "--------------------------------------------------\n",
      "Name Of Faculty :  Rajesh \n",
      "Department      :  EXTC\n",
      "Expertise       :  VLSI\n",
      "Division        :  A\n",
      "--------------------------------------------------\n",
      "--------------------------------------------------\n",
      "Name Of Faculty :  Ashish\n",
      "Department      :  EXTC\n",
      "Expertise       :  Machine Learning\n",
      "Division        :  A\n",
      "--------------------------------------------------\n"
     ]
    }
   ],
   "source": [
    "names = str(input('Search Faculty name : '))\n",
    "for i in teach:\n",
    "    if names.lower() in teach[i]['name'].lower():\n",
    "        print('-'*50)\n",
    "        print('Name Of Faculty : ',teach[i]['name'])\n",
    "        print('Department      : ',teach[i]['dept'])\n",
    "        print('Expertise       : ',teach[i]['sp'])\n",
    "        print('Division        : ',teach[i]['class'])\n",
    "        print('-'*50)\n"
   ]
  },
  {
   "cell_type": "markdown",
   "id": "717776d9",
   "metadata": {},
   "source": [
    "# Creating HOD Dictionary"
   ]
  },
  {
   "cell_type": "code",
   "execution_count": 68,
   "id": "cc2b0072",
   "metadata": {},
   "outputs": [],
   "source": [
    "hods = {21345:{\n",
    "                'name'     :  'Prakash',\n",
    "                'age'      :  '60',\n",
    "                'dept'     :  'EXTC',\n",
    "                'teachers' :  []\n",
    "              }\n",
    "       }"
   ]
  },
  {
   "cell_type": "markdown",
   "id": "e7d12c45",
   "metadata": {},
   "source": [
    "# adding the key of each teacher in hod teachers list"
   ]
  },
  {
   "cell_type": "code",
   "execution_count": 69,
   "id": "4cf43b56",
   "metadata": {},
   "outputs": [],
   "source": [
    "for i in teach:\n",
    "    for j in hods:\n",
    "        hods[j]['teachers'].append(i)\n"
   ]
  },
  {
   "cell_type": "code",
   "execution_count": 70,
   "id": "c3e31b0b",
   "metadata": {},
   "outputs": [
    {
     "name": "stdout",
     "output_type": "stream",
     "text": [
      "[12345, 12346, 12347, 12348]\n"
     ]
    }
   ],
   "source": [
    "for j in hods:\n",
    "    print(hod[j]['teachers'])"
   ]
  },
  {
   "cell_type": "markdown",
   "id": "7fea7916",
   "metadata": {},
   "source": [
    "# Generating Hod id "
   ]
  },
  {
   "cell_type": "code",
   "execution_count": 71,
   "id": "9703e186",
   "metadata": {},
   "outputs": [],
   "source": [
    "def generate_ids(hods):\n",
    "    hod_id = []\n",
    "    for j in hods:\n",
    "        hod_id.append(j)\n",
    "    new_id1 = hod_id[len(hod_id)-1] + 1\n",
    "    print(hod_id)\n",
    "    return new_id1"
   ]
  },
  {
   "cell_type": "code",
   "execution_count": 72,
   "id": "dbd0fba3",
   "metadata": {},
   "outputs": [
    {
     "name": "stdout",
     "output_type": "stream",
     "text": [
      "[21345]\n"
     ]
    },
    {
     "data": {
      "text/plain": [
       "21346"
      ]
     },
     "execution_count": 72,
     "metadata": {},
     "output_type": "execute_result"
    }
   ],
   "source": [
    "generate_ids(hods)"
   ]
  },
  {
   "cell_type": "markdown",
   "id": "0f2a3548",
   "metadata": {},
   "source": [
    "# Adding new Hod of Different department "
   ]
  },
  {
   "cell_type": "code",
   "execution_count": 78,
   "id": "ea73f82f",
   "metadata": {},
   "outputs": [
    {
     "name": "stdout",
     "output_type": "stream",
     "text": [
      "Enter your Name        : Rajesk \n",
      "Enter your Age         : 68\n",
      "Enter your Department  : EXTC\n",
      "[21345]\n"
     ]
    }
   ],
   "source": [
    "# adding new hod of different department \n",
    "\n",
    "name  = input('Enter your Name        : ')\n",
    "age   = input('Enter your Age         : ')\n",
    "dept  = input('Enter your Department  : ')\n",
    "teachers = []\n",
    "id2 = generate_ids(hods)\n",
    "\n",
    "#creating new dict and input values \n",
    "dct2 = {}\n",
    "dct2['name'] = name\n",
    "dct2['age'] = age\n",
    "dct2['dept'] = dept\n",
    "dct2['teachers'] = teachers\n",
    "\n",
    "# adding the new values into the hod dictionary\n",
    "hod[id2] = dct2\n",
    "\n"
   ]
  },
  {
   "cell_type": "markdown",
   "id": "b80acea1",
   "metadata": {},
   "source": [
    "# Fetching the teachers data using hod dictionary"
   ]
  },
  {
   "cell_type": "code",
   "execution_count": 108,
   "id": "caf73e5f",
   "metadata": {},
   "outputs": [
    {
     "name": "stdout",
     "output_type": "stream",
     "text": [
      "--------------------------------------------------\n",
      "Name : Suresh\n",
      "Age : 42\n",
      "Department : EXTC\n",
      "Specialisation : Digital Electronics\n",
      "Class : A\n",
      "--------------------------------------------------\n",
      "Name : Ramesh\n",
      "Age : 45\n",
      "Department : EXTC\n",
      "Specialisation : Analog Electronics\n",
      "Class : B\n",
      "--------------------------------------------------\n",
      "Name : Jignesh\n",
      "Age : 43\n",
      "Department : EXTC\n",
      "Specialisation : VLSI Design \n",
      "Class : A\n",
      "--------------------------------------------------\n",
      "Name : Rajesh \n",
      "Age : 45\n",
      "Department : EXTC\n",
      "Specialisation : VLSI\n",
      "Class : A\n",
      "--------------------------------------------------\n",
      "Name : Ashish\n",
      "Age : 56\n",
      "Department : EXTC\n",
      "Specialisation : Machine Learning\n",
      "Class : A\n",
      "--------------------------------------------------\n"
     ]
    }
   ],
   "source": [
    "for k in hods:\n",
    "    lst = hods[k]['teachers']\n",
    "print('-'*50)\n",
    "for prof_id in lst:\n",
    "    if (prof_id in teach):\n",
    "        print('Name :',teach[prof_id]['name'])\n",
    "        print('Age :',teach[prof_id]['age'])\n",
    "        print('Department :',teach[prof_id]['dept'])\n",
    "        print('Specialisation :',teach[prof_id]['sp'])\n",
    "        print('Class :',teach[prof_id]['class'])\n",
    "        print('-'*50)\n",
    "        "
   ]
  }
 ],
 "metadata": {
  "kernelspec": {
   "display_name": "Python 3.9.6 64-bit (system)",
   "language": "python",
   "name": "python3"
  },
  "language_info": {
   "codemirror_mode": {
    "name": "ipython",
    "version": 3
   },
   "file_extension": ".py",
   "mimetype": "text/x-python",
   "name": "python",
   "nbconvert_exporter": "python",
   "pygments_lexer": "ipython3",
   "version": "3.9.6"
  },
  "vscode": {
   "interpreter": {
    "hash": "1c4eeb78d5e1dc6cb6e62b5bd20620b702dce5b8b8ded6688ef7aad2e1c0d17c"
   }
  }
 },
 "nbformat": 4,
 "nbformat_minor": 5
}

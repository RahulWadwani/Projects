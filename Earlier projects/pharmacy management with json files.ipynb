{
 "cells": [
  {
   "cell_type": "markdown",
   "metadata": {},
   "source": [
    "# creating a json file to take the loads and dumps of all the entered data "
   ]
  },
  {
   "cell_type": "code",
   "execution_count": 28,
   "metadata": {},
   "outputs": [],
   "source": [
    "from json import loads, dumps \n",
    "meds ={ 123456:{'name':'Disprin 325 MG','description':'used for headaches, pain and fever','tablets':12,'amount': 9.52,'stock': 5 },\n",
    "        123457:{'name':'Disperzyme ','description':'used for nausea, vomiting,flatulence','tablets':10,'amount': 585.65,'stock': 8 }\n",
    "    } \n",
    "fd = open('medics.json','a')\n",
    "fd.write(dumps(meds))\n",
    "fd.close()\n",
    "\n"
   ]
  },
  {
   "cell_type": "markdown",
   "metadata": {},
   "source": [
    "# Adding more meds "
   ]
  },
  {
   "cell_type": "code",
   "execution_count": 48,
   "metadata": {},
   "outputs": [
    {
     "name": "stdout",
     "output_type": "stream",
     "text": [
      "Enter product_id            : 123459\n",
      "Enter the medicines name    : Relifspray\n",
      "Enter the description       : pain reliver, spray\n",
      "Enter the number of tablets : 10\n",
      "Enter the amount            : 89\n",
      "Enter stock size            : 12\n"
     ]
    }
   ],
   "source": [
    "prod_id  = str(input('Enter product_id            : '))\n",
    "med_name = str(input('Enter the medicines name    : '))\n",
    "med_d    = str(input('Enter the description       : '))\n",
    "tab      = str(input('Enter the number of tablets : '))\n",
    "amt      = str(input('Enter the amount            : '))\n",
    "stock    = str(input('Enter stock size            : '))\n",
    "med_des = {}\n",
    "med_des[\"name\"] = med_name\n",
    "med_des[\"description\"] = med_d\n",
    "med_des[\"tablets\"] = tab\n",
    "med_des[\"amount\"] = amt\n",
    "med_des[\"stock\"] = stock\n",
    "meds[prod_id] = med_des\n",
    "meds\n",
    "fd = open('medics.json','a')\n",
    "fd.write(dumps(meds))\n",
    "fd.close()"
   ]
  },
  {
   "cell_type": "markdown",
   "metadata": {},
   "source": [
    "# Searching based on product_id\n"
   ]
  },
  {
   "cell_type": "code",
   "execution_count": 55,
   "metadata": {},
   "outputs": [
    {
     "name": "stdout",
     "output_type": "stream",
     "text": [
      "Enter product_id: 123458\n",
      "--------------------------------------------------\n",
      "Medicine Name   :  Dispirin \n",
      "Description     :  Headaches, Pain reliever\n",
      "Tablets         :  10\n",
      "--------------------------------------------------\n",
      "Amount          : Rs. 10\n"
     ]
    }
   ],
   "source": [
    "n = input('Enter product_id: ')\n",
    "for i in meds:\n",
    "    if int(n) == int(i):\n",
    "        print('-'*50)\n",
    "        print('Medicine Name   : ',meds[i]['name'])\n",
    "        print('Description     : ',meds[i]['description'])\n",
    "        print('Tablets         : ',meds[i]['tablets'])\n",
    "        print('-'*50)\n",
    "        print('Amount          : Rs.',meds[i]['amount'])\n",
    "        "
   ]
  },
  {
   "cell_type": "markdown",
   "metadata": {},
   "source": [
    "# Searching based on Medicine name "
   ]
  },
  {
   "cell_type": "code",
   "execution_count": 69,
   "metadata": {},
   "outputs": [
    {
     "name": "stdout",
     "output_type": "stream",
     "text": [
      "Enter Medicine name: Dispirin\n",
      "--------------------------------------------------\n",
      "Medicine Name   :  Dispirin \n",
      "Description     :  Headaches, Pain reliever\n",
      "Tablets         :  10\n",
      "--------------------------------------------------\n",
      "Amount          : Rs. 10\n"
     ]
    }
   ],
   "source": [
    "n = input('Enter Medicine name: ')\n",
    "for i in meds:\n",
    "    if (n.lower() in (meds[i]['name']).lower()):\n",
    "        print('-'*50)\n",
    "        print('Medicine Name   : ',meds[i]['name'])\n",
    "        print('Description     : ',meds[i]['description'])\n",
    "        print('Tablets         : ',meds[i]['tablets'])\n",
    "        print('-'*50)\n",
    "        print('Amount          : Rs.',meds[i]['amount'])\n",
    "        "
   ]
  },
  {
   "cell_type": "markdown",
   "metadata": {},
   "source": [
    "# "
   ]
  },
  {
   "cell_type": "code",
   "execution_count": null,
   "metadata": {},
   "outputs": [],
   "source": []
  },
  {
   "cell_type": "code",
   "execution_count": null,
   "metadata": {},
   "outputs": [],
   "source": []
  },
  {
   "cell_type": "code",
   "execution_count": null,
   "metadata": {},
   "outputs": [],
   "source": []
  }
 ],
 "metadata": {
  "kernelspec": {
   "display_name": "Python 3 (ipykernel)",
   "language": "python",
   "name": "python3"
  },
  "language_info": {
   "codemirror_mode": {
    "name": "ipython",
    "version": 3
   },
   "file_extension": ".py",
   "mimetype": "text/x-python",
   "name": "python",
   "nbconvert_exporter": "python",
   "pygments_lexer": "ipython3",
   "version": "3.9.6"
  },
  "vscode": {
   "interpreter": {
    "hash": "1c4eeb78d5e1dc6cb6e62b5bd20620b702dce5b8b8ded6688ef7aad2e1c0d17c"
   }
  }
 },
 "nbformat": 4,
 "nbformat_minor": 2
}

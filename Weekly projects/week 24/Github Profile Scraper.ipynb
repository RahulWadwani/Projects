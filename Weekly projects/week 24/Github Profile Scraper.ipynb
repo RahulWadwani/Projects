{
 "cells": [
  {
   "cell_type": "code",
   "execution_count": 14,
   "id": "a74230e0",
   "metadata": {},
   "outputs": [],
   "source": [
    "import pandas as pd \n",
    "import numpy as np \n",
    "import requests \n",
    "from bs4 import BeautifulSoup\n",
    "\n",
    "\n",
    "link = 'https://github.com/AshishJangra27'\n",
    "\n",
    "soup = BeautifulSoup(requests.get(link).content,'html.parser')"
   ]
  },
  {
   "cell_type": "code",
   "execution_count": 15,
   "id": "f540f0bc",
   "metadata": {},
   "outputs": [],
   "source": [
    "def social_account(urls):\n",
    "    accounts = []\n",
    "    for url in urls:\n",
    "        if 'kaggle' in url:\n",
    "            accounts.append('Kaggle')\n",
    "        elif 'instagram' in url:\n",
    "            accounts.append('Instagram')\n",
    "        elif 'facebook' in url:\n",
    "            accounts.append('Facebook')\n",
    "        elif 'linkedin' in url:\n",
    "            accounts.append('Linkedin')\n",
    "        elif 'github' in url:\n",
    "            accounts.append('Github')\n",
    "        else:\n",
    "            accounts.append('Personal website')\n",
    "    return ','.join(accounts)"
   ]
  },
  {
   "cell_type": "code",
   "execution_count": 16,
   "id": "98504018",
   "metadata": {},
   "outputs": [
    {
     "data": {
      "text/html": [
       "<div>\n",
       "<style scoped>\n",
       "    .dataframe tbody tr th:only-of-type {\n",
       "        vertical-align: middle;\n",
       "    }\n",
       "\n",
       "    .dataframe tbody tr th {\n",
       "        vertical-align: top;\n",
       "    }\n",
       "\n",
       "    .dataframe thead th {\n",
       "        text-align: right;\n",
       "    }\n",
       "</style>\n",
       "<table border=\"1\" class=\"dataframe\">\n",
       "  <thead>\n",
       "    <tr style=\"text-align: right;\">\n",
       "      <th></th>\n",
       "      <th>user_id</th>\n",
       "      <th>user_name</th>\n",
       "      <th>bio</th>\n",
       "      <th>follower</th>\n",
       "      <th>following</th>\n",
       "      <th>lives_in</th>\n",
       "      <th>url</th>\n",
       "      <th>account</th>\n",
       "      <th>repos</th>\n",
       "      <th>project</th>\n",
       "      <th>packages</th>\n",
       "      <th>stars</th>\n",
       "    </tr>\n",
       "  </thead>\n",
       "  <tbody>\n",
       "    <tr>\n",
       "      <th>0</th>\n",
       "      <td>AshishJangra27</td>\n",
       "      <td>Ashish Jangra</td>\n",
       "      <td>I am an AI Trainer. \\nI train students on tech...</td>\n",
       "      <td>300</td>\n",
       "      <td>1</td>\n",
       "      <td>Noida</td>\n",
       "      <td>[]</td>\n",
       "      <td></td>\n",
       "      <td>72</td>\n",
       "      <td>0</td>\n",
       "      <td>0</td>\n",
       "      <td>52</td>\n",
       "    </tr>\n",
       "  </tbody>\n",
       "</table>\n",
       "</div>"
      ],
      "text/plain": [
       "          user_id      user_name  \\\n",
       "0  AshishJangra27  Ashish Jangra   \n",
       "\n",
       "                                                 bio  follower  following  \\\n",
       "0  I am an AI Trainer. \\nI train students on tech...       300          1   \n",
       "\n",
       "  lives_in url account  repos  project  packages  stars  \n",
       "0    Noida  []             72        0         0     52  "
      ]
     },
     "execution_count": 16,
     "metadata": {},
     "output_type": "execute_result"
    }
   ],
   "source": [
    "user_name  = soup.find('span',class_ = 'p-name vcard-fullname d-block overflow-hidden').text.strip()\n",
    "user_id    = soup.find('span',class_ = 'p-nickname vcard-username d-block').text.strip()\n",
    "bio        = soup.find('div',class_ = 'js-profile-editable-area d-flex flex-column d-md-block').find('div').text\n",
    "lives_in   = soup.find('li',class_ = 'vcard-detail pt-1 hide-sm hide-md').text.strip()\n",
    "data = []\n",
    "for i in soup.find_all('a',class_ = 'Link--secondary no-underline no-wrap'):\n",
    "    if 'follower' in (i.text):\n",
    "        follower = int(i.find('span').text.strip())\n",
    "    elif 'following' in i.text:\n",
    "        following = int(i.find('span').text.strip())\n",
    "    try:        \n",
    "        content  = [int(content.find('span').text.strip()) for content in soup.find('nav',class_ ='UnderlineNav-body width-full p-responsive js-sidenav-container-pjax').find_all('a')[1:]]\n",
    "        repos    = content[0]\n",
    "        project  = content[1]\n",
    "        packages = content[2]\n",
    "        stars    = content[3]\n",
    "    except:\n",
    "        repos    = np.nan\n",
    "        project  = np.nan\n",
    "        packages = np.nan\n",
    "        stars    = np.nan\n",
    "    try:\n",
    "        url = [links.find('a')['href'] for links in soup.find_all('li',class_='vcard-detail pt-1')]\n",
    "        account = social_account(url)\n",
    "    except:\n",
    "        url = np.nan\n",
    "        account = 'no social account has been linked'\n",
    "\n",
    "\n",
    "data.append([user_id , user_name , bio , follower , following ,lives_in,url,account, repos , project , packages , stars])\n",
    "\n",
    "df = pd.DataFrame(data,columns = ['user_id' ,'user_name' ,'bio' ,'follower' ,'following', 'lives_in', 'url','account', 'repos' , 'project' , 'packages' , 'stars'])\n",
    "df.head()\n",
    "\n",
    "\n"
   ]
  },
  {
   "cell_type": "code",
   "execution_count": 8,
   "id": "54bbe621",
   "metadata": {},
   "outputs": [],
   "source": [
    "# scraping the repos"
   ]
  },
  {
   "cell_type": "code",
   "execution_count": 17,
   "id": "164cbbd8",
   "metadata": {},
   "outputs": [],
   "source": [
    "link = 'https://github.com/AshishJangra27?tab=repositories'\n",
    "res = requests.get(link)\n",
    "soup = BeautifulSoup(res.content,'html.parser')\n",
    "\n",
    "repos_links = ','.join(['https://www.github.com' + name.find('a').get('href') for name in soup.find_all('div',class_ ='d-inline-block mb-1')])\n",
    "repos_name  = ','.join([name.find('a').text.strip() for name in soup.find_all('div',class_ ='d-inline-block mb-1')])\n"
   ]
  },
  {
   "cell_type": "code",
   "execution_count": 18,
   "id": "141ae344",
   "metadata": {},
   "outputs": [
    {
     "data": {
      "text/html": [
       "<div>\n",
       "<style scoped>\n",
       "    .dataframe tbody tr th:only-of-type {\n",
       "        vertical-align: middle;\n",
       "    }\n",
       "\n",
       "    .dataframe tbody tr th {\n",
       "        vertical-align: top;\n",
       "    }\n",
       "\n",
       "    .dataframe thead th {\n",
       "        text-align: right;\n",
       "    }\n",
       "</style>\n",
       "<table border=\"1\" class=\"dataframe\">\n",
       "  <thead>\n",
       "    <tr style=\"text-align: right;\">\n",
       "      <th></th>\n",
       "      <th>repos_name</th>\n",
       "      <th>repos_links</th>\n",
       "    </tr>\n",
       "  </thead>\n",
       "  <tbody>\n",
       "    <tr>\n",
       "      <th>0</th>\n",
       "      <td>Skill-India-AI-ML-Scholarship,NLP-Course-GFG,D...</td>\n",
       "      <td>https://www.github.com/AshishJangra27/Skill-In...</td>\n",
       "    </tr>\n",
       "  </tbody>\n",
       "</table>\n",
       "</div>"
      ],
      "text/plain": [
       "                                          repos_name  \\\n",
       "0  Skill-India-AI-ML-Scholarship,NLP-Course-GFG,D...   \n",
       "\n",
       "                                         repos_links  \n",
       "0  https://www.github.com/AshishJangra27/Skill-In...  "
      ]
     },
     "execution_count": 18,
     "metadata": {},
     "output_type": "execute_result"
    }
   ],
   "source": [
    "df_ = pd.DataFrame()\n",
    "df_['repos_name'] = [repos_name]\n",
    "df_['repos_links'] = [repos_links]\n",
    "df_"
   ]
  },
  {
   "cell_type": "code",
   "execution_count": 19,
   "id": "f8e7ba36",
   "metadata": {},
   "outputs": [
    {
     "data": {
      "text/html": [
       "<div>\n",
       "<style scoped>\n",
       "    .dataframe tbody tr th:only-of-type {\n",
       "        vertical-align: middle;\n",
       "    }\n",
       "\n",
       "    .dataframe tbody tr th {\n",
       "        vertical-align: top;\n",
       "    }\n",
       "\n",
       "    .dataframe thead th {\n",
       "        text-align: right;\n",
       "    }\n",
       "</style>\n",
       "<table border=\"1\" class=\"dataframe\">\n",
       "  <thead>\n",
       "    <tr style=\"text-align: right;\">\n",
       "      <th></th>\n",
       "      <th>user_id</th>\n",
       "      <th>user_name</th>\n",
       "      <th>bio</th>\n",
       "      <th>follower</th>\n",
       "      <th>following</th>\n",
       "      <th>lives_in</th>\n",
       "      <th>url</th>\n",
       "      <th>account</th>\n",
       "      <th>repos</th>\n",
       "      <th>project</th>\n",
       "      <th>packages</th>\n",
       "      <th>stars</th>\n",
       "      <th>repos_name</th>\n",
       "      <th>repos_links</th>\n",
       "    </tr>\n",
       "  </thead>\n",
       "  <tbody>\n",
       "    <tr>\n",
       "      <th>0</th>\n",
       "      <td>AshishJangra27</td>\n",
       "      <td>Ashish Jangra</td>\n",
       "      <td>I am an AI Trainer. \\nI train students on tech...</td>\n",
       "      <td>300</td>\n",
       "      <td>1</td>\n",
       "      <td>Noida</td>\n",
       "      <td>[]</td>\n",
       "      <td></td>\n",
       "      <td>72</td>\n",
       "      <td>0</td>\n",
       "      <td>0</td>\n",
       "      <td>52</td>\n",
       "      <td>Skill-India-AI-ML-Scholarship,NLP-Course-GFG,D...</td>\n",
       "      <td>https://www.github.com/AshishJangra27/Skill-In...</td>\n",
       "    </tr>\n",
       "  </tbody>\n",
       "</table>\n",
       "</div>"
      ],
      "text/plain": [
       "          user_id      user_name  \\\n",
       "0  AshishJangra27  Ashish Jangra   \n",
       "\n",
       "                                                 bio  follower  following  \\\n",
       "0  I am an AI Trainer. \\nI train students on tech...       300          1   \n",
       "\n",
       "  lives_in url account  repos  project  packages  stars  \\\n",
       "0    Noida  []             72        0         0     52   \n",
       "\n",
       "                                          repos_name  \\\n",
       "0  Skill-India-AI-ML-Scholarship,NLP-Course-GFG,D...   \n",
       "\n",
       "                                         repos_links  \n",
       "0  https://www.github.com/AshishJangra27/Skill-In...  "
      ]
     },
     "execution_count": 19,
     "metadata": {},
     "output_type": "execute_result"
    }
   ],
   "source": [
    "df = pd.concat([df,df_],axis = 1)\n",
    "df"
   ]
  },
  {
   "cell_type": "code",
   "execution_count": 12,
   "id": "f8e1c112",
   "metadata": {},
   "outputs": [],
   "source": [
    "# scraping the stars\n"
   ]
  },
  {
   "cell_type": "code",
   "execution_count": 92,
   "id": "0db2ccc3",
   "metadata": {},
   "outputs": [],
   "source": [
    "link = 'https://github.com/AshishJangra27?tab=stars'\n",
    "data = []\n",
    "for pages in range(2):\n",
    "    res = requests.get(link)\n",
    "    soup = BeautifulSoup(res.content,'html.parser')\n",
    "    stars_repo_link = ','.join(['https://www.github.com' + stars.find('a').get('href') for stars in soup.find_all('div',class_ = 'd-inline-block mb-1')])\n",
    "    stars_repo_name = ','.join([stars.find('a').text.strip().split('/')[1].strip() for stars in soup.find_all('div',class_ = 'd-inline-block mb-1')])\n",
    "    \n",
    "    data.append([[stars_repo_link],[stars_repo_name]])\n",
    "    \n",
    "    if 'Next' in soup.find('div',class_ = 'BtnGroup').text:\n",
    "        link = (soup.find('div',class_ = 'BtnGroup').find('a').get('href'))\n"
   ]
  },
  {
   "cell_type": "code",
   "execution_count": null,
   "id": "92e9291e",
   "metadata": {},
   "outputs": [],
   "source": []
  },
  {
   "cell_type": "code",
   "execution_count": null,
   "id": "6c84d61d",
   "metadata": {},
   "outputs": [],
   "source": []
  },
  {
   "cell_type": "code",
   "execution_count": null,
   "id": "d615aae6",
   "metadata": {},
   "outputs": [],
   "source": []
  },
  {
   "cell_type": "code",
   "execution_count": null,
   "id": "ad486c61",
   "metadata": {},
   "outputs": [],
   "source": []
  },
  {
   "cell_type": "code",
   "execution_count": null,
   "id": "1bbd296b",
   "metadata": {},
   "outputs": [],
   "source": []
  },
  {
   "cell_type": "code",
   "execution_count": null,
   "id": "ae4c0489",
   "metadata": {},
   "outputs": [],
   "source": []
  },
  {
   "cell_type": "code",
   "execution_count": null,
   "id": "121f6dff",
   "metadata": {},
   "outputs": [],
   "source": []
  },
  {
   "cell_type": "code",
   "execution_count": null,
   "id": "4b7dce0e",
   "metadata": {},
   "outputs": [],
   "source": []
  },
  {
   "cell_type": "code",
   "execution_count": null,
   "id": "7ce3d894",
   "metadata": {},
   "outputs": [],
   "source": []
  },
  {
   "cell_type": "code",
   "execution_count": null,
   "id": "345b1546",
   "metadata": {},
   "outputs": [],
   "source": []
  },
  {
   "cell_type": "code",
   "execution_count": null,
   "id": "d1789bae",
   "metadata": {},
   "outputs": [],
   "source": []
  },
  {
   "cell_type": "code",
   "execution_count": null,
   "id": "5ced2247",
   "metadata": {},
   "outputs": [],
   "source": []
  },
  {
   "cell_type": "code",
   "execution_count": null,
   "id": "c419c84e",
   "metadata": {},
   "outputs": [],
   "source": []
  },
  {
   "cell_type": "code",
   "execution_count": null,
   "id": "71723bbf",
   "metadata": {},
   "outputs": [],
   "source": []
  }
 ],
 "metadata": {
  "kernelspec": {
   "display_name": "Python 3 (ipykernel)",
   "language": "python",
   "name": "python3"
  },
  "language_info": {
   "codemirror_mode": {
    "name": "ipython",
    "version": 3
   },
   "file_extension": ".py",
   "mimetype": "text/x-python",
   "name": "python",
   "nbconvert_exporter": "python",
   "pygments_lexer": "ipython3",
   "version": "3.10.6"
  }
 },
 "nbformat": 4,
 "nbformat_minor": 5
}

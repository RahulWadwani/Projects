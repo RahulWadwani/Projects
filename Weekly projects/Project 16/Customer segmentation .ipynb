{
 "cells": [
  {
   "cell_type": "markdown",
   "id": "7c6f50b0",
   "metadata": {},
   "source": [
    "#### Project \n",
    "#### in marketing, market segmentation is the process of dividing a board\n",
    "#### consumer or business market, normally consisting of existing and \n",
    "#### potential customers, into sub-groups of consumers(known as segments)\n",
    "#### based on some type of shared characteristics. customer segmentation\n",
    "#### is one of the most important applications of unsupervised learning\n",
    "#### using clustering techniques, companies can identify the several \n",
    "#### segments of customers allowing them to target the potential user base\n",
    "#### objective of this project is to group the customers into an optimal \n",
    "#### number of clusters with similar characteristics\n",
    "----------------------------------------------------\n",
    "* **what to do in this project**\n",
    "    * perform data exploration \n",
    "    * perform data transformation \n",
    "    * perform data modelling using k-means algorithm \n",
    "    * perform elbow method to identify the optimal number of clusters \n",
    "    * perform data modelling using multiple clustering algorithms \n",
    "    * perform comparison of different ML algorithms and choose the best clustering algorithm\n",
    "\n",
    "\n",
    "\n"
   ]
  },
  {
   "cell_type": "code",
   "execution_count": null,
   "id": "995f63af",
   "metadata": {},
   "outputs": [],
   "source": []
  }
 ],
 "metadata": {
  "kernelspec": {
   "display_name": "Python 3 (ipykernel)",
   "language": "python",
   "name": "python3"
  },
  "language_info": {
   "codemirror_mode": {
    "name": "ipython",
    "version": 3
   },
   "file_extension": ".py",
   "mimetype": "text/x-python",
   "name": "python",
   "nbconvert_exporter": "python",
   "pygments_lexer": "ipython3",
   "version": "3.10.6"
  }
 },
 "nbformat": 4,
 "nbformat_minor": 5
}

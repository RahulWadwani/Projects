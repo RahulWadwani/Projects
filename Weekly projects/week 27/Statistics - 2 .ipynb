{
 "cells": [
  {
   "cell_type": "markdown",
   "id": "6be21512",
   "metadata": {},
   "source": [
    "# Importing the essential library and reading the csv file"
   ]
  },
  {
   "cell_type": "code",
   "execution_count": 1,
   "id": "b57aec72",
   "metadata": {},
   "outputs": [
    {
     "data": {
      "text/html": [
       "<div>\n",
       "<style scoped>\n",
       "    .dataframe tbody tr th:only-of-type {\n",
       "        vertical-align: middle;\n",
       "    }\n",
       "\n",
       "    .dataframe tbody tr th {\n",
       "        vertical-align: top;\n",
       "    }\n",
       "\n",
       "    .dataframe thead th {\n",
       "        text-align: right;\n",
       "    }\n",
       "</style>\n",
       "<table border=\"1\" class=\"dataframe\">\n",
       "  <thead>\n",
       "    <tr style=\"text-align: right;\">\n",
       "      <th></th>\n",
       "      <th>sl_no</th>\n",
       "      <th>gender</th>\n",
       "      <th>ssc_p</th>\n",
       "      <th>ssc_b</th>\n",
       "      <th>hsc_p</th>\n",
       "      <th>hsc_b</th>\n",
       "      <th>hsc_s</th>\n",
       "      <th>degree_p</th>\n",
       "      <th>degree_t</th>\n",
       "      <th>workex</th>\n",
       "      <th>etest_p</th>\n",
       "      <th>specialisation</th>\n",
       "      <th>mba_p</th>\n",
       "      <th>status</th>\n",
       "      <th>salary</th>\n",
       "    </tr>\n",
       "  </thead>\n",
       "  <tbody>\n",
       "    <tr>\n",
       "      <th>0</th>\n",
       "      <td>1</td>\n",
       "      <td>M</td>\n",
       "      <td>67.00</td>\n",
       "      <td>Others</td>\n",
       "      <td>91.00</td>\n",
       "      <td>Others</td>\n",
       "      <td>Commerce</td>\n",
       "      <td>58.00</td>\n",
       "      <td>Sci&amp;Tech</td>\n",
       "      <td>No</td>\n",
       "      <td>55.0</td>\n",
       "      <td>Mkt&amp;HR</td>\n",
       "      <td>58.80</td>\n",
       "      <td>Placed</td>\n",
       "      <td>270000.0</td>\n",
       "    </tr>\n",
       "    <tr>\n",
       "      <th>1</th>\n",
       "      <td>2</td>\n",
       "      <td>M</td>\n",
       "      <td>79.33</td>\n",
       "      <td>Central</td>\n",
       "      <td>78.33</td>\n",
       "      <td>Others</td>\n",
       "      <td>Science</td>\n",
       "      <td>77.48</td>\n",
       "      <td>Sci&amp;Tech</td>\n",
       "      <td>Yes</td>\n",
       "      <td>86.5</td>\n",
       "      <td>Mkt&amp;Fin</td>\n",
       "      <td>66.28</td>\n",
       "      <td>Placed</td>\n",
       "      <td>200000.0</td>\n",
       "    </tr>\n",
       "    <tr>\n",
       "      <th>2</th>\n",
       "      <td>3</td>\n",
       "      <td>M</td>\n",
       "      <td>65.00</td>\n",
       "      <td>Central</td>\n",
       "      <td>68.00</td>\n",
       "      <td>Central</td>\n",
       "      <td>Arts</td>\n",
       "      <td>64.00</td>\n",
       "      <td>Comm&amp;Mgmt</td>\n",
       "      <td>No</td>\n",
       "      <td>75.0</td>\n",
       "      <td>Mkt&amp;Fin</td>\n",
       "      <td>57.80</td>\n",
       "      <td>Placed</td>\n",
       "      <td>250000.0</td>\n",
       "    </tr>\n",
       "    <tr>\n",
       "      <th>3</th>\n",
       "      <td>4</td>\n",
       "      <td>M</td>\n",
       "      <td>56.00</td>\n",
       "      <td>Central</td>\n",
       "      <td>52.00</td>\n",
       "      <td>Central</td>\n",
       "      <td>Science</td>\n",
       "      <td>52.00</td>\n",
       "      <td>Sci&amp;Tech</td>\n",
       "      <td>No</td>\n",
       "      <td>66.0</td>\n",
       "      <td>Mkt&amp;HR</td>\n",
       "      <td>59.43</td>\n",
       "      <td>Not Placed</td>\n",
       "      <td>NaN</td>\n",
       "    </tr>\n",
       "    <tr>\n",
       "      <th>4</th>\n",
       "      <td>5</td>\n",
       "      <td>M</td>\n",
       "      <td>85.80</td>\n",
       "      <td>Central</td>\n",
       "      <td>73.60</td>\n",
       "      <td>Central</td>\n",
       "      <td>Commerce</td>\n",
       "      <td>73.30</td>\n",
       "      <td>Comm&amp;Mgmt</td>\n",
       "      <td>No</td>\n",
       "      <td>96.8</td>\n",
       "      <td>Mkt&amp;Fin</td>\n",
       "      <td>55.50</td>\n",
       "      <td>Placed</td>\n",
       "      <td>425000.0</td>\n",
       "    </tr>\n",
       "  </tbody>\n",
       "</table>\n",
       "</div>"
      ],
      "text/plain": [
       "   sl_no gender  ssc_p    ssc_b  hsc_p    hsc_b     hsc_s  degree_p  \\\n",
       "0      1      M  67.00   Others  91.00   Others  Commerce     58.00   \n",
       "1      2      M  79.33  Central  78.33   Others   Science     77.48   \n",
       "2      3      M  65.00  Central  68.00  Central      Arts     64.00   \n",
       "3      4      M  56.00  Central  52.00  Central   Science     52.00   \n",
       "4      5      M  85.80  Central  73.60  Central  Commerce     73.30   \n",
       "\n",
       "    degree_t workex  etest_p specialisation  mba_p      status    salary  \n",
       "0   Sci&Tech     No     55.0         Mkt&HR  58.80      Placed  270000.0  \n",
       "1   Sci&Tech    Yes     86.5        Mkt&Fin  66.28      Placed  200000.0  \n",
       "2  Comm&Mgmt     No     75.0        Mkt&Fin  57.80      Placed  250000.0  \n",
       "3   Sci&Tech     No     66.0         Mkt&HR  59.43  Not Placed       NaN  \n",
       "4  Comm&Mgmt     No     96.8        Mkt&Fin  55.50      Placed  425000.0  "
      ]
     },
     "execution_count": 1,
     "metadata": {},
     "output_type": "execute_result"
    }
   ],
   "source": [
    "import pandas as pd \n",
    "\n",
    "df = pd.read_csv('Placement_Data_Full_Class.csv')\n",
    "df.head()"
   ]
  },
  {
   "cell_type": "markdown",
   "id": "443d51df",
   "metadata": {},
   "source": [
    "# checking the null values"
   ]
  },
  {
   "cell_type": "code",
   "execution_count": 2,
   "id": "e2579b7c",
   "metadata": {},
   "outputs": [
    {
     "data": {
      "text/plain": [
       "sl_no              0\n",
       "gender             0\n",
       "ssc_p              0\n",
       "ssc_b              0\n",
       "hsc_p              0\n",
       "hsc_b              0\n",
       "hsc_s              0\n",
       "degree_p           0\n",
       "degree_t           0\n",
       "workex             0\n",
       "etest_p            0\n",
       "specialisation     0\n",
       "mba_p              0\n",
       "status             0\n",
       "salary            67\n",
       "dtype: int64"
      ]
     },
     "execution_count": 2,
     "metadata": {},
     "output_type": "execute_result"
    }
   ],
   "source": [
    "df.isnull().sum()"
   ]
  },
  {
   "cell_type": "markdown",
   "id": "052eeaab",
   "metadata": {},
   "source": [
    "# replacing all the null values 0 (since all the null values belongs to salary columns)"
   ]
  },
  {
   "cell_type": "code",
   "execution_count": 3,
   "id": "f974e8d8",
   "metadata": {},
   "outputs": [],
   "source": [
    "df = df.fillna(0.0)"
   ]
  },
  {
   "cell_type": "markdown",
   "id": "0bbbda61",
   "metadata": {},
   "source": [
    "# Exploring the dataset "
   ]
  },
  {
   "cell_type": "code",
   "execution_count": 4,
   "id": "04170610",
   "metadata": {},
   "outputs": [
    {
     "name": "stdout",
     "output_type": "stream",
     "text": [
      "<class 'pandas.core.frame.DataFrame'>\n",
      "RangeIndex: 215 entries, 0 to 214\n",
      "Data columns (total 15 columns):\n",
      " #   Column          Non-Null Count  Dtype  \n",
      "---  ------          --------------  -----  \n",
      " 0   sl_no           215 non-null    int64  \n",
      " 1   gender          215 non-null    object \n",
      " 2   ssc_p           215 non-null    float64\n",
      " 3   ssc_b           215 non-null    object \n",
      " 4   hsc_p           215 non-null    float64\n",
      " 5   hsc_b           215 non-null    object \n",
      " 6   hsc_s           215 non-null    object \n",
      " 7   degree_p        215 non-null    float64\n",
      " 8   degree_t        215 non-null    object \n",
      " 9   workex          215 non-null    object \n",
      " 10  etest_p         215 non-null    float64\n",
      " 11  specialisation  215 non-null    object \n",
      " 12  mba_p           215 non-null    float64\n",
      " 13  status          215 non-null    object \n",
      " 14  salary          215 non-null    float64\n",
      "dtypes: float64(6), int64(1), object(8)\n",
      "memory usage: 25.3+ KB\n"
     ]
    }
   ],
   "source": [
    "df.info()"
   ]
  },
  {
   "cell_type": "code",
   "execution_count": 5,
   "id": "410ea351",
   "metadata": {},
   "outputs": [
    {
     "data": {
      "text/html": [
       "<div>\n",
       "<style scoped>\n",
       "    .dataframe tbody tr th:only-of-type {\n",
       "        vertical-align: middle;\n",
       "    }\n",
       "\n",
       "    .dataframe tbody tr th {\n",
       "        vertical-align: top;\n",
       "    }\n",
       "\n",
       "    .dataframe thead th {\n",
       "        text-align: right;\n",
       "    }\n",
       "</style>\n",
       "<table border=\"1\" class=\"dataframe\">\n",
       "  <thead>\n",
       "    <tr style=\"text-align: right;\">\n",
       "      <th></th>\n",
       "      <th>sl_no</th>\n",
       "      <th>ssc_p</th>\n",
       "      <th>hsc_p</th>\n",
       "      <th>degree_p</th>\n",
       "      <th>etest_p</th>\n",
       "      <th>mba_p</th>\n",
       "      <th>salary</th>\n",
       "    </tr>\n",
       "  </thead>\n",
       "  <tbody>\n",
       "    <tr>\n",
       "      <th>count</th>\n",
       "      <td>215.000000</td>\n",
       "      <td>215.000000</td>\n",
       "      <td>215.000000</td>\n",
       "      <td>215.000000</td>\n",
       "      <td>215.000000</td>\n",
       "      <td>215.000000</td>\n",
       "      <td>215.000000</td>\n",
       "    </tr>\n",
       "    <tr>\n",
       "      <th>mean</th>\n",
       "      <td>108.000000</td>\n",
       "      <td>67.303395</td>\n",
       "      <td>66.333163</td>\n",
       "      <td>66.370186</td>\n",
       "      <td>72.100558</td>\n",
       "      <td>62.278186</td>\n",
       "      <td>198702.325581</td>\n",
       "    </tr>\n",
       "    <tr>\n",
       "      <th>std</th>\n",
       "      <td>62.209324</td>\n",
       "      <td>10.827205</td>\n",
       "      <td>10.897509</td>\n",
       "      <td>7.358743</td>\n",
       "      <td>13.275956</td>\n",
       "      <td>5.833385</td>\n",
       "      <td>154780.926716</td>\n",
       "    </tr>\n",
       "    <tr>\n",
       "      <th>min</th>\n",
       "      <td>1.000000</td>\n",
       "      <td>40.890000</td>\n",
       "      <td>37.000000</td>\n",
       "      <td>50.000000</td>\n",
       "      <td>50.000000</td>\n",
       "      <td>51.210000</td>\n",
       "      <td>0.000000</td>\n",
       "    </tr>\n",
       "    <tr>\n",
       "      <th>25%</th>\n",
       "      <td>54.500000</td>\n",
       "      <td>60.600000</td>\n",
       "      <td>60.900000</td>\n",
       "      <td>61.000000</td>\n",
       "      <td>60.000000</td>\n",
       "      <td>57.945000</td>\n",
       "      <td>0.000000</td>\n",
       "    </tr>\n",
       "    <tr>\n",
       "      <th>50%</th>\n",
       "      <td>108.000000</td>\n",
       "      <td>67.000000</td>\n",
       "      <td>65.000000</td>\n",
       "      <td>66.000000</td>\n",
       "      <td>71.000000</td>\n",
       "      <td>62.000000</td>\n",
       "      <td>240000.000000</td>\n",
       "    </tr>\n",
       "    <tr>\n",
       "      <th>75%</th>\n",
       "      <td>161.500000</td>\n",
       "      <td>75.700000</td>\n",
       "      <td>73.000000</td>\n",
       "      <td>72.000000</td>\n",
       "      <td>83.500000</td>\n",
       "      <td>66.255000</td>\n",
       "      <td>282500.000000</td>\n",
       "    </tr>\n",
       "    <tr>\n",
       "      <th>max</th>\n",
       "      <td>215.000000</td>\n",
       "      <td>89.400000</td>\n",
       "      <td>97.700000</td>\n",
       "      <td>91.000000</td>\n",
       "      <td>98.000000</td>\n",
       "      <td>77.890000</td>\n",
       "      <td>940000.000000</td>\n",
       "    </tr>\n",
       "  </tbody>\n",
       "</table>\n",
       "</div>"
      ],
      "text/plain": [
       "            sl_no       ssc_p       hsc_p    degree_p     etest_p       mba_p  \\\n",
       "count  215.000000  215.000000  215.000000  215.000000  215.000000  215.000000   \n",
       "mean   108.000000   67.303395   66.333163   66.370186   72.100558   62.278186   \n",
       "std     62.209324   10.827205   10.897509    7.358743   13.275956    5.833385   \n",
       "min      1.000000   40.890000   37.000000   50.000000   50.000000   51.210000   \n",
       "25%     54.500000   60.600000   60.900000   61.000000   60.000000   57.945000   \n",
       "50%    108.000000   67.000000   65.000000   66.000000   71.000000   62.000000   \n",
       "75%    161.500000   75.700000   73.000000   72.000000   83.500000   66.255000   \n",
       "max    215.000000   89.400000   97.700000   91.000000   98.000000   77.890000   \n",
       "\n",
       "              salary  \n",
       "count     215.000000  \n",
       "mean   198702.325581  \n",
       "std    154780.926716  \n",
       "min         0.000000  \n",
       "25%         0.000000  \n",
       "50%    240000.000000  \n",
       "75%    282500.000000  \n",
       "max    940000.000000  "
      ]
     },
     "execution_count": 5,
     "metadata": {},
     "output_type": "execute_result"
    }
   ],
   "source": [
    "df.describe()"
   ]
  },
  {
   "cell_type": "code",
   "execution_count": 6,
   "id": "3dbdf638",
   "metadata": {},
   "outputs": [],
   "source": [
    "#finding the outlier"
   ]
  },
  {
   "cell_type": "code",
   "execution_count": 7,
   "id": "08f06061",
   "metadata": {},
   "outputs": [],
   "source": [
    "df = df[df['salary']<=df['salary'].quantile(0.99)]"
   ]
  },
  {
   "cell_type": "code",
   "execution_count": 8,
   "id": "fe5540e9",
   "metadata": {},
   "outputs": [
    {
     "data": {
      "text/html": [
       "<div>\n",
       "<style scoped>\n",
       "    .dataframe tbody tr th:only-of-type {\n",
       "        vertical-align: middle;\n",
       "    }\n",
       "\n",
       "    .dataframe tbody tr th {\n",
       "        vertical-align: top;\n",
       "    }\n",
       "\n",
       "    .dataframe thead th {\n",
       "        text-align: right;\n",
       "    }\n",
       "</style>\n",
       "<table border=\"1\" class=\"dataframe\">\n",
       "  <thead>\n",
       "    <tr style=\"text-align: right;\">\n",
       "      <th></th>\n",
       "      <th>sl_no</th>\n",
       "      <th>ssc_p</th>\n",
       "      <th>hsc_p</th>\n",
       "      <th>degree_p</th>\n",
       "      <th>etest_p</th>\n",
       "      <th>mba_p</th>\n",
       "      <th>salary</th>\n",
       "    </tr>\n",
       "  </thead>\n",
       "  <tbody>\n",
       "    <tr>\n",
       "      <th>count</th>\n",
       "      <td>212.000000</td>\n",
       "      <td>212.000000</td>\n",
       "      <td>212.000000</td>\n",
       "      <td>212.000000</td>\n",
       "      <td>212.000000</td>\n",
       "      <td>212.000000</td>\n",
       "      <td>212.000000</td>\n",
       "    </tr>\n",
       "    <tr>\n",
       "      <th>mean</th>\n",
       "      <td>107.410377</td>\n",
       "      <td>67.289764</td>\n",
       "      <td>66.214953</td>\n",
       "      <td>66.358443</td>\n",
       "      <td>72.046981</td>\n",
       "      <td>62.232830</td>\n",
       "      <td>190759.433962</td>\n",
       "    </tr>\n",
       "    <tr>\n",
       "      <th>std</th>\n",
       "      <td>62.385945</td>\n",
       "      <td>10.884665</td>\n",
       "      <td>10.755172</td>\n",
       "      <td>7.336076</td>\n",
       "      <td>13.253058</td>\n",
       "      <td>5.842984</td>\n",
       "      <td>139716.821446</td>\n",
       "    </tr>\n",
       "    <tr>\n",
       "      <th>min</th>\n",
       "      <td>1.000000</td>\n",
       "      <td>40.890000</td>\n",
       "      <td>37.000000</td>\n",
       "      <td>50.000000</td>\n",
       "      <td>50.000000</td>\n",
       "      <td>51.210000</td>\n",
       "      <td>0.000000</td>\n",
       "    </tr>\n",
       "    <tr>\n",
       "      <th>25%</th>\n",
       "      <td>53.750000</td>\n",
       "      <td>60.357500</td>\n",
       "      <td>60.950000</td>\n",
       "      <td>61.000000</td>\n",
       "      <td>60.000000</td>\n",
       "      <td>57.875000</td>\n",
       "      <td>0.000000</td>\n",
       "    </tr>\n",
       "    <tr>\n",
       "      <th>50%</th>\n",
       "      <td>106.500000</td>\n",
       "      <td>67.000000</td>\n",
       "      <td>65.000000</td>\n",
       "      <td>66.000000</td>\n",
       "      <td>70.500000</td>\n",
       "      <td>61.950000</td>\n",
       "      <td>240000.000000</td>\n",
       "    </tr>\n",
       "    <tr>\n",
       "      <th>75%</th>\n",
       "      <td>161.250000</td>\n",
       "      <td>76.000000</td>\n",
       "      <td>73.000000</td>\n",
       "      <td>72.000000</td>\n",
       "      <td>83.250000</td>\n",
       "      <td>66.242500</td>\n",
       "      <td>278500.000000</td>\n",
       "    </tr>\n",
       "    <tr>\n",
       "      <th>max</th>\n",
       "      <td>215.000000</td>\n",
       "      <td>89.400000</td>\n",
       "      <td>97.700000</td>\n",
       "      <td>91.000000</td>\n",
       "      <td>98.000000</td>\n",
       "      <td>77.890000</td>\n",
       "      <td>500000.000000</td>\n",
       "    </tr>\n",
       "  </tbody>\n",
       "</table>\n",
       "</div>"
      ],
      "text/plain": [
       "            sl_no       ssc_p       hsc_p    degree_p     etest_p       mba_p  \\\n",
       "count  212.000000  212.000000  212.000000  212.000000  212.000000  212.000000   \n",
       "mean   107.410377   67.289764   66.214953   66.358443   72.046981   62.232830   \n",
       "std     62.385945   10.884665   10.755172    7.336076   13.253058    5.842984   \n",
       "min      1.000000   40.890000   37.000000   50.000000   50.000000   51.210000   \n",
       "25%     53.750000   60.357500   60.950000   61.000000   60.000000   57.875000   \n",
       "50%    106.500000   67.000000   65.000000   66.000000   70.500000   61.950000   \n",
       "75%    161.250000   76.000000   73.000000   72.000000   83.250000   66.242500   \n",
       "max    215.000000   89.400000   97.700000   91.000000   98.000000   77.890000   \n",
       "\n",
       "              salary  \n",
       "count     212.000000  \n",
       "mean   190759.433962  \n",
       "std    139716.821446  \n",
       "min         0.000000  \n",
       "25%         0.000000  \n",
       "50%    240000.000000  \n",
       "75%    278500.000000  \n",
       "max    500000.000000  "
      ]
     },
     "execution_count": 8,
     "metadata": {},
     "output_type": "execute_result"
    }
   ],
   "source": [
    "df.describe()"
   ]
  },
  {
   "cell_type": "markdown",
   "id": "33f20854",
   "metadata": {},
   "source": [
    "# pre-processing the salary column "
   ]
  },
  {
   "cell_type": "code",
   "execution_count": 9,
   "id": "330b394c",
   "metadata": {},
   "outputs": [
    {
     "data": {
      "text/html": [
       "<div>\n",
       "<style scoped>\n",
       "    .dataframe tbody tr th:only-of-type {\n",
       "        vertical-align: middle;\n",
       "    }\n",
       "\n",
       "    .dataframe tbody tr th {\n",
       "        vertical-align: top;\n",
       "    }\n",
       "\n",
       "    .dataframe thead th {\n",
       "        text-align: right;\n",
       "    }\n",
       "</style>\n",
       "<table border=\"1\" class=\"dataframe\">\n",
       "  <thead>\n",
       "    <tr style=\"text-align: right;\">\n",
       "      <th></th>\n",
       "      <th>sl_no</th>\n",
       "      <th>gender</th>\n",
       "      <th>ssc_p</th>\n",
       "      <th>ssc_b</th>\n",
       "      <th>hsc_p</th>\n",
       "      <th>hsc_b</th>\n",
       "      <th>hsc_s</th>\n",
       "      <th>degree_p</th>\n",
       "      <th>degree_t</th>\n",
       "      <th>workex</th>\n",
       "      <th>etest_p</th>\n",
       "      <th>specialisation</th>\n",
       "      <th>mba_p</th>\n",
       "      <th>status</th>\n",
       "      <th>salary</th>\n",
       "    </tr>\n",
       "  </thead>\n",
       "  <tbody>\n",
       "    <tr>\n",
       "      <th>0</th>\n",
       "      <td>1</td>\n",
       "      <td>M</td>\n",
       "      <td>67.00</td>\n",
       "      <td>Others</td>\n",
       "      <td>91.00</td>\n",
       "      <td>Others</td>\n",
       "      <td>Commerce</td>\n",
       "      <td>58.00</td>\n",
       "      <td>Sci&amp;Tech</td>\n",
       "      <td>No</td>\n",
       "      <td>55.0</td>\n",
       "      <td>Mkt&amp;HR</td>\n",
       "      <td>58.80</td>\n",
       "      <td>Placed</td>\n",
       "      <td>270000</td>\n",
       "    </tr>\n",
       "    <tr>\n",
       "      <th>1</th>\n",
       "      <td>2</td>\n",
       "      <td>M</td>\n",
       "      <td>79.33</td>\n",
       "      <td>Central</td>\n",
       "      <td>78.33</td>\n",
       "      <td>Others</td>\n",
       "      <td>Science</td>\n",
       "      <td>77.48</td>\n",
       "      <td>Sci&amp;Tech</td>\n",
       "      <td>Yes</td>\n",
       "      <td>86.5</td>\n",
       "      <td>Mkt&amp;Fin</td>\n",
       "      <td>66.28</td>\n",
       "      <td>Placed</td>\n",
       "      <td>200000</td>\n",
       "    </tr>\n",
       "    <tr>\n",
       "      <th>2</th>\n",
       "      <td>3</td>\n",
       "      <td>M</td>\n",
       "      <td>65.00</td>\n",
       "      <td>Central</td>\n",
       "      <td>68.00</td>\n",
       "      <td>Central</td>\n",
       "      <td>Arts</td>\n",
       "      <td>64.00</td>\n",
       "      <td>Comm&amp;Mgmt</td>\n",
       "      <td>No</td>\n",
       "      <td>75.0</td>\n",
       "      <td>Mkt&amp;Fin</td>\n",
       "      <td>57.80</td>\n",
       "      <td>Placed</td>\n",
       "      <td>250000</td>\n",
       "    </tr>\n",
       "    <tr>\n",
       "      <th>3</th>\n",
       "      <td>4</td>\n",
       "      <td>M</td>\n",
       "      <td>56.00</td>\n",
       "      <td>Central</td>\n",
       "      <td>52.00</td>\n",
       "      <td>Central</td>\n",
       "      <td>Science</td>\n",
       "      <td>52.00</td>\n",
       "      <td>Sci&amp;Tech</td>\n",
       "      <td>No</td>\n",
       "      <td>66.0</td>\n",
       "      <td>Mkt&amp;HR</td>\n",
       "      <td>59.43</td>\n",
       "      <td>Not Placed</td>\n",
       "      <td>0</td>\n",
       "    </tr>\n",
       "    <tr>\n",
       "      <th>4</th>\n",
       "      <td>5</td>\n",
       "      <td>M</td>\n",
       "      <td>85.80</td>\n",
       "      <td>Central</td>\n",
       "      <td>73.60</td>\n",
       "      <td>Central</td>\n",
       "      <td>Commerce</td>\n",
       "      <td>73.30</td>\n",
       "      <td>Comm&amp;Mgmt</td>\n",
       "      <td>No</td>\n",
       "      <td>96.8</td>\n",
       "      <td>Mkt&amp;Fin</td>\n",
       "      <td>55.50</td>\n",
       "      <td>Placed</td>\n",
       "      <td>425000</td>\n",
       "    </tr>\n",
       "  </tbody>\n",
       "</table>\n",
       "</div>"
      ],
      "text/plain": [
       "   sl_no gender  ssc_p    ssc_b  hsc_p    hsc_b     hsc_s  degree_p  \\\n",
       "0      1      M  67.00   Others  91.00   Others  Commerce     58.00   \n",
       "1      2      M  79.33  Central  78.33   Others   Science     77.48   \n",
       "2      3      M  65.00  Central  68.00  Central      Arts     64.00   \n",
       "3      4      M  56.00  Central  52.00  Central   Science     52.00   \n",
       "4      5      M  85.80  Central  73.60  Central  Commerce     73.30   \n",
       "\n",
       "    degree_t workex  etest_p specialisation  mba_p      status  salary  \n",
       "0   Sci&Tech     No     55.0         Mkt&HR  58.80      Placed  270000  \n",
       "1   Sci&Tech    Yes     86.5        Mkt&Fin  66.28      Placed  200000  \n",
       "2  Comm&Mgmt     No     75.0        Mkt&Fin  57.80      Placed  250000  \n",
       "3   Sci&Tech     No     66.0         Mkt&HR  59.43  Not Placed       0  \n",
       "4  Comm&Mgmt     No     96.8        Mkt&Fin  55.50      Placed  425000  "
      ]
     },
     "execution_count": 9,
     "metadata": {},
     "output_type": "execute_result"
    }
   ],
   "source": [
    "sal = []\n",
    "for i in df['salary']:\n",
    "    sal.append(int(i))\n",
    "    \n",
    "df['salary'] = sal\n",
    "df.head()"
   ]
  },
  {
   "cell_type": "code",
   "execution_count": 10,
   "id": "e2764a15",
   "metadata": {},
   "outputs": [
    {
     "data": {
      "text/html": [
       "<div>\n",
       "<style scoped>\n",
       "    .dataframe tbody tr th:only-of-type {\n",
       "        vertical-align: middle;\n",
       "    }\n",
       "\n",
       "    .dataframe tbody tr th {\n",
       "        vertical-align: top;\n",
       "    }\n",
       "\n",
       "    .dataframe thead th {\n",
       "        text-align: right;\n",
       "    }\n",
       "</style>\n",
       "<table border=\"1\" class=\"dataframe\">\n",
       "  <thead>\n",
       "    <tr style=\"text-align: right;\">\n",
       "      <th></th>\n",
       "      <th>sl_no</th>\n",
       "      <th>gender</th>\n",
       "      <th>ssc_p</th>\n",
       "      <th>ssc_b</th>\n",
       "      <th>hsc_p</th>\n",
       "      <th>hsc_b</th>\n",
       "      <th>hsc_s</th>\n",
       "      <th>degree_p</th>\n",
       "      <th>degree_t</th>\n",
       "      <th>workex</th>\n",
       "      <th>etest_p</th>\n",
       "      <th>specialisation</th>\n",
       "      <th>mba_p</th>\n",
       "      <th>status</th>\n",
       "      <th>salary</th>\n",
       "    </tr>\n",
       "  </thead>\n",
       "  <tbody>\n",
       "    <tr>\n",
       "      <th>197</th>\n",
       "      <td>198</td>\n",
       "      <td>F</td>\n",
       "      <td>83.96</td>\n",
       "      <td>Others</td>\n",
       "      <td>53.0</td>\n",
       "      <td>Others</td>\n",
       "      <td>Science</td>\n",
       "      <td>91.0</td>\n",
       "      <td>Sci&amp;Tech</td>\n",
       "      <td>No</td>\n",
       "      <td>59.32</td>\n",
       "      <td>Mkt&amp;HR</td>\n",
       "      <td>69.71</td>\n",
       "      <td>Placed</td>\n",
       "      <td>260000</td>\n",
       "    </tr>\n",
       "  </tbody>\n",
       "</table>\n",
       "</div>"
      ],
      "text/plain": [
       "     sl_no gender  ssc_p   ssc_b  hsc_p   hsc_b    hsc_s  degree_p  degree_t  \\\n",
       "197    198      F  83.96  Others   53.0  Others  Science      91.0  Sci&Tech   \n",
       "\n",
       "    workex  etest_p specialisation  mba_p  status  salary  \n",
       "197     No    59.32         Mkt&HR  69.71  Placed  260000  "
      ]
     },
     "execution_count": 10,
     "metadata": {},
     "output_type": "execute_result"
    }
   ],
   "source": [
    "df[df['degree_p'] > 85.0]"
   ]
  },
  {
   "cell_type": "markdown",
   "id": "df72ab11",
   "metadata": {},
   "source": [
    "### which factor influenced a candidate in getting placed\n",
    "#### 1) Does percentage matters for one to get placed"
   ]
  },
  {
   "cell_type": "code",
   "execution_count": 11,
   "id": "cbcd8c76",
   "metadata": {},
   "outputs": [
    {
     "data": {
      "text/plain": [
       "50.0"
      ]
     },
     "execution_count": 11,
     "metadata": {},
     "output_type": "execute_result"
    }
   ],
   "source": [
    "min(df['degree_p'])"
   ]
  },
  {
   "cell_type": "code",
   "execution_count": 12,
   "id": "2cd87423",
   "metadata": {},
   "outputs": [
    {
     "name": "stdout",
     "output_type": "stream",
     "text": [
      "Sr.no. 1 got 58.0 % in degree and got Placed with salary 270000\n",
      "Sr.no. 11 got 60.0 % in degree and got Placed with salary 260000\n",
      "Sr.no. 14 got 59.0 % in degree and got Placed with salary 218000\n",
      "Sr.no. 48 got 57.0 % in degree and got Placed with salary 204000\n",
      "Sr.no. 140 got 59.0 % in degree and got Placed with salary 220000\n",
      "Sr.no. 149 got 56.0 % in degree and got Placed with salary 240000\n",
      "Sr.no. 155 got 60.0 % in degree and got Placed with salary 250000\n",
      "Sr.no. 167 got 60.0 % in degree and got Placed with salary 240000\n",
      "Sr.no. 173 got 56.0 % in degree and got Placed with salary 300000\n",
      "Sr.no. 177 got 56.0 % in degree and got Placed with salary 220000\n",
      "Sr.no. 194 got 56.0 % in degree and got Placed with salary 300000\n",
      "Sr.no. 200 got 57.0 % in degree and got Placed with salary 265000\n",
      "Sr.no. 214 got 58.0 % in degree and got Placed with salary 204000\n"
     ]
    }
   ],
   "source": [
    "# degree percentage \n",
    "for i in df.values:\n",
    "    if i[7] in range(50,61) and i[13] == 'Placed':\n",
    "        print('Sr.no.',i[0],'got',i[7],'% in degree and got',i[13],'with salary',i[14])\n",
    "        \n",
    "## This shows that marks does not matter for one to get placed with minimum marks obtained is 50 percentage"
   ]
  },
  {
   "cell_type": "markdown",
   "id": "8f92ba37",
   "metadata": {},
   "source": [
    "#### 2) Which degree specialisation is much demanded by corporate "
   ]
  },
  {
   "cell_type": "code",
   "execution_count": 13,
   "id": "f39bcbca",
   "metadata": {},
   "outputs": [
    {
     "name": "stdout",
     "output_type": "stream",
     "text": [
      "Most demanded specialisation degree by corporate is: Mkt&Fin\n"
     ]
    }
   ],
   "source": [
    "dct = {}\n",
    "for i in df.values:\n",
    "    if (i[11]) in dct:\n",
    "        dct[i[11]] += 1\n",
    "    else:\n",
    "        dct[i[11]] = 1\n",
    "        \n",
    "        \n",
    "print('Most demanded specialisation degree by corporate is:',list(dct.keys())[list(dct.values()).index(max(dct.values()))])\n",
    "\n",
    "\n",
    "## hence this proves that there is a lot of demanding specialisation degree demand in the field of market and finance"
   ]
  },
  {
   "cell_type": "markdown",
   "id": "e457a87e",
   "metadata": {},
   "source": [
    "#### 3) Play with the data conducting all statistical test"
   ]
  },
  {
   "cell_type": "markdown",
   "id": "1c429500",
   "metadata": {},
   "source": [
    "##### 3.1) playing around with ssc_p\n",
    "######  # defining a mean function"
   ]
  },
  {
   "cell_type": "code",
   "execution_count": 14,
   "id": "884825ea",
   "metadata": {},
   "outputs": [
    {
     "name": "stdout",
     "output_type": "stream",
     "text": [
      "Average percentage scored : 67.29\n"
     ]
    }
   ],
   "source": [
    "def mean(col):\n",
    "    tot    = 0\n",
    "    tot_p  = 0\n",
    "    for i in df[col]:\n",
    "        tot += 1\n",
    "        tot_p += i\n",
    "    mean_ = round(tot_p/tot,2)\n",
    "    return mean_,tot\n",
    "\n",
    "mean_,tot = mean('ssc_p')\n",
    "print('Average percentage scored :',mean_)"
   ]
  },
  {
   "cell_type": "markdown",
   "id": "e0cdf386",
   "metadata": {},
   "source": [
    "##### # Defining the median function"
   ]
  },
  {
   "cell_type": "code",
   "execution_count": 15,
   "id": "a2d2e8fe",
   "metadata": {},
   "outputs": [
    {
     "name": "stdout",
     "output_type": "stream",
     "text": [
      "Median is : 71.54\n"
     ]
    }
   ],
   "source": [
    "def median(col,n):\n",
    "    if n % 2 != 0:\n",
    "        median = df[col][(n+1)//2]\n",
    "    else:\n",
    "        median = round((df[col][n/2]+df[col][(n/2)+1])/2,2)\n",
    "        \n",
    "    return median\n",
    "\n",
    "print('Median is :',median('ssc_p',tot))"
   ]
  },
  {
   "cell_type": "markdown",
   "id": "3a77479f",
   "metadata": {},
   "source": [
    "##### # Defining the mode function"
   ]
  },
  {
   "cell_type": "code",
   "execution_count": 16,
   "id": "953ca713",
   "metadata": {},
   "outputs": [
    {
     "name": "stdout",
     "output_type": "stream",
     "text": [
      "Mode is : 62.0\n"
     ]
    }
   ],
   "source": [
    "def mode(col):\n",
    "    mode_ = {}\n",
    "    for i in df[col]:\n",
    "        if i not in mode_:\n",
    "            mode_[i] = 1\n",
    "        else:\n",
    "            mode_[i] += 1\n",
    "\n",
    "    return list(mode_.keys())[list(mode_.values()).index(max(mode_.values()))]\n",
    "\n",
    "print('Mode is :',mode('ssc_p'))"
   ]
  },
  {
   "cell_type": "markdown",
   "id": "33083927",
   "metadata": {},
   "source": [
    "##### # Defining the  Mean Absolute deviation function"
   ]
  },
  {
   "cell_type": "code",
   "execution_count": 28,
   "id": "20bc6fa4",
   "metadata": {},
   "outputs": [
    {
     "name": "stdout",
     "output_type": "stream",
     "text": [
      "67.0\n",
      "79.33\n",
      "65.0\n",
      "56.0\n",
      "85.8\n",
      "55.0\n",
      "46.0\n",
      "82.0\n",
      "73.0\n",
      "58.0\n",
      "58.0\n",
      "69.6\n",
      "47.0\n",
      "77.0\n",
      "62.0\n",
      "65.0\n",
      "63.0\n",
      "55.0\n",
      "63.0\n",
      "60.0\n",
      "62.0\n",
      "79.0\n",
      "69.8\n",
      "77.4\n",
      "76.5\n",
      "52.58\n",
      "71.0\n",
      "63.0\n",
      "76.76\n",
      "62.0\n",
      "64.0\n",
      "67.0\n",
      "61.0\n",
      "87.0\n",
      "62.0\n",
      "69.0\n",
      "51.0\n",
      "79.0\n",
      "73.0\n",
      "81.0\n",
      "78.0\n",
      "74.0\n",
      "49.0\n",
      "87.0\n",
      "77.0\n",
      "76.0\n",
      "70.89\n",
      "63.0\n",
      "63.0\n",
      "50.0\n",
      "75.2\n",
      "54.4\n",
      "40.89\n",
      "80.0\n",
      "74.0\n",
      "60.4\n",
      "63.0\n",
      "68.0\n",
      "74.0\n",
      "52.6\n",
      "74.0\n",
      "84.2\n",
      "86.5\n",
      "61.0\n",
      "80.0\n",
      "54.0\n",
      "83.0\n",
      "80.92\n",
      "69.7\n",
      "73.0\n",
      "82.0\n",
      "75.0\n",
      "84.86\n",
      "64.6\n",
      "56.6\n",
      "59.0\n",
      "66.5\n",
      "64.0\n",
      "84.0\n",
      "69.0\n",
      "69.0\n",
      "81.7\n",
      "63.0\n",
      "84.0\n",
      "70.0\n",
      "83.84\n",
      "62.0\n",
      "59.6\n",
      "66.0\n",
      "84.0\n",
      "85.0\n",
      "52.0\n",
      "60.23\n",
      "52.0\n",
      "58.0\n",
      "73.0\n",
      "76.0\n",
      "70.5\n",
      "69.0\n",
      "54.0\n",
      "45.0\n",
      "63.0\n",
      "77.0\n",
      "73.0\n",
      "69.0\n",
      "59.0\n",
      "61.08\n",
      "82.0\n",
      "61.0\n",
      "52.0\n",
      "69.5\n",
      "51.0\n",
      "58.0\n",
      "73.96\n",
      "65.0\n",
      "73.0\n",
      "68.2\n",
      "77.0\n",
      "76.0\n",
      "58.0\n",
      "64.0\n",
      "66.5\n",
      "74.0\n",
      "67.0\n",
      "84.0\n",
      "79.0\n",
      "72.0\n",
      "80.4\n",
      "76.7\n",
      "62.0\n",
      "74.9\n",
      "67.0\n",
      "73.0\n",
      "77.44\n",
      "72.0\n",
      "47.0\n",
      "67.0\n",
      "82.0\n",
      "77.0\n",
      "65.0\n",
      "66.0\n",
      "85.0\n",
      "77.67\n",
      "52.0\n",
      "89.4\n",
      "62.0\n",
      "70.0\n",
      "77.0\n",
      "44.0\n",
      "65.0\n",
      "75.4\n",
      "49.0\n",
      "53.0\n",
      "51.57\n",
      "84.2\n",
      "66.5\n",
      "67.0\n",
      "52.0\n",
      "87.0\n",
      "55.6\n",
      "74.2\n",
      "63.0\n",
      "67.16\n",
      "63.3\n",
      "62.0\n",
      "67.9\n",
      "48.0\n",
      "59.96\n",
      "63.4\n",
      "80.0\n",
      "73.0\n",
      "52.0\n",
      "73.24\n",
      "63.0\n",
      "59.0\n",
      "68.0\n",
      "77.8\n",
      "65.0\n",
      "62.0\n",
      "52.0\n",
      "65.0\n",
      "56.28\n",
      "88.0\n",
      "52.0\n",
      "78.5\n",
      "61.8\n",
      "54.0\n",
      "64.0\n",
      "67.0\n",
      "65.2\n",
      "60.0\n",
      "52.0\n",
      "66.0\n",
      "72.0\n",
      "83.96\n",
      "67.0\n",
      "69.0\n",
      "69.0\n",
      "54.2\n",
      "70.0\n",
      "55.68\n",
      "74.0\n",
      "61.0\n",
      "41.0\n",
      "83.33\n",
      "43.0\n",
      "62.0\n",
      "80.6\n",
      "58.0\n",
      "67.0\n",
      "74.0\n",
      "62.0\n"
     ]
    }
   ],
   "source": [
    "for i in df['ssc_p']:\n",
    "    print(i)"
   ]
  },
  {
   "cell_type": "markdown",
   "id": "31b54582",
   "metadata": {},
   "source": [
    "##### # Defining the  standard deviation function"
   ]
  },
  {
   "cell_type": "code",
   "execution_count": 17,
   "id": "05554e1b",
   "metadata": {},
   "outputs": [],
   "source": [
    "def std_d(col,avg_val):\n",
    "    ls = []\n",
    "    for i in df[col]:\n",
    "        ls.append(round(abs(i - avg_val)**2,2))\n",
    "\n",
    "    sd = (sum(ls)/len(ls))**0.5\n",
    "    return sd"
   ]
  },
  {
   "cell_type": "markdown",
   "id": "d849f94b",
   "metadata": {},
   "source": [
    "###### 3.1.1) finding the percentile (SSC_P)"
   ]
  },
  {
   "cell_type": "code",
   "execution_count": 21,
   "id": "33812343",
   "metadata": {},
   "outputs": [
    {
     "name": "stdout",
     "output_type": "stream",
     "text": [
      "minimum/0 percentile   :  40.89\n",
      "25th percentile        :  60.36\n",
      "75th percentile        :  76.0\n",
      "maximum/100 percentile :  89.4\n",
      "standard deviation     :  10.86\n"
     ]
    }
   ],
   "source": [
    "print('minimum/0 percentile   : ',round(df.ssc_p.quantile(0),2))            # 0 percentile/minimum\n",
    "print('25th percentile        : ',round(df.ssc_p.quantile(0.25),2))         # 25 percentile\n",
    "print('75th percentile        : ',round(df.ssc_p.quantile(0.75),2))         # 75 percentile\n",
    "print('maximum/100 percentile : ',round(df.ssc_p.quantile(1),2))            # 100 percentile\n",
    "print('standard deviation     : ',round(std_d('ssc_p',mean_),2))            # standard deviation"
   ]
  },
  {
   "cell_type": "markdown",
   "id": "9dc71150",
   "metadata": {},
   "source": [
    "##### 3.2) playing around with hsc_p"
   ]
  },
  {
   "cell_type": "code",
   "execution_count": 23,
   "id": "1aebaba0",
   "metadata": {},
   "outputs": [
    {
     "name": "stdout",
     "output_type": "stream",
     "text": [
      "Average percentage scored : 66.21\n",
      "Median is                 : 70.0\n",
      "Mode is                   : 63.0\n",
      "minimum/0 percentile      : 37.0\n",
      "25th percentile           : 60.95\n",
      "75th percentile           : 73.0\n",
      "maximum/100 percentile    : 97.7\n",
      "standard deviation        : 10.73\n"
     ]
    }
   ],
   "source": [
    "m,tot = mean('hsc_p')\n",
    "print('Average percentage scored :',m)                                          # 50 percentile/mean\n",
    "print('Median is                 :',median('hsc_p',tot))                        # middle value\n",
    "print('Mode is                   :',mode('hsc_p'))                              # Most frequent \n",
    "print('minimum/0 percentile      :',round(df.hsc_p.quantile(0),2))              # 0 percentile/minimum\n",
    "print('25th percentile           :',round(df.hsc_p.quantile(0.25),2))           # 25 percentile\n",
    "print('75th percentile           :',round(df.hsc_p.quantile(0.75),2))           # 75 percentile\n",
    "print('maximum/100 percentile    :',round(df.hsc_p.quantile(1),2))              # 100 percentile\n",
    "print('standard deviation        :',round(std_d('hsc_p',m),2))                  # standard deviation "
   ]
  },
  {
   "cell_type": "markdown",
   "id": "628e07b2",
   "metadata": {},
   "source": [
    "##### 3.3) playing around with degree_p"
   ]
  },
  {
   "cell_type": "code",
   "execution_count": 24,
   "id": "5fc533ef",
   "metadata": {},
   "outputs": [
    {
     "name": "stdout",
     "output_type": "stream",
     "text": [
      "Average percentage scored in a degree : 66.36\n",
      "Median is                             : 68.5\n",
      "Mode is                               : 65.0\n",
      "minimum/0 percentile                  : 50.0\n",
      "25th percentile                       : 61.0\n",
      "75th percentile                       : 72.0\n",
      "maximum/100 percentile                : 91.0\n",
      "standard deviation                    : 7.32\n"
     ]
    }
   ],
   "source": [
    "me,tot = mean('degree_p')\n",
    "print('Average percentage scored in a degree :',me)                                   # 50 percentile/mean\n",
    "print('Median is                             :',median('degree_p',tot))               # middle value\n",
    "print('Mode is                               :',mode('degree_p'))                     # Most frequent \n",
    "print('minimum/0 percentile                  :',round(df.degree_p.quantile(0),2))     # 0 percentile/minimum\n",
    "print('25th percentile                       :',round(df.degree_p.quantile(0.25),2))  # 25 percentile\n",
    "print('75th percentile                       :',round(df.degree_p.quantile(0.75),2))  # 75 percentile\n",
    "print('maximum/100 percentile                :',round(df.degree_p.quantile(1),2))     # 100 percentile\n",
    "print('standard deviation                    :',round(std_d('degree_p',me),2))        # standard deviation"
   ]
  },
  {
   "cell_type": "markdown",
   "id": "25005fe9",
   "metadata": {},
   "source": [
    "##### 3.4) playing around with etest_p"
   ]
  },
  {
   "cell_type": "code",
   "execution_count": 25,
   "id": "3811481b",
   "metadata": {},
   "outputs": [
    {
     "name": "stdout",
     "output_type": "stream",
     "text": [
      "Average percentage scored : 72.05\n",
      "Median is                 : 75.5\n",
      "Mode is                   : 60.0\n",
      "minimum/0 percentile      : 50.0\n",
      "25th percentile           : 60.0\n",
      "75th percentile           : 83.25\n",
      "maximum/100 percentile    : 98.0\n",
      "standard deviation        : 13.22\n"
     ]
    }
   ],
   "source": [
    "mea,tot = mean('etest_p')\n",
    "print('Average percentage scored :',mea)                                    # 50 percentile/mean\n",
    "print('Median is                 :',median('etest_p',tot))                  # middle value\n",
    "print('Mode is                   :',mode('etest_p'))                        # Most frequent \n",
    "print('minimum/0 percentile      :',round(df.etest_p.quantile(0),2))        # 0 percentile/minimum\n",
    "print('25th percentile           :',round(df.etest_p.quantile(0.25),2))     # 25 percentile\n",
    "print('75th percentile           :',round(df.etest_p.quantile(0.75),2))     # 75 percentile\n",
    "print('maximum/100 percentile    :',round(df.etest_p.quantile(1),2))        # 100 percentile\n",
    "print('standard deviation        :',round(std_d('etest_p',mea),2))          # standard deviation"
   ]
  },
  {
   "cell_type": "markdown",
   "id": "f8280451",
   "metadata": {},
   "source": [
    "##### 3.5) playing around with mba_p"
   ]
  },
  {
   "cell_type": "code",
   "execution_count": 26,
   "id": "cfbcfeae",
   "metadata": {},
   "outputs": [
    {
     "name": "stdout",
     "output_type": "stream",
     "text": [
      "Average percentage scored in MBA :  62.23\n",
      "Median is                        :  69.6\n",
      "Mode is                          :  56.7\n",
      "minimum/0 percentile             :  51.21\n",
      "25th percentile                  :  57.88\n",
      "75th percentile                  :  66.24\n",
      "maximum/100 percentile           :  77.89\n",
      "standard deviation               :  5.83\n"
     ]
    }
   ],
   "source": [
    "a,tot = mean('mba_p')\n",
    "print('Average percentage scored in MBA :',a)                                  # 50 percentile/mean\n",
    "print('Median is                        :',median('mba_p',tot))                # middle value\n",
    "print('Mode is                          :',mode('mba_p'))                      # Most frequent \n",
    "print('minimum/0 percentile             :',round(df.mba_p.quantile(0),2))      # 0 percentile/minimum\n",
    "print('25th percentile                  :',round(df.mba_p.quantile(0.25),2))   # 25 percentile\n",
    "print('75th percentile                  :',round(df.mba_p.quantile(0.75),2))   # 75 percentile\n",
    "print('maximum/100 percentile           :',round(df.mba_p.quantile(1),2))      # 100 percentile\n",
    "print('standard deviation               :',round(std_d('mba_p',a),2))          # standard deviation"
   ]
  },
  {
   "cell_type": "markdown",
   "id": "b56fce92",
   "metadata": {},
   "source": [
    "##### 3.6) playing around with salary "
   ]
  },
  {
   "cell_type": "code",
   "execution_count": 27,
   "id": "59a80794",
   "metadata": {},
   "outputs": [
    {
     "name": "stdout",
     "output_type": "stream",
     "text": [
      "Average salary         :  190759.43\n",
      "Median is              :  100000.0\n",
      "Mode is                :  0\n",
      "minimum/0 percentile   :  0.0\n",
      "25th percentile        :  0.0\n",
      "75th percentile        :  278500.0\n",
      "maximum/100 percentile :  500000.0\n",
      "standard deviation     :  139386.91\n"
     ]
    }
   ],
   "source": [
    "avg,tot = mean('salary')\n",
    "print('Average salary         :',avg)                                  # 50 percentile/mean\n",
    "print('Median is              :',median('salary',tot))                 # middle value\n",
    "print('Mode is                :',mode('salary'))                       # Most frequent \n",
    "print('minimum/0 percentile   :',round(df.salary.quantile(0),2))       # 0 percentile/minimum\n",
    "print('25th percentile        :',round(df.salary.quantile(0.25),2))    # 25 percentile\n",
    "print('75th percentile        :',round(df.salary.quantile(0.75),2))    # 75 percentile\n",
    "print('maximum/100 percentile :',round(df.salary.quantile(1),2))       # 100 percentile\n",
    "print('standard deviation     :',round(std_d('salary',avg),2))         # standard deviation"
   ]
  }
 ],
 "metadata": {
  "kernelspec": {
   "display_name": "Python 3 (ipykernel)",
   "language": "python",
   "name": "python3"
  },
  "language_info": {
   "codemirror_mode": {
    "name": "ipython",
    "version": 3
   },
   "file_extension": ".py",
   "mimetype": "text/x-python",
   "name": "python",
   "nbconvert_exporter": "python",
   "pygments_lexer": "ipython3",
   "version": "3.10.6"
  }
 },
 "nbformat": 4,
 "nbformat_minor": 5
}

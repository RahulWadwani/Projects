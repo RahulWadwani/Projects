{
 "cells": [
  {
   "cell_type": "code",
   "execution_count": 2,
   "id": "20208fe1",
   "metadata": {},
   "outputs": [],
   "source": [
    "import numpy as np \n",
    "import pandas as pd \n",
    "import requests\n",
    "from tqdm import tqdm \n",
    "from bs4 import BeautifulSoup\n",
    "from selenium import webdriver\n",
    "from webdriver_manager.chrome import ChromeDriverManager"
   ]
  },
  {
   "cell_type": "code",
   "execution_count": 3,
   "id": "16b72e20",
   "metadata": {},
   "outputs": [
    {
     "name": "stderr",
     "output_type": "stream",
     "text": [
      "[WDM] - Downloading: 100%|█████████████████| 6.83M/6.83M [00:05<00:00, 1.29MB/s]\n",
      "/tmp/ipykernel_10984/1874348135.py:1: DeprecationWarning: executable_path has been deprecated, please pass in a Service object\n",
      "  driver = webdriver.Chrome(ChromeDriverManager().install())\n"
     ]
    }
   ],
   "source": [
    "driver = webdriver.Chrome(ChromeDriverManager().install())\n",
    "link = 'https://www.amazon.in/s?i=computers&rh=n%3A976392031&fs=true'\n",
    "driver.get(link)\n",
    "soup = BeautifulSoup(driver.page_source,'html.parser')"
   ]
  },
  {
   "cell_type": "code",
   "execution_count": 31,
   "id": "596aa4aa",
   "metadata": {},
   "outputs": [
    {
     "name": "stdout",
     "output_type": "stream",
     "text": [
      "BETTER YU Apple Cider Vinegar 15 Effervescent Tablet with mother for weight loss and easy digestion, vitamin B6 & B12, Pack of 1 (Apple), 100% vegan, Easy to carry & consume \n",
      "SUPRAS Monitor/Computer/PC/Screen Height Riser MS Alloy Stand for Home & Office – (H – 17) \n",
      "Ndola Patient Monitor Standing Monitor Desk Stand with Basket Use for All 5 Pera Moniters CMS-8000, CMS-9000, Aqua-12 All Moniters Use Stand with Basket \n",
      "Regatech Compatible for Asus U32U, U32U, U32VJ, U32VJ, U32VM, U32VM, U35, U35, U35, UL80VT-WX016V, U30SD-RX113D Laptop Keyboard Keypad \n",
      "Regatech Compatible for Gateway NV73A07U, NV73A08U, NV73A09U, NV73A10U, NV73A12U, NV73A17U, NV73A23U, NV73A24U, NV73A26U Laptop Keyboard \n",
      "SUPRAS Monitor Stand Cum Desk Organizer Mesh Stand for Laptop and Desktop Riser – Black \n",
      "MURARAKA ART Dual Monitor Stand ? 3 Shelf Computer Monitor Riser, Wood Desktop Stand with Adjustable Length and Angle, Desk Accessories, Office Supplies Medium Brown \n",
      "ZORBES® Desktop Monitor Stand with USB A/C Ports, Phone Stand and Mini Drawer, Support Data Transfer, Charging, Multifunction Stand Riser for Desktop, Laptop, Monitor Black \n",
      "Kitwe Patient Monitor Stand Wall Mount (Pack of 1 Piece) \n"
     ]
    }
   ],
   "source": [
    "for products in soup.find_all('div',class_ = 'sg-col-4-of-24 sg-col-4-of-12 s-result-item s-asin sg-col-4-of-16 AdHolder sg-col s-widget-spacing-small sg-col-4-of-20'):\n",
    "    print(products.find('h2').find('a').text)"
   ]
  },
  {
   "cell_type": "code",
   "execution_count": null,
   "id": "07ae10f0",
   "metadata": {},
   "outputs": [],
   "source": []
  },
  {
   "cell_type": "code",
   "execution_count": null,
   "id": "8c150f84",
   "metadata": {},
   "outputs": [],
   "source": []
  },
  {
   "cell_type": "code",
   "execution_count": null,
   "id": "52c92c38",
   "metadata": {},
   "outputs": [],
   "source": []
  },
  {
   "cell_type": "code",
   "execution_count": null,
   "id": "1fa7c601",
   "metadata": {},
   "outputs": [],
   "source": []
  },
  {
   "cell_type": "code",
   "execution_count": null,
   "id": "37ae6479",
   "metadata": {},
   "outputs": [],
   "source": []
  },
  {
   "cell_type": "code",
   "execution_count": null,
   "id": "cc65e220",
   "metadata": {},
   "outputs": [],
   "source": []
  },
  {
   "cell_type": "code",
   "execution_count": null,
   "id": "629fa59c",
   "metadata": {},
   "outputs": [],
   "source": []
  },
  {
   "cell_type": "code",
   "execution_count": null,
   "id": "ace061af",
   "metadata": {},
   "outputs": [],
   "source": []
  },
  {
   "cell_type": "code",
   "execution_count": null,
   "id": "0f1aebbb",
   "metadata": {},
   "outputs": [],
   "source": []
  },
  {
   "cell_type": "code",
   "execution_count": null,
   "id": "57fdd51d",
   "metadata": {},
   "outputs": [],
   "source": []
  },
  {
   "cell_type": "code",
   "execution_count": null,
   "id": "aec5619f",
   "metadata": {},
   "outputs": [],
   "source": []
  },
  {
   "cell_type": "code",
   "execution_count": null,
   "id": "868a4e6c",
   "metadata": {},
   "outputs": [],
   "source": []
  },
  {
   "cell_type": "code",
   "execution_count": null,
   "id": "9e7a3cb5",
   "metadata": {},
   "outputs": [],
   "source": []
  },
  {
   "cell_type": "code",
   "execution_count": null,
   "id": "5a075e3c",
   "metadata": {},
   "outputs": [],
   "source": []
  },
  {
   "cell_type": "code",
   "execution_count": null,
   "id": "297c1ded",
   "metadata": {},
   "outputs": [],
   "source": []
  },
  {
   "cell_type": "code",
   "execution_count": null,
   "id": "dd2d454e",
   "metadata": {},
   "outputs": [],
   "source": []
  },
  {
   "cell_type": "code",
   "execution_count": null,
   "id": "cb6d0f25",
   "metadata": {},
   "outputs": [],
   "source": []
  }
 ],
 "metadata": {
  "kernelspec": {
   "display_name": "Python 3 (ipykernel)",
   "language": "python",
   "name": "python3"
  },
  "language_info": {
   "codemirror_mode": {
    "name": "ipython",
    "version": 3
   },
   "file_extension": ".py",
   "mimetype": "text/x-python",
   "name": "python",
   "nbconvert_exporter": "python",
   "pygments_lexer": "ipython3",
   "version": "3.10.6"
  }
 },
 "nbformat": 4,
 "nbformat_minor": 5
}

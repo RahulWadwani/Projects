{
 "cells": [
  {
   "cell_type": "code",
   "execution_count": 1,
   "id": "20208fe1",
   "metadata": {},
   "outputs": [],
   "source": [
    "import numpy as np \n",
    "import pandas as pd \n",
    "import requests\n",
    "from tqdm import tqdm \n",
    "from bs4 import BeautifulSoup\n",
    "from selenium import webdriver\n",
    "from webdriver_manager.chrome import ChromeDriverManager"
   ]
  },
  {
   "cell_type": "code",
   "execution_count": 191,
   "id": "16b72e20",
   "metadata": {},
   "outputs": [
    {
     "name": "stderr",
     "output_type": "stream",
     "text": [
      "/tmp/ipykernel_4085/1664324720.py:1: DeprecationWarning: executable_path has been deprecated, please pass in a Service object\n",
      "  driver = webdriver.Chrome(ChromeDriverManager().install())\n"
     ]
    }
   ],
   "source": [
    "driver = webdriver.Chrome(ChromeDriverManager().install())\n",
    "link = 'https://www.amazon.in/s?i=computers&rh=n%3A976392031&fs=true'\n",
    "\n",
    "driver.get(link)\n",
    "soup = BeautifulSoup(driver.page_source,'html.parser')"
   ]
  },
  {
   "cell_type": "code",
   "execution_count": 192,
   "id": "07ae10f0",
   "metadata": {},
   "outputs": [
    {
     "name": "stderr",
     "output_type": "stream",
     "text": [
      "100%|█████████████████████████████████████████| 399/399 [37:22<00:00,  5.62s/it]\n"
     ]
    }
   ],
   "source": [
    "data = []\n",
    "\n",
    "link = 'https://www.amazon.in/s?i=computers&rh=n%3A976392031&fs=true'\n",
    "\n",
    "for pages in tqdm(range(2,401)):\n",
    "    driver.get(link)\n",
    "    soup = BeautifulSoup(driver.page_source,'html.parser')\n",
    "    for info in soup.find_all('div',{'class' : 'a-section a-spacing-base'}):\n",
    "        # name of the product \n",
    "        name = info.find('div',class_ = 'a-section a-spacing-small puis-padding-left-small puis-padding-right-small').find('div',class_ = 'a-section a-spacing-none a-spacing-top-small s-title-instructions-style').find('h2').text\n",
    "        # rating obtained by that product \n",
    "        try:\n",
    "            if ' ' in info.find('div',class_ = 'a-section a-spacing-small puis-padding-left-small puis-padding-right-small').find('div',class_ = 'a-section a-spacing-none a-spacing-top-micro').find('span').find('i').text:\n",
    "                stars = float(info.find('div',class_ = 'a-section a-spacing-small puis-padding-left-small puis-padding-right-small').find('div',class_ = 'a-section a-spacing-none a-spacing-top-micro').find('span').find('i').text[:3])\n",
    "            else:\n",
    "                stars= 'not available'\n",
    "        except:\n",
    "            stars = 'not available'\n",
    "\n",
    "        # price of the product \n",
    "        try:\n",
    "            sell_price = int(info.find('div',class_ = 'a-section a-spacing-none a-spacing-top-small s-price-instructions-style').find('a').find('span',class_ = 'a-price').find('span').text[1:].replace(',',''))\n",
    "        except:\n",
    "            sell_price = 0\n",
    "        try:\n",
    "            mark_price = int(info.find('div',class_ = 'a-section a-spacing-none a-spacing-top-small s-price-instructions-style').find('a').find('span',class_ = 'a-price a-text-price').find('span',class_ = 'a-offscreen').text[1:].replace(',',''))\n",
    "        except:\n",
    "            mark_price = 0\n",
    "\n",
    "\n",
    "        # delivery date \n",
    "        try:\n",
    "            delivered_on = info.find('div',class_ =  'a-row a-size-base a-color-secondary s-align-children-center').find('span',class_ = 'a-color-base a-text-bold').text\n",
    "        except:\n",
    "            delivered_on = 'Data not available'\n",
    "\n",
    "        data.append([name,stars,sell_price,mark_price,delivered_on])\n",
    "        \n",
    "    link = f'https://www.amazon.in/s?i=computers&rh=n%3A976392031&fs=true&page={pages}&qid=1679465284&ref=sr_pg_{pages}'\n",
    "\n",
    "#         break\n",
    "\n",
    "    # data"
   ]
  },
  {
   "cell_type": "code",
   "execution_count": 193,
   "id": "8c150f84",
   "metadata": {},
   "outputs": [],
   "source": [
    "product = pd.DataFrame(data,columns =['name','stars','sell_price','mark_price','delivery_date'])\n",
    "product.to_csv('product.csv',index = False)"
   ]
  },
  {
   "cell_type": "code",
   "execution_count": 194,
   "id": "52c92c38",
   "metadata": {},
   "outputs": [
    {
     "data": {
      "text/html": [
       "<div>\n",
       "<style scoped>\n",
       "    .dataframe tbody tr th:only-of-type {\n",
       "        vertical-align: middle;\n",
       "    }\n",
       "\n",
       "    .dataframe tbody tr th {\n",
       "        vertical-align: top;\n",
       "    }\n",
       "\n",
       "    .dataframe thead th {\n",
       "        text-align: right;\n",
       "    }\n",
       "</style>\n",
       "<table border=\"1\" class=\"dataframe\">\n",
       "  <thead>\n",
       "    <tr style=\"text-align: right;\">\n",
       "      <th></th>\n",
       "      <th>name</th>\n",
       "      <th>stars</th>\n",
       "      <th>sell_price</th>\n",
       "      <th>mark_price</th>\n",
       "      <th>delivery_date</th>\n",
       "    </tr>\n",
       "  </thead>\n",
       "  <tbody>\n",
       "    <tr>\n",
       "      <th>0</th>\n",
       "      <td>SHINING SUN VISION Smart LED Vision Chart 19 i...</td>\n",
       "      <td>3.5</td>\n",
       "      <td>19499</td>\n",
       "      <td>30000</td>\n",
       "      <td>Wednesday, 29 March</td>\n",
       "    </tr>\n",
       "    <tr>\n",
       "      <th>1</th>\n",
       "      <td>Regatech Compatible for Gateway NV53A46U, NV53...</td>\n",
       "      <td>not available</td>\n",
       "      <td>799</td>\n",
       "      <td>2499</td>\n",
       "      <td>Tuesday, 28 March</td>\n",
       "    </tr>\n",
       "    <tr>\n",
       "      <th>2</th>\n",
       "      <td>Regatech Compatible for Hp G62-A70SQ, G62-A70S...</td>\n",
       "      <td>not available</td>\n",
       "      <td>699</td>\n",
       "      <td>2499</td>\n",
       "      <td>Tuesday, 28 March</td>\n",
       "    </tr>\n",
       "    <tr>\n",
       "      <th>3</th>\n",
       "      <td>boAt Airdopes 141 Bluetooth Truly Wireless in ...</td>\n",
       "      <td>3.9</td>\n",
       "      <td>0</td>\n",
       "      <td>0</td>\n",
       "      <td>Tomorrow, 23 March</td>\n",
       "    </tr>\n",
       "    <tr>\n",
       "      <th>4</th>\n",
       "      <td>boAt BassHeads 100 in-Ear Wired Headphones wit...</td>\n",
       "      <td>4.1</td>\n",
       "      <td>379</td>\n",
       "      <td>999</td>\n",
       "      <td>Today, 22 March</td>\n",
       "    </tr>\n",
       "  </tbody>\n",
       "</table>\n",
       "</div>"
      ],
      "text/plain": [
       "                                                name          stars  \\\n",
       "0  SHINING SUN VISION Smart LED Vision Chart 19 i...            3.5   \n",
       "1  Regatech Compatible for Gateway NV53A46U, NV53...  not available   \n",
       "2  Regatech Compatible for Hp G62-A70SQ, G62-A70S...  not available   \n",
       "3  boAt Airdopes 141 Bluetooth Truly Wireless in ...            3.9   \n",
       "4  boAt BassHeads 100 in-Ear Wired Headphones wit...            4.1   \n",
       "\n",
       "   sell_price  mark_price        delivery_date  \n",
       "0       19499       30000  Wednesday, 29 March  \n",
       "1         799        2499    Tuesday, 28 March  \n",
       "2         699        2499    Tuesday, 28 March  \n",
       "3           0           0   Tomorrow, 23 March  \n",
       "4         379         999      Today, 22 March  "
      ]
     },
     "execution_count": 194,
     "metadata": {},
     "output_type": "execute_result"
    }
   ],
   "source": [
    "df = pd.read_csv('product.csv')\n",
    "df.head()"
   ]
  },
  {
   "cell_type": "code",
   "execution_count": 195,
   "id": "37ae6479",
   "metadata": {},
   "outputs": [
    {
     "data": {
      "text/plain": [
       "(13075, 5)"
      ]
     },
     "execution_count": 195,
     "metadata": {},
     "output_type": "execute_result"
    }
   ],
   "source": [
    "df.shape"
   ]
  },
  {
   "cell_type": "code",
   "execution_count": null,
   "id": "629fa59c",
   "metadata": {},
   "outputs": [],
   "source": []
  },
  {
   "cell_type": "code",
   "execution_count": null,
   "id": "ace061af",
   "metadata": {},
   "outputs": [],
   "source": []
  },
  {
   "cell_type": "code",
   "execution_count": null,
   "id": "0f1aebbb",
   "metadata": {},
   "outputs": [],
   "source": []
  },
  {
   "cell_type": "code",
   "execution_count": null,
   "id": "57fdd51d",
   "metadata": {},
   "outputs": [],
   "source": []
  },
  {
   "cell_type": "code",
   "execution_count": null,
   "id": "aec5619f",
   "metadata": {},
   "outputs": [],
   "source": []
  },
  {
   "cell_type": "code",
   "execution_count": null,
   "id": "868a4e6c",
   "metadata": {},
   "outputs": [],
   "source": []
  },
  {
   "cell_type": "code",
   "execution_count": null,
   "id": "9e7a3cb5",
   "metadata": {},
   "outputs": [],
   "source": []
  },
  {
   "cell_type": "code",
   "execution_count": null,
   "id": "5a075e3c",
   "metadata": {},
   "outputs": [],
   "source": []
  },
  {
   "cell_type": "code",
   "execution_count": null,
   "id": "297c1ded",
   "metadata": {},
   "outputs": [],
   "source": []
  },
  {
   "cell_type": "code",
   "execution_count": null,
   "id": "dd2d454e",
   "metadata": {},
   "outputs": [],
   "source": []
  },
  {
   "cell_type": "code",
   "execution_count": null,
   "id": "cb6d0f25",
   "metadata": {},
   "outputs": [],
   "source": []
  }
 ],
 "metadata": {
  "kernelspec": {
   "display_name": "Python 3 (ipykernel)",
   "language": "python",
   "name": "python3"
  },
  "language_info": {
   "codemirror_mode": {
    "name": "ipython",
    "version": 3
   },
   "file_extension": ".py",
   "mimetype": "text/x-python",
   "name": "python",
   "nbconvert_exporter": "python",
   "pygments_lexer": "ipython3",
   "version": "3.10.6"
  }
 },
 "nbformat": 4,
 "nbformat_minor": 5
}

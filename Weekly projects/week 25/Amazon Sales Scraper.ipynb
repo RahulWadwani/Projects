{
 "cells": [
  {
   "cell_type": "code",
   "execution_count": 1,
   "id": "20208fe1",
   "metadata": {},
   "outputs": [],
   "source": [
    "import numpy as np \n",
    "import pandas as pd \n",
    "import requests\n",
    "from tqdm import tqdm \n",
    "from bs4 import BeautifulSoup\n",
    "from selenium import webdriver\n",
    "from webdriver_manager.chrome import ChromeDriverManager"
   ]
  },
  {
   "cell_type": "code",
   "execution_count": 2,
   "id": "16b72e20",
   "metadata": {},
   "outputs": [
    {
     "name": "stderr",
     "output_type": "stream",
     "text": [
      "[WDM] - Downloading: 100%|██████████████████| 6.83M/6.83M [00:21<00:00, 333kB/s]\n",
      "/tmp/ipykernel_4734/3157396036.py:1: DeprecationWarning: executable_path has been deprecated, please pass in a Service object\n",
      "  driver = webdriver.Chrome(ChromeDriverManager().install())\n"
     ]
    }
   ],
   "source": [
    "driver = webdriver.Chrome(ChromeDriverManager().install())\n",
    "link = 'https://www.amazon.in/s?i=computers&rh=n%3A976392031&fs=true'    # this link belongs to electronics/ computer based products\n",
    "driver.get(link)\n",
    "soup = BeautifulSoup(driver.page_source,'html.parser')"
   ]
  },
  {
   "cell_type": "markdown",
   "id": "a31dd4f8",
   "metadata": {},
   "source": [
    "# Scraping the Dataset of computer and accessories (scraping one dataset)"
   ]
  },
  {
   "cell_type": "code",
   "execution_count": 192,
   "id": "07ae10f0",
   "metadata": {},
   "outputs": [
    {
     "name": "stderr",
     "output_type": "stream",
     "text": [
      "100%|█████████████████████████████████████████| 399/399 [37:22<00:00,  5.62s/it]\n"
     ]
    }
   ],
   "source": [
    "data = []\n",
    "\n",
    "link = 'https://www.amazon.in/s?i=computers&rh=n%3A976392031&fs=true'\n",
    "for pages in tqdm(range(2,401)):\n",
    "    driver.get(link)\n",
    "    soup = BeautifulSoup(driver.page_source,'html.parser')\n",
    "    for info in soup.find_all('div',{'class' : 'a-section a-spacing-base'}):\n",
    "        # name of the product \n",
    "        name = info.find('div',class_ = 'a-section a-spacing-small puis-padding-left-small puis-padding-right-small').find('div',class_ = 'a-section a-spacing-none a-spacing-top-small s-title-instructions-style').find('h2').text\n",
    "        # rating obtained by that product \n",
    "        try:\n",
    "            if ' ' in info.find('div',class_ = 'a-section a-spacing-small puis-padding-left-small puis-padding-right-small').find('div',class_ = 'a-section a-spacing-none a-spacing-top-micro').find('span').find('i').text:\n",
    "                stars = float(info.find('div',class_ = 'a-section a-spacing-small puis-padding-left-small puis-padding-right-small').find('div',class_ = 'a-section a-spacing-none a-spacing-top-micro').find('span').find('i').text[:3])\n",
    "            else:\n",
    "                stars= 'not available'\n",
    "        except:\n",
    "            stars = 'not available'\n",
    "\n",
    "        # price of the product \n",
    "        try:\n",
    "            sell_price = int(info.find('div',class_ = 'a-section a-spacing-none a-spacing-top-small s-price-instructions-style').find('a').find('span',class_ = 'a-price').find('span').text[1:].replace(',',''))\n",
    "        except:\n",
    "            sell_price = 0\n",
    "        try:\n",
    "            mark_price = int(info.find('div',class_ = 'a-section a-spacing-none a-spacing-top-small s-price-instructions-style').find('a').find('span',class_ = 'a-price a-text-price').find('span',class_ = 'a-offscreen').text[1:].replace(',',''))\n",
    "        except:\n",
    "            mark_price = 0\n",
    "\n",
    "\n",
    "        # delivery date \n",
    "        try:\n",
    "            delivered_on = info.find('div',class_ =  'a-row a-size-base a-color-secondary s-align-children-center').find('span',class_ = 'a-color-base a-text-bold').text\n",
    "        except:\n",
    "            delivered_on = 'Data not available'\n",
    "\n",
    "        data.append([name,stars,sell_price,mark_price,delivered_on])\n",
    "        \n",
    "    link = f'https://www.amazon.in/s?i=computers&rh=n%3A976392031&fs=true&page={pages}&qid=1679465284&ref=sr_pg_{pages}'"
   ]
  },
  {
   "cell_type": "code",
   "execution_count": 193,
   "id": "8c150f84",
   "metadata": {},
   "outputs": [],
   "source": [
    "product = pd.DataFrame(data,columns =['name','stars','sell_price','mark_price','delivery_date'])\n",
    "product.to_csv('product.csv',index = False)"
   ]
  },
  {
   "cell_type": "code",
   "execution_count": 2,
   "id": "52c92c38",
   "metadata": {},
   "outputs": [
    {
     "data": {
      "text/html": [
       "<div>\n",
       "<style scoped>\n",
       "    .dataframe tbody tr th:only-of-type {\n",
       "        vertical-align: middle;\n",
       "    }\n",
       "\n",
       "    .dataframe tbody tr th {\n",
       "        vertical-align: top;\n",
       "    }\n",
       "\n",
       "    .dataframe thead th {\n",
       "        text-align: right;\n",
       "    }\n",
       "</style>\n",
       "<table border=\"1\" class=\"dataframe\">\n",
       "  <thead>\n",
       "    <tr style=\"text-align: right;\">\n",
       "      <th></th>\n",
       "      <th>name</th>\n",
       "      <th>stars</th>\n",
       "      <th>sell_price</th>\n",
       "      <th>mark_price</th>\n",
       "      <th>delivery_date</th>\n",
       "    </tr>\n",
       "  </thead>\n",
       "  <tbody>\n",
       "    <tr>\n",
       "      <th>0</th>\n",
       "      <td>SHINING SUN VISION Smart LED Vision Chart 19 i...</td>\n",
       "      <td>3.5</td>\n",
       "      <td>19499</td>\n",
       "      <td>30000</td>\n",
       "      <td>Wednesday, 29 March</td>\n",
       "    </tr>\n",
       "    <tr>\n",
       "      <th>1</th>\n",
       "      <td>Regatech Compatible for Gateway NV53A46U, NV53...</td>\n",
       "      <td>not available</td>\n",
       "      <td>799</td>\n",
       "      <td>2499</td>\n",
       "      <td>Tuesday, 28 March</td>\n",
       "    </tr>\n",
       "    <tr>\n",
       "      <th>2</th>\n",
       "      <td>Regatech Compatible for Hp G62-A70SQ, G62-A70S...</td>\n",
       "      <td>not available</td>\n",
       "      <td>699</td>\n",
       "      <td>2499</td>\n",
       "      <td>Tuesday, 28 March</td>\n",
       "    </tr>\n",
       "    <tr>\n",
       "      <th>3</th>\n",
       "      <td>boAt Airdopes 141 Bluetooth Truly Wireless in ...</td>\n",
       "      <td>3.9</td>\n",
       "      <td>0</td>\n",
       "      <td>0</td>\n",
       "      <td>Tomorrow, 23 March</td>\n",
       "    </tr>\n",
       "    <tr>\n",
       "      <th>4</th>\n",
       "      <td>boAt BassHeads 100 in-Ear Wired Headphones wit...</td>\n",
       "      <td>4.1</td>\n",
       "      <td>379</td>\n",
       "      <td>999</td>\n",
       "      <td>Today, 22 March</td>\n",
       "    </tr>\n",
       "  </tbody>\n",
       "</table>\n",
       "</div>"
      ],
      "text/plain": [
       "                                                name          stars  \\\n",
       "0  SHINING SUN VISION Smart LED Vision Chart 19 i...            3.5   \n",
       "1  Regatech Compatible for Gateway NV53A46U, NV53...  not available   \n",
       "2  Regatech Compatible for Hp G62-A70SQ, G62-A70S...  not available   \n",
       "3  boAt Airdopes 141 Bluetooth Truly Wireless in ...            3.9   \n",
       "4  boAt BassHeads 100 in-Ear Wired Headphones wit...            4.1   \n",
       "\n",
       "   sell_price  mark_price        delivery_date  \n",
       "0       19499       30000  Wednesday, 29 March  \n",
       "1         799        2499    Tuesday, 28 March  \n",
       "2         699        2499    Tuesday, 28 March  \n",
       "3           0           0   Tomorrow, 23 March  \n",
       "4         379         999      Today, 22 March  "
      ]
     },
     "execution_count": 2,
     "metadata": {},
     "output_type": "execute_result"
    }
   ],
   "source": [
    "df = pd.read_csv('product.csv')\n",
    "df.head()"
   ]
  },
  {
   "cell_type": "markdown",
   "id": "4c825a42",
   "metadata": {},
   "source": [
    "### Getting the information about the product.csv file (Performing exploration on the given data)"
   ]
  },
  {
   "cell_type": "code",
   "execution_count": 6,
   "id": "629fa59c",
   "metadata": {},
   "outputs": [
    {
     "name": "stdout",
     "output_type": "stream",
     "text": [
      "<class 'pandas.core.frame.DataFrame'>\n",
      "RangeIndex: 13075 entries, 0 to 13074\n",
      "Data columns (total 5 columns):\n",
      " #   Column         Non-Null Count  Dtype \n",
      "---  ------         --------------  ----- \n",
      " 0   name           13075 non-null  object\n",
      " 1   stars          13075 non-null  object\n",
      " 2   sell_price     13075 non-null  int64 \n",
      " 3   mark_price     13075 non-null  int64 \n",
      " 4   delivery_date  13075 non-null  object\n",
      "dtypes: int64(2), object(3)\n",
      "memory usage: 510.9+ KB\n"
     ]
    }
   ],
   "source": [
    "df.info()"
   ]
  },
  {
   "cell_type": "code",
   "execution_count": 7,
   "id": "ace061af",
   "metadata": {},
   "outputs": [
    {
     "data": {
      "text/html": [
       "<div>\n",
       "<style scoped>\n",
       "    .dataframe tbody tr th:only-of-type {\n",
       "        vertical-align: middle;\n",
       "    }\n",
       "\n",
       "    .dataframe tbody tr th {\n",
       "        vertical-align: top;\n",
       "    }\n",
       "\n",
       "    .dataframe thead th {\n",
       "        text-align: right;\n",
       "    }\n",
       "</style>\n",
       "<table border=\"1\" class=\"dataframe\">\n",
       "  <thead>\n",
       "    <tr style=\"text-align: right;\">\n",
       "      <th></th>\n",
       "      <th>sell_price</th>\n",
       "      <th>mark_price</th>\n",
       "    </tr>\n",
       "  </thead>\n",
       "  <tbody>\n",
       "    <tr>\n",
       "      <th>count</th>\n",
       "      <td>13075.000000</td>\n",
       "      <td>13075.000000</td>\n",
       "    </tr>\n",
       "    <tr>\n",
       "      <th>mean</th>\n",
       "      <td>4259.728719</td>\n",
       "      <td>7336.086883</td>\n",
       "    </tr>\n",
       "    <tr>\n",
       "      <th>std</th>\n",
       "      <td>10080.744019</td>\n",
       "      <td>15218.477823</td>\n",
       "    </tr>\n",
       "    <tr>\n",
       "      <th>min</th>\n",
       "      <td>0.000000</td>\n",
       "      <td>0.000000</td>\n",
       "    </tr>\n",
       "    <tr>\n",
       "      <th>25%</th>\n",
       "      <td>219.000000</td>\n",
       "      <td>299.000000</td>\n",
       "    </tr>\n",
       "    <tr>\n",
       "      <th>50%</th>\n",
       "      <td>900.000000</td>\n",
       "      <td>1999.000000</td>\n",
       "    </tr>\n",
       "    <tr>\n",
       "      <th>75%</th>\n",
       "      <td>3999.000000</td>\n",
       "      <td>9916.500000</td>\n",
       "    </tr>\n",
       "    <tr>\n",
       "      <th>max</th>\n",
       "      <td>199900.000000</td>\n",
       "      <td>400000.000000</td>\n",
       "    </tr>\n",
       "  </tbody>\n",
       "</table>\n",
       "</div>"
      ],
      "text/plain": [
       "          sell_price     mark_price\n",
       "count   13075.000000   13075.000000\n",
       "mean     4259.728719    7336.086883\n",
       "std     10080.744019   15218.477823\n",
       "min         0.000000       0.000000\n",
       "25%       219.000000     299.000000\n",
       "50%       900.000000    1999.000000\n",
       "75%      3999.000000    9916.500000\n",
       "max    199900.000000  400000.000000"
      ]
     },
     "execution_count": 7,
     "metadata": {},
     "output_type": "execute_result"
    }
   ],
   "source": [
    "df.describe()"
   ]
  },
  {
   "cell_type": "markdown",
   "id": "b122efa0",
   "metadata": {},
   "source": [
    "## Creating the dictionary of the links "
   ]
  },
  {
   "cell_type": "code",
   "execution_count": 3,
   "id": "fad5e67f",
   "metadata": {},
   "outputs": [],
   "source": [
    "dct = {\n",
    "    'mobilecover'  : 's?rh=n%3A1389409031&fs=true',\n",
    "    'laptop'       : 's?rh=n%3A1375424031&fs=true',\n",
    "    'computer'     : 's?rh=n%3A976392031&fs=true',\n",
    "    'cricket'      : 's?rh=n%3A3403628031&fs=true',\n",
    "    'badminton'    : 's?rh=n%3A3403619031&fs=true',\n",
    "    'motorbike'    : 's?rh=n%3A5257478031&fs=true',\n",
    "}\n"
   ]
  },
  {
   "cell_type": "markdown",
   "id": "84744a54",
   "metadata": {},
   "source": [
    "### Scraping the data of all the pages along with product"
   ]
  },
  {
   "cell_type": "code",
   "execution_count": 25,
   "id": "0f1aebbb",
   "metadata": {},
   "outputs": [
    {
     "name": "stdout",
     "output_type": "stream",
     "text": [
      "Enter the name of thing that you are looking of :womenwears\n"
     ]
    },
    {
     "name": "stderr",
     "output_type": "stream",
     "text": [
      "100%|█████████████████████████████████████████| 399/399 [40:21<00:00,  6.07s/it]\n"
     ]
    }
   ],
   "source": [
    "scrape = input('Enter the name of thing that you are looking of :').lower()\n",
    "\n",
    "if scrape in dct.keys():\n",
    "    data = []\n",
    "    link = 'https://www.amazon.in/' + dct[scrape]\n",
    "    for pages in tqdm(range(2,401)):\n",
    "        driver.get(link)\n",
    "        soup = BeautifulSoup(driver.page_source,'html.parser')\n",
    "        for info in soup.find_all('div',{'class' : 'a-section a-spacing-base'}):\n",
    "            # name of the product \n",
    "            name = info.find('div',class_ = 'a-section a-spacing-small puis-padding-left-small puis-padding-right-small').find('div',class_ = 'a-section a-spacing-none a-spacing-top-small s-title-instructions-style').find('h2').text\n",
    "            # rating obtained by that product \n",
    "            try:\n",
    "                if ' ' in info.find('div',class_ = 'a-section a-spacing-small puis-padding-left-small puis-padding-right-small').find('div',class_ = 'a-section a-spacing-none a-spacing-top-micro').find('span').find('i').text:\n",
    "                    stars = float(info.find('div',class_ = 'a-section a-spacing-small puis-padding-left-small puis-padding-right-small').find('div',class_ = 'a-section a-spacing-none a-spacing-top-micro').find('span').find('i').text[:3])\n",
    "                else:\n",
    "                    stars= 'not available'\n",
    "            except:\n",
    "                stars = 'not available'\n",
    "\n",
    "            # price of the product \n",
    "            try:\n",
    "                sell_price = int(info.find('div',class_ = 'a-section a-spacing-none a-spacing-top-small s-price-instructions-style').find('a').find('span',class_ = 'a-price').find('span').text[1:].replace(',',''))\n",
    "            except:\n",
    "                sell_price = 0\n",
    "            try:\n",
    "                mark_price = int(info.find('div',class_ = 'a-section a-spacing-none a-spacing-top-small s-price-instructions-style').find('a').find('span',class_ = 'a-price a-text-price').find('span',class_ = 'a-offscreen').text[1:].replace(',',''))\n",
    "            except:\n",
    "                mark_price = 0\n",
    "\n",
    "            # delivery date \n",
    "            try:\n",
    "                delivered_on = info.find('div',class_ =  'a-row a-size-base a-color-secondary s-align-children-center').find('span',class_ = 'a-color-base a-text-bold').text\n",
    "            except:\n",
    "                delivered_on = 'Data not available'\n",
    "\n",
    "            data.append([name,stars,sell_price,mark_price,delivered_on])\n",
    "\n",
    "        link = 'https://www.amazon.in/' + dct[scrape] + f'&page={pages}&ref=sr_pg_{pages}'\n",
    "else:\n",
    "    print('Not present')\n",
    "\n",
    "\n",
    "product = pd.DataFrame(data,columns =['name','stars','sell_price','mark_price','delivery_date'])\n",
    "product.to_csv(scrape + '.csv',index = False)"
   ]
  },
  {
   "cell_type": "markdown",
   "id": "dd3be1b0",
   "metadata": {},
   "source": [
    "### Setting the default column for all the products"
   ]
  },
  {
   "cell_type": "code",
   "execution_count": 26,
   "id": "868a4e6c",
   "metadata": {},
   "outputs": [],
   "source": [
    "df1 = pd.read_csv('product.csv')\n",
    "df1['product_type'] = 'Computers and Peripherals'\n",
    "\n",
    "df2 =  pd.read_csv('laptop.csv')\n",
    "df2['product_type'] = 'Laptops'\n",
    "\n",
    "df3 =  pd.read_csv('mobliecovers.csv')\n",
    "df3['product_type'] = 'Moblie Covers'\n",
    "\n",
    "df4 =  pd.read_csv('cricket.csv')\n",
    "df4['product_type'] = 'Cricket Equipments and Essentials'\n",
    "\n",
    "df5 = pd.read_csv('badminton.csv')\n",
    "df5['product_type'] = 'Badminton Accessories and Essentials'\n",
    "\n",
    "df6 = pd.read_csv('motorbike.csv')\n",
    "df6['product_type'] = 'Motorbike Accessories and Essentials'\n"
   ]
  },
  {
   "cell_type": "code",
   "execution_count": 71,
   "id": "9e7a3cb5",
   "metadata": {},
   "outputs": [],
   "source": [
    "stores = pd.concat([df1,df2,df3,df4,df5,df6])\n",
    "stores.to_csv('products.csv',index = False)"
   ]
  },
  {
   "cell_type": "code",
   "execution_count": 4,
   "id": "00eb9681",
   "metadata": {},
   "outputs": [],
   "source": [
    "df = pd.read_csv('products.csv')"
   ]
  },
  {
   "cell_type": "code",
   "execution_count": 5,
   "id": "18f39627",
   "metadata": {},
   "outputs": [],
   "source": [
    "# pre processing the stars column"
   ]
  },
  {
   "cell_type": "code",
   "execution_count": 6,
   "id": "cb64e9e2",
   "metadata": {},
   "outputs": [],
   "source": [
    "ls = []\n",
    "for i in df['stars']:\n",
    "    if i == 'not available':\n",
    "        ls.append(0.0)\n",
    "    else:\n",
    "        ls.append(i)\n",
    "        \n",
    "df['stars'] = ls"
   ]
  },
  {
   "cell_type": "code",
   "execution_count": null,
   "id": "14d3982e",
   "metadata": {},
   "outputs": [],
   "source": []
  },
  {
   "cell_type": "code",
   "execution_count": null,
   "id": "01753d63",
   "metadata": {},
   "outputs": [],
   "source": []
  },
  {
   "cell_type": "code",
   "execution_count": null,
   "id": "fb7f9fa7",
   "metadata": {},
   "outputs": [],
   "source": []
  },
  {
   "cell_type": "code",
   "execution_count": null,
   "id": "d8087eae",
   "metadata": {},
   "outputs": [],
   "source": []
  },
  {
   "cell_type": "code",
   "execution_count": null,
   "id": "b7c1e7ed",
   "metadata": {},
   "outputs": [],
   "source": []
  },
  {
   "cell_type": "code",
   "execution_count": null,
   "id": "fcef0d71",
   "metadata": {},
   "outputs": [],
   "source": []
  },
  {
   "cell_type": "code",
   "execution_count": null,
   "id": "e534826d",
   "metadata": {},
   "outputs": [],
   "source": []
  }
 ],
 "metadata": {
  "kernelspec": {
   "display_name": "Python 3 (ipykernel)",
   "language": "python",
   "name": "python3"
  },
  "language_info": {
   "codemirror_mode": {
    "name": "ipython",
    "version": 3
   },
   "file_extension": ".py",
   "mimetype": "text/x-python",
   "name": "python",
   "nbconvert_exporter": "python",
   "pygments_lexer": "ipython3",
   "version": "3.10.6"
  }
 },
 "nbformat": 4,
 "nbformat_minor": 5
}

{
 "cells": [
  {
   "cell_type": "markdown",
   "id": "471d4f90",
   "metadata": {},
   "source": [
    "# Importing essential library"
   ]
  },
  {
   "cell_type": "code",
   "execution_count": 1,
   "id": "239b5789",
   "metadata": {},
   "outputs": [],
   "source": [
    "# essentials\n",
    "import shutil\n",
    "import os\n",
    "\n",
    "# multiprocessing\n",
    "import multiprocessing \n",
    "\n",
    "# dataset\n",
    "from tqdm import tqdm \n",
    "import pandas as pd\n",
    "import numpy as np \n",
    "\n",
    "# webscraping\n",
    "import requests\n",
    "from bs4 import BeautifulSoup\n",
    "import time\n",
    "\n",
    "# webdriver \n",
    "from selenium import webdriver\n",
    "from webdriver_manager.chrome import ChromeDriverManager"
   ]
  },
  {
   "cell_type": "markdown",
   "id": "15e5d45a",
   "metadata": {},
   "source": [
    "# Installing the webdriver"
   ]
  },
  {
   "cell_type": "code",
   "execution_count": 3,
   "id": "681e6392",
   "metadata": {},
   "outputs": [
    {
     "name": "stderr",
     "output_type": "stream",
     "text": [
      "/tmp/ipykernel_3289/4103546689.py:1: DeprecationWarning: executable_path has been deprecated, please pass in a Service object\n",
      "  browser = webdriver.Chrome(ChromeDriverManager().install())\n"
     ]
    }
   ],
   "source": [
    "browser = webdriver.Chrome(ChromeDriverManager().install())\n",
    "\n",
    "link = 'https://www.imdb.com/search/name/?match_all=true&start=0&ref_=rlm'\n",
    "browser.get(link)\n",
    "soup = BeautifulSoup(browser.page_source,'html.parser')"
   ]
  },
  {
   "cell_type": "markdown",
   "id": "15bec135",
   "metadata": {},
   "source": [
    "### Defining a profile scraper"
   ]
  },
  {
   "cell_type": "code",
   "execution_count": 4,
   "id": "6d2d47f3",
   "metadata": {},
   "outputs": [],
   "source": [
    "def profile_scraper(start,end):\n",
    "    celeb_data = []\n",
    "    # initial link \n",
    "    link = 'https://www.imdb.com/search/name/?match_all=true&start=0&ref_=rlm'\n",
    "    for pages in tqdm(range(start,end)):   \n",
    "\n",
    "        browser.get(link)\n",
    "\n",
    "        soup = BeautifulSoup(browser.page_source,'html.parser')\n",
    "\n",
    "        for celeb in soup.find_all('div',class_ = 'lister-item mode-detail'):\n",
    "            try:\n",
    "                img_link     = celeb.find('a').find('img').get('src')\n",
    "            except:\n",
    "                img_link\n",
    "            try:\n",
    "                celeb_id     = celeb.find('div',class_ = 'lister-item-content').find('a').get('href')[6:]\n",
    "            except:\n",
    "                celeb_id\n",
    "            try:\n",
    "                profile_link = 'https://www.imdb.com' + celeb.find('div',class_ = 'lister-item-content').find('a').get('href')\n",
    "            except:\n",
    "                profile_link\n",
    "            try:\n",
    "                celeb_name   = celeb.find('div',class_ = 'lister-item-content').find('a').text.strip()\n",
    "            except:\n",
    "                celeb_name\n",
    "            try:\n",
    "                prof         = BeautifulSoup(str(celeb.find('div',class_ = 'lister-item-content').find('p')).split('|')[0],'html.parser')\n",
    "                fame         = BeautifulSoup(str(celeb.find('div',class_ = 'lister-item-content').find('p')).split('|')[1],'html.parser')\n",
    "                profession   = prof.text.strip()\n",
    "                famous_for   = fame.text.strip()\n",
    "            except:\n",
    "                profession = 'Not Available'\n",
    "                famous_for = 'Not Available'\n",
    "\n",
    "            celeb_data.append([celeb_id,celeb_name,profession,famous_for,img_link,profile_link])\n",
    "\n",
    "        link = 'https://www.imdb.com'+soup.find('div',class_ = 'desc').find('a',class_ = 'lister-page-next next-page').get('href')\n",
    "    celeb = pd.DataFrame(celeb_data,columns = ['celeb_id','celeb_name','profession','famous_for','img_link','profile_link'])\n",
    "    celeb.head()"
   ]
  },
  {
   "cell_type": "code",
   "execution_count": null,
   "id": "202a1e0a",
   "metadata": {},
   "outputs": [],
   "source": [
    "p1 = multiprocessing.Process(target = profile_scraper,args =(0,101))\n",
    "p2 = multiprocessing.Process(target = profile_scraper,args =(101,201))\n",
    "p3 = multiprocessing.Process(target = profile_scraper,args =(201,301))\n",
    "p4 = multiprocessing.Process(target = profile_scraper,args =(301,401))\n",
    "p5 = multiprocessing.Process(target = profile_scraper,args =(401,501))\n",
    "p6 = multiprocessing.Process(target = profile_scraper,args =(501,601))\n",
    "\n",
    "p1.start()\n",
    "p2.start()\n",
    "p3.start()\n",
    "p4.start()\n",
    "p5.start()\n",
    "p6.start()\n",
    "\n",
    "p1.join()\n",
    "p2.join()\n",
    "p3.join()\n",
    "p4.join()\n",
    "p5.join()\n",
    "p6.join()\n"
   ]
  },
  {
   "cell_type": "code",
   "execution_count": 90,
   "id": "308ba9d5",
   "metadata": {},
   "outputs": [],
   "source": [
    "celeb.to_csv('celebs.csv',index = False)"
   ]
  },
  {
   "cell_type": "code",
   "execution_count": 92,
   "id": "c86afe09",
   "metadata": {},
   "outputs": [
    {
     "data": {
      "text/plain": [
       "(25047, 6)"
      ]
     },
     "execution_count": 92,
     "metadata": {},
     "output_type": "execute_result"
    }
   ],
   "source": [
    "celeb.shape"
   ]
  },
  {
   "cell_type": "markdown",
   "id": "88ffc362",
   "metadata": {},
   "source": [
    "### Downloading the images | Multiprocessing "
   ]
  },
  {
   "cell_type": "code",
   "execution_count": 13,
   "id": "c288175a",
   "metadata": {},
   "outputs": [
    {
     "data": {
      "text/plain": [
       "celeb_id        0\n",
       "celeb_name      0\n",
       "profession      0\n",
       "famous_for      0\n",
       "img_link        0\n",
       "profile_link    0\n",
       "dtype: int64"
      ]
     },
     "execution_count": 13,
     "metadata": {},
     "output_type": "execute_result"
    }
   ],
   "source": [
    "df = pd.read_csv('celeb(1).csv')\n",
    "df.isnull().sum()"
   ]
  },
  {
   "cell_type": "code",
   "execution_count": 65,
   "id": "8f8097fa",
   "metadata": {},
   "outputs": [],
   "source": [
    "! mkdir celeb_images"
   ]
  },
  {
   "cell_type": "code",
   "execution_count": 88,
   "id": "a82ab70d",
   "metadata": {},
   "outputs": [],
   "source": [
    "def download_img(data,start,end):\n",
    "    for i in tqdm(df.values[start:end]):\n",
    "        r = requests.get(i[4], stream = True)\n",
    "        name = i[1].replace(' ','_')                   # saving the name of th celebs\n",
    "        path = f'celeb_images/{name}.png' \n",
    "        if r.status_code == 200:                       # check if the response is 200\n",
    "            with open(path, 'wb') as f:                # opening a file as web\n",
    "                r.raw.decode_content = True            # decoding the image \n",
    "                shutil.copyfileobj(r.raw, f)           # downloading the image to path  "
   ]
  },
  {
   "cell_type": "code",
   "execution_count": 93,
   "id": "e33bec62",
   "metadata": {},
   "outputs": [
    {
     "name": "stderr",
     "output_type": "stream",
     "text": [
      "100%|███████████████████████████████████████| 1001/1001 [08:17<00:00,  2.01it/s]\n",
      " 90%|████████████████████████████████████▉    | 899/998 [09:00<00:46,  2.12it/s]\n",
      "100%|███████████████████████████████████████| 1000/1000 [09:31<00:00,  1.75it/s]\n",
      "100%|███████████████████████████████████████| 1000/1000 [09:41<00:00,  1.72it/s]\n",
      "100%|█████████████████████████████████████████| 998/998 [09:58<00:00,  1.67it/s]\n"
     ]
    }
   ],
   "source": [
    "p1 = multiprocessing.Process(target = download_img,args =(df,0,1001))\n",
    "p2 = multiprocessing.Process(target = download_img,args =(df,1001,2001))\n",
    "p3 = multiprocessing.Process(target = download_img,args =(df,2001,3001))\n",
    "p4 = multiprocessing.Process(target = download_img,args =(df,3001,4001))\n",
    "p5 = multiprocessing.Process(target = download_img,args =(df,4001,4999))\n",
    "\n",
    "p1.start()\n",
    "p2.start()\n",
    "p3.start()\n",
    "p4.start()\n",
    "p5.start()\n",
    "\n",
    "p1.join()\n",
    "p2.join()\n",
    "p3.join()\n",
    "p4.join()\n",
    "p5.join()\n",
    "\n"
   ]
  }
 ],
 "metadata": {
  "kernelspec": {
   "display_name": "Python 3 (ipykernel)",
   "language": "python",
   "name": "python3"
  },
  "language_info": {
   "codemirror_mode": {
    "name": "ipython",
    "version": 3
   },
   "file_extension": ".py",
   "mimetype": "text/x-python",
   "name": "python",
   "nbconvert_exporter": "python",
   "pygments_lexer": "ipython3",
   "version": "3.10.6"
  }
 },
 "nbformat": 4,
 "nbformat_minor": 5
}

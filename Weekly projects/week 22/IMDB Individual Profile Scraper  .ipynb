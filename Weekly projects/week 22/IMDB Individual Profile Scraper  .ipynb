{
 "cells": [
  {
   "cell_type": "code",
   "execution_count": 1,
   "id": "c1da47db",
   "metadata": {},
   "outputs": [],
   "source": [
    "import requests \n",
    "import pandas as pd \n",
    "import numpy as np \n",
    "from bs4 import BeautifulSoup"
   ]
  },
  {
   "cell_type": "code",
   "execution_count": 2,
   "id": "afcf2e1e",
   "metadata": {},
   "outputs": [
    {
     "data": {
      "text/html": [
       "<div>\n",
       "<style scoped>\n",
       "    .dataframe tbody tr th:only-of-type {\n",
       "        vertical-align: middle;\n",
       "    }\n",
       "\n",
       "    .dataframe tbody tr th {\n",
       "        vertical-align: top;\n",
       "    }\n",
       "\n",
       "    .dataframe thead th {\n",
       "        text-align: right;\n",
       "    }\n",
       "</style>\n",
       "<table border=\"1\" class=\"dataframe\">\n",
       "  <thead>\n",
       "    <tr style=\"text-align: right;\">\n",
       "      <th></th>\n",
       "      <th>celeb_id</th>\n",
       "      <th>celeb_name</th>\n",
       "      <th>profession</th>\n",
       "      <th>famous_for</th>\n",
       "      <th>img_link</th>\n",
       "      <th>profile_link</th>\n",
       "    </tr>\n",
       "  </thead>\n",
       "  <tbody>\n",
       "    <tr>\n",
       "      <th>0</th>\n",
       "      <td>nm0000079</td>\n",
       "      <td>Raquel Welch</td>\n",
       "      <td>Actress</td>\n",
       "      <td>The Three Musketeers</td>\n",
       "      <td>https://m.media-amazon.com/images/M/MV5BZDJhMz...</td>\n",
       "      <td>https://www.imdb.com/name/nm0000079</td>\n",
       "    </tr>\n",
       "    <tr>\n",
       "      <th>1</th>\n",
       "      <td>nm0050959</td>\n",
       "      <td>Pedro Pascal</td>\n",
       "      <td>Actor</td>\n",
       "      <td>The Mandalorian</td>\n",
       "      <td>https://m.media-amazon.com/images/M/MV5BMGNlYT...</td>\n",
       "      <td>https://www.imdb.com/name/nm0050959</td>\n",
       "    </tr>\n",
       "    <tr>\n",
       "      <th>2</th>\n",
       "      <td>nm8165602</td>\n",
       "      <td>Bella Ramsey</td>\n",
       "      <td>Actress</td>\n",
       "      <td>Game of Thrones</td>\n",
       "      <td>https://m.media-amazon.com/images/M/MV5BMWJkZW...</td>\n",
       "      <td>https://www.imdb.com/name/nm8165602</td>\n",
       "    </tr>\n",
       "    <tr>\n",
       "      <th>3</th>\n",
       "      <td>nm0001491</td>\n",
       "      <td>Melanie Lynskey</td>\n",
       "      <td>Actress</td>\n",
       "      <td>Togetherness</td>\n",
       "      <td>https://m.media-amazon.com/images/M/MV5BMjIzND...</td>\n",
       "      <td>https://www.imdb.com/name/nm0001491</td>\n",
       "    </tr>\n",
       "    <tr>\n",
       "      <th>4</th>\n",
       "      <td>nm8567338</td>\n",
       "      <td>Sasha Calle</td>\n",
       "      <td>Actress</td>\n",
       "      <td>The Flash</td>\n",
       "      <td>https://m.media-amazon.com/images/M/MV5BZTc1Ym...</td>\n",
       "      <td>https://www.imdb.com/name/nm8567338</td>\n",
       "    </tr>\n",
       "  </tbody>\n",
       "</table>\n",
       "</div>"
      ],
      "text/plain": [
       "    celeb_id       celeb_name profession            famous_for  \\\n",
       "0  nm0000079     Raquel Welch    Actress  The Three Musketeers   \n",
       "1  nm0050959     Pedro Pascal      Actor       The Mandalorian   \n",
       "2  nm8165602     Bella Ramsey    Actress       Game of Thrones   \n",
       "3  nm0001491  Melanie Lynskey    Actress          Togetherness   \n",
       "4  nm8567338      Sasha Calle    Actress             The Flash   \n",
       "\n",
       "                                            img_link  \\\n",
       "0  https://m.media-amazon.com/images/M/MV5BZDJhMz...   \n",
       "1  https://m.media-amazon.com/images/M/MV5BMGNlYT...   \n",
       "2  https://m.media-amazon.com/images/M/MV5BMWJkZW...   \n",
       "3  https://m.media-amazon.com/images/M/MV5BMjIzND...   \n",
       "4  https://m.media-amazon.com/images/M/MV5BZTc1Ym...   \n",
       "\n",
       "                          profile_link  \n",
       "0  https://www.imdb.com/name/nm0000079  \n",
       "1  https://www.imdb.com/name/nm0050959  \n",
       "2  https://www.imdb.com/name/nm8165602  \n",
       "3  https://www.imdb.com/name/nm0001491  \n",
       "4  https://www.imdb.com/name/nm8567338  "
      ]
     },
     "execution_count": 2,
     "metadata": {},
     "output_type": "execute_result"
    }
   ],
   "source": [
    "df = pd.read_csv('celeb(1).csv')\n",
    "df.head()"
   ]
  },
  {
   "cell_type": "code",
   "execution_count": 75,
   "id": "93cc2848",
   "metadata": {},
   "outputs": [
    {
     "name": "stdout",
     "output_type": "stream",
     "text": [
      "['Actress,Producer,Writer', '6 wins & 10 nominations', 'The Three Musketeers,Myra Breckinridge,Hannie Caulder,Fathom', 'Instagram,Twitter', 'https://www.instagram.com/therealraquelwelch/,https://twitter.com/Raquel_Welch', 'ejad', 'Raquel Tejada']\n"
     ]
    }
   ],
   "source": [
    "headers = {\"User-Agent\" : \"Mozilla/5.0 (Windows NT 10.0; Win64; x64) AppleWebKit/537.36 (KHTML, like Gecko) Chrome/103.0.5060.114 Safari/537.36 Edg/103.0.1264.49\"}\n",
    "\n",
    "for i in df['profile_link'][:10]:\n",
    "    webdata = requests.get(i,headers = headers).text\n",
    "    soup = BeautifulSoup(webdata,'lxml')\n",
    "    \n",
    "    # professsion of the actor or the actress\n",
    "    try:\n",
    "        prof = ','.join([prof.text.strip() for prof in soup.find('ul',class_ = 'ipc-inline-list ipc-inline-list--show-dividers sc-afe43def-4 kdXikI baseAlt').find_all('li')])\n",
    "    except:\n",
    "        prof = np.nan\n",
    "    \n",
    "    # awards and nominations \n",
    "    try:\n",
    "        awards = soup.find('label',class_ = 'ipc-metadata-list-item__list-content-item').text\n",
    "    except:\n",
    "        awards = 'no awards no nominations'\n",
    "        \n",
    "    # films he/she is known for \n",
    "    try:\n",
    "        famous = ','.join([fame.text for fame in soup.find_all('div',class_ = 'ipc-primary-image-list-card__content-top')])\n",
    "    except:\n",
    "        famous = np.nan\n",
    "        \n",
    "    \n",
    "    html = [data for data in soup.find_all('section',class_ = 'ipc-page-section ipc-page-section--base celwidget') if 'personal details'.lower() in data.text.lower()][0]\n",
    "        \n",
    "    # if his/her official site exists or not     \n",
    "    try:\n",
    "        if 'Official sites'.lower() in html.text.lower():\n",
    "            sites = ','.join([sites.text for sites in html.find('ul',class_ = 'ipc-inline-list ipc-inline-list--show-dividers ipc-inline-list--inline ipc-metadata-list-item__list-content base').find_all('li')])\n",
    "            link_ = ','.join([link_.find('a').get('href') for link_ in html.find('ul',class_ = 'ipc-inline-list ipc-inline-list--show-dividers ipc-inline-list--inline ipc-metadata-list-item__list-content base').find_all('li')])\n",
    "        else:\n",
    "            sites = np.nan\n",
    "            link_ = np.nan\n",
    "    except:\n",
    "        pass\n",
    "    \n",
    "    \n",
    "    # height of the actor or actress\n",
    "    try:\n",
    "        if 'Height'.lower() in html.text.lower():\n",
    "            height = html.find('label',class_ = 'ipc-metadata-list-item__list-content-item').text[8:-1]\n",
    "        else:\n",
    "            height = np.nan\n",
    "    except:\n",
    "        pass\n",
    "    \n",
    "    # finding alternative name of actor/ actress\n",
    "    try:    \n",
    "        if 'Alternative name'.lower() in html.text.lower():\n",
    "            alt_name = html.find('label',class_ = 'ipc-metadata-list-item__list-content-item').text\n",
    "        else:\n",
    "            alt_name = np.nan\n",
    "    except:\n",
    "        pass\n",
    "            \n",
    "    print([prof,awards,famous,sites,link_,height,alt_name])\n",
    "    break\n",
    "    "
   ]
  },
  {
   "cell_type": "code",
   "execution_count": null,
   "id": "5b8a39a7",
   "metadata": {},
   "outputs": [],
   "source": [
    "try:\n",
    "    if 'Alternative name'.lower() in html.text.lower():\n",
    "        sites = ','.join([sites.text for sites in html.find('ul',class_ = 'ipc-inline-list ipc-inline-list--show-dividers ipc-inline-list--inline ipc-metadata-list-item__list-content base').find_all('li')])\n",
    "        link_ = ','.join([link_.find('a').get('href') for link_ in html.find('ul',class_ = 'ipc-inline-list ipc-inline-list--show-dividers ipc-inline-list--inline ipc-metadata-list-item__list-content base').find_all('li')])\n",
    "    else:\n",
    "        sites = np.nan\n",
    "        link_ = np.nan\n",
    "except:\n",
    "    pass\n"
   ]
  },
  {
   "cell_type": "code",
   "execution_count": 76,
   "id": "b051e017",
   "metadata": {},
   "outputs": [],
   "source": [
    "try:\n",
    "    if 'Height'.lower() in html.text.lower():\n",
    "        height = html.find('label',class_ = 'ipc-metadata-list-item__list-content-item').text[8:-1]\n",
    "    else:\n",
    "        height = np.nan\n",
    "except:\n",
    "    pass"
   ]
  },
  {
   "cell_type": "code",
   "execution_count": 80,
   "id": "b8e9db92",
   "metadata": {},
   "outputs": [
    {
     "data": {
      "text/plain": [
       "<li class=\"ipc-metadata-list__item\" data-testid=\"details-officialsites\" role=\"presentation\"><span aria-disabled=\"false\" aria-label=\"See more\" class=\"ipc-metadata-list-item__label ipc-metadata-list-item__label--btn\" tabindex=\"0\">Official sites</span><div class=\"ipc-metadata-list-item__content-container\"><ul class=\"ipc-inline-list ipc-inline-list--show-dividers ipc-inline-list--inline ipc-metadata-list-item__list-content base\" role=\"presentation\"><li class=\"ipc-inline-list__item\" role=\"presentation\"><a aria-disabled=\"false\" class=\"ipc-metadata-list-item__list-content-item ipc-metadata-list-item__list-content-item--link\" href=\"https://www.instagram.com/therealraquelwelch/\" rel=\"nofollow noopener\" role=\"button\" tabindex=\"0\" target=\"_blank\">Instagram<svg class=\"ipc-icon ipc-icon--launch-inline ipc-icon--inline ipc-link__launch-icon\" fill=\"currentColor\" height=\"24\" id=\"iconContext-launch-inline\" role=\"presentation\" viewbox=\"0 0 24 24\" width=\"24\" xmlns=\"http://www.w3.org/2000/svg\"><path d=\"M21.6 21.6H2.4V2.4h7.2V0H0v24h24v-9.6h-2.4v7.2zM14.4 0v2.4h4.8L7.195 14.49l2.4 2.4L21.6 4.8v4.8H24V0h-9.6z\"></path></svg></a></li><li class=\"ipc-inline-list__item\" role=\"presentation\"><a aria-disabled=\"false\" class=\"ipc-metadata-list-item__list-content-item ipc-metadata-list-item__list-content-item--link\" href=\"https://twitter.com/Raquel_Welch\" rel=\"nofollow noopener\" role=\"button\" tabindex=\"0\" target=\"_blank\">Twitter<svg class=\"ipc-icon ipc-icon--launch-inline ipc-icon--inline ipc-link__launch-icon\" fill=\"currentColor\" height=\"24\" id=\"iconContext-launch-inline\" role=\"presentation\" viewbox=\"0 0 24 24\" width=\"24\" xmlns=\"http://www.w3.org/2000/svg\"><path d=\"M21.6 21.6H2.4V2.4h7.2V0H0v24h24v-9.6h-2.4v7.2zM14.4 0v2.4h4.8L7.195 14.49l2.4 2.4L21.6 4.8v4.8H24V0h-9.6z\"></path></svg></a></li></ul></div></li>"
      ]
     },
     "execution_count": 80,
     "metadata": {},
     "output_type": "execute_result"
    }
   ],
   "source": [
    "html.find('ul').find('li')"
   ]
  },
  {
   "cell_type": "code",
   "execution_count": null,
   "id": "3f3d460e",
   "metadata": {},
   "outputs": [],
   "source": []
  },
  {
   "cell_type": "code",
   "execution_count": null,
   "id": "3f2ec80a",
   "metadata": {},
   "outputs": [],
   "source": []
  },
  {
   "cell_type": "code",
   "execution_count": null,
   "id": "94a6c150",
   "metadata": {},
   "outputs": [],
   "source": []
  },
  {
   "cell_type": "code",
   "execution_count": null,
   "id": "c70868af",
   "metadata": {},
   "outputs": [],
   "source": []
  },
  {
   "cell_type": "code",
   "execution_count": null,
   "id": "94973403",
   "metadata": {},
   "outputs": [],
   "source": []
  },
  {
   "cell_type": "code",
   "execution_count": null,
   "id": "4b7c6d47",
   "metadata": {},
   "outputs": [],
   "source": []
  },
  {
   "cell_type": "code",
   "execution_count": null,
   "id": "03d55161",
   "metadata": {},
   "outputs": [],
   "source": []
  },
  {
   "cell_type": "code",
   "execution_count": null,
   "id": "85ed1997",
   "metadata": {},
   "outputs": [],
   "source": []
  },
  {
   "cell_type": "code",
   "execution_count": null,
   "id": "df2f4ebf",
   "metadata": {},
   "outputs": [],
   "source": []
  },
  {
   "cell_type": "code",
   "execution_count": null,
   "id": "8e5355be",
   "metadata": {},
   "outputs": [],
   "source": []
  },
  {
   "cell_type": "code",
   "execution_count": null,
   "id": "581afc17",
   "metadata": {},
   "outputs": [],
   "source": []
  },
  {
   "cell_type": "code",
   "execution_count": null,
   "id": "b7193115",
   "metadata": {},
   "outputs": [],
   "source": []
  },
  {
   "cell_type": "code",
   "execution_count": null,
   "id": "2be6545d",
   "metadata": {},
   "outputs": [],
   "source": []
  },
  {
   "cell_type": "code",
   "execution_count": null,
   "id": "b35c6cbc",
   "metadata": {},
   "outputs": [],
   "source": []
  },
  {
   "cell_type": "code",
   "execution_count": null,
   "id": "40344da2",
   "metadata": {},
   "outputs": [],
   "source": []
  },
  {
   "cell_type": "code",
   "execution_count": null,
   "id": "8c1bd335",
   "metadata": {},
   "outputs": [],
   "source": []
  },
  {
   "cell_type": "code",
   "execution_count": null,
   "id": "3a28763e",
   "metadata": {},
   "outputs": [],
   "source": []
  },
  {
   "cell_type": "code",
   "execution_count": null,
   "id": "66025838",
   "metadata": {},
   "outputs": [],
   "source": []
  },
  {
   "cell_type": "code",
   "execution_count": null,
   "id": "e7f5cc0a",
   "metadata": {},
   "outputs": [],
   "source": []
  },
  {
   "cell_type": "code",
   "execution_count": null,
   "id": "8e7d9fc2",
   "metadata": {},
   "outputs": [],
   "source": []
  },
  {
   "cell_type": "code",
   "execution_count": null,
   "id": "69b8dada",
   "metadata": {},
   "outputs": [],
   "source": []
  },
  {
   "cell_type": "code",
   "execution_count": null,
   "id": "416d0fdc",
   "metadata": {},
   "outputs": [],
   "source": []
  },
  {
   "cell_type": "code",
   "execution_count": null,
   "id": "abc496ce",
   "metadata": {},
   "outputs": [],
   "source": []
  },
  {
   "cell_type": "code",
   "execution_count": null,
   "id": "617bf641",
   "metadata": {},
   "outputs": [],
   "source": []
  },
  {
   "cell_type": "code",
   "execution_count": null,
   "id": "ab293206",
   "metadata": {},
   "outputs": [],
   "source": []
  },
  {
   "cell_type": "code",
   "execution_count": null,
   "id": "699569e9",
   "metadata": {},
   "outputs": [],
   "source": []
  },
  {
   "cell_type": "code",
   "execution_count": null,
   "id": "34fda186",
   "metadata": {},
   "outputs": [],
   "source": []
  },
  {
   "cell_type": "code",
   "execution_count": null,
   "id": "3fe46bd6",
   "metadata": {},
   "outputs": [],
   "source": []
  }
 ],
 "metadata": {
  "kernelspec": {
   "display_name": "Python 3 (ipykernel)",
   "language": "python",
   "name": "python3"
  },
  "language_info": {
   "codemirror_mode": {
    "name": "ipython",
    "version": 3
   },
   "file_extension": ".py",
   "mimetype": "text/x-python",
   "name": "python",
   "nbconvert_exporter": "python",
   "pygments_lexer": "ipython3",
   "version": "3.10.6"
  }
 },
 "nbformat": 4,
 "nbformat_minor": 5
}

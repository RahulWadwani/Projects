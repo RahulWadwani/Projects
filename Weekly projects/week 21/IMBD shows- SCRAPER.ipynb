{
 "cells": [
  {
   "cell_type": "markdown",
   "id": "586b87ac",
   "metadata": {},
   "source": [
    "## Importing the library"
   ]
  },
  {
   "cell_type": "code",
   "execution_count": 2,
   "id": "52fedda4",
   "metadata": {},
   "outputs": [],
   "source": [
    "import pandas as pd \n",
    "import numpy as np \n",
    "import requests\n",
    "from tqdm import tqdm \n",
    "from bs4 import BeautifulSoup \n",
    "from tqdm import tqdm\n",
    "import time \n",
    "\n",
    "from selenium import webdriver\n",
    "from webdriver_manager.chrome import ChromeDriverManager"
   ]
  },
  {
   "cell_type": "markdown",
   "id": "15f530d1",
   "metadata": {},
   "source": [
    "## Chrome Driver - Web Scraping"
   ]
  },
  {
   "cell_type": "code",
   "execution_count": 2,
   "id": "e528b4aa",
   "metadata": {},
   "outputs": [
    {
     "name": "stderr",
     "output_type": "stream",
     "text": [
      "/tmp/ipykernel_24038/243864188.py:1: DeprecationWarning: executable_path has been deprecated, please pass in a Service object\n",
      "  driver = webdriver.Chrome(ChromeDriverManager().install())\n"
     ]
    }
   ],
   "source": [
    "driver = webdriver.Chrome(ChromeDriverManager().install())\n",
    "link = 'https://www.imdb.com/chart/toptv/'\n",
    "driver.get(link)\n",
    "html = driver.page_source\n",
    "soup = BeautifulSoup(html,'html.parser')\n"
   ]
  },
  {
   "cell_type": "markdown",
   "id": "4ee9111f",
   "metadata": {},
   "source": [
    "## webscraping 250 shows | basic details "
   ]
  },
  {
   "cell_type": "code",
   "execution_count": 3,
   "id": "a8c2a9ec",
   "metadata": {},
   "outputs": [],
   "source": [
    "data = []\n",
    "\n",
    "for shows in soup.find('tbody',class_ ='lister-list').find_all('tr'):\n",
    "    tv_id    = shows.find('td',class_ = 'titleColumn').find('a').get('href').split('/')[-2]\n",
    "    tv_name  = shows.find('td',class_ = 'titleColumn').find('a').text.strip()\n",
    "    year     = int(shows.find('span',class_ = 'secondaryInfo').text.strip()[1:-1])\n",
    "    ratings  = float(shows.find('strong').text.strip())\n",
    "    data.append([tv_id,tv_name,year,ratings])\n",
    "    \n",
    "df = pd.DataFrame(data,columns = ['tv_id','tv_name','release_year','ratings'])\n",
    "df.to_csv('top_250_shows.csv',index = False)"
   ]
  },
  {
   "cell_type": "markdown",
   "id": "5b60babe",
   "metadata": {},
   "source": [
    "## Checking the code for any one web page series "
   ]
  },
  {
   "cell_type": "code",
   "execution_count": 4,
   "id": "dd91b822",
   "metadata": {},
   "outputs": [
    {
     "name": "stdout",
     "output_type": "stream",
     "text": [
      "https://www.imdb.com/calendar/?ref_=nv_mv_cal\n"
     ]
    }
   ],
   "source": [
    "for i in df['tv_id'][1:]:\n",
    "    link = 'https://www.imdb.com/title/'+i\n",
    "    driver.get(link)\n",
    "    sp = BeautifulSoup(driver.page_source,'html.parser')\n",
    "    print(sp.find_all('a')[1].get('href'))\n",
    "    \n",
    "    break"
   ]
  },
  {
   "cell_type": "markdown",
   "id": "a70a1fc3",
   "metadata": {},
   "source": [
    "## Webscraping entire 250 imdb top series"
   ]
  },
  {
   "cell_type": "code",
   "execution_count": 5,
   "id": "b8960e4b",
   "metadata": {},
   "outputs": [
    {
     "name": "stderr",
     "output_type": "stream",
     "text": [
      "100%|█████████████████████████████████████████| 250/250 [34:31<00:00,  8.29s/it]\n"
     ]
    }
   ],
   "source": [
    "data2 = []\n",
    "\n",
    "for i in tqdm(df['tv_id']):\n",
    "    \n",
    "    link = 'https://www.imdb.com/title/' + i\n",
    "    driver.get(link)\n",
    "    time.sleep(1)\n",
    "    \n",
    "    sp = BeautifulSoup(driver.page_source,'html.parser')\n",
    "    \n",
    "    ## scraping the number of episodes \n",
    "    try:\n",
    "        episodes = int(sp.find('div',class_ = 'sc-8862e651-2 JWTyb').find('div').find_all('span')[1].text)\n",
    "    except:\n",
    "        episode = np.nan \n",
    "        \n",
    "    ## scraping the series type\n",
    "    try:\n",
    "        series_type = sp.find('div',class_ ='sc-b5e8e7ce-2 AIESV').find_all('li')[0].text.strip()\n",
    "    except:\n",
    "        series_type = np.nan\n",
    "        \n",
    "    ## scraping the certificate \n",
    "    try:\n",
    "        certificate = (sp.find('div',class_ ='sc-b5e8e7ce-2 AIESV').find_all('li')[2].find('span').text)\n",
    "    except:\n",
    "        certificate = 'No Certification'\n",
    "        \n",
    "    ## scraping the duration \n",
    "    try:\n",
    "        duration    = sp.find('div',class_ ='sc-b5e8e7ce-2 AIESV').find_all('li')[3].text\n",
    "    except:\n",
    "        duration    = 'Not Available'\n",
    "        \n",
    "    ## scraping the cast id and cast name \n",
    "    try:\n",
    "        cast_id        = ','.join([cast.find('div',class_ = 'sc-bfec09a1-7 dpBDvu' ).find('a').get('href').split('/')[-2] for cast in sp.find('div',class_ ='ipc-sub-grid ipc-sub-grid--page-span-2 ipc-sub-grid--wraps-at-above-l ipc-shoveler__grid').find_all('div',class_ = 'sc-bfec09a1-5 kUzsHJ')])\n",
    "    except:\n",
    "        cast_id = np.nan\n",
    "    try:\n",
    "        cast_name      = ','.join([cast.find('div',class_ = 'sc-bfec09a1-7 dpBDvu' ).find('a').text for cast in sp.find('div',class_ ='ipc-sub-grid ipc-sub-grid--page-span-2 ipc-sub-grid--wraps-at-above-l ipc-shoveler__grid').find_all('div',class_ = 'sc-bfec09a1-5 kUzsHJ')])\n",
    "    except:\n",
    "        cast_name = np.nan\n",
    "        \n",
    "    ## scraping the tagline\n",
    "    try:\n",
    "        tagline = sp.find('ul',class_ = 'ipc-metadata-list ipc-metadata-list--dividers-all sc-fba22acc-1 biEmms ipc-metadata-list--base').find_all('li')[0].find('label').text.strip()\n",
    "    except:\n",
    "        tagline = 'No Taglines'\n",
    "        \n",
    "    ## scraping the genre\n",
    "    try:\n",
    "        genre = ','.join([i.text for i in sp.find('div',class_ = 'ipc-chip-list__scroller').find_all('a')])\n",
    "    except:\n",
    "        genre = np.nan\n",
    "        \n",
    "    \n",
    "    data2.append([series_type,episodes,certificate,duration,cast_id,cast_name,tagline,genre])\n",
    "    \n",
    "ls = ['series_type','episodes','certificate','duration','cast_id','cast_name','tagline','genre']\n",
    "for i in range(len(ls)):\n",
    "    df[ls[i]] = np.array(data2)[:,i]    "
   ]
  },
  {
   "cell_type": "markdown",
   "id": "3ee86fe6",
   "metadata": {},
   "source": [
    "## Saving the top 250 shows dataset "
   ]
  },
  {
   "cell_type": "code",
   "execution_count": 6,
   "id": "cbf415ed",
   "metadata": {},
   "outputs": [],
   "source": [
    "df.to_csv('top_250_shows.csv',index = False)"
   ]
  },
  {
   "cell_type": "code",
   "execution_count": 7,
   "id": "e35448f5",
   "metadata": {},
   "outputs": [
    {
     "data": {
      "text/html": [
       "<div>\n",
       "<style scoped>\n",
       "    .dataframe tbody tr th:only-of-type {\n",
       "        vertical-align: middle;\n",
       "    }\n",
       "\n",
       "    .dataframe tbody tr th {\n",
       "        vertical-align: top;\n",
       "    }\n",
       "\n",
       "    .dataframe thead th {\n",
       "        text-align: right;\n",
       "    }\n",
       "</style>\n",
       "<table border=\"1\" class=\"dataframe\">\n",
       "  <thead>\n",
       "    <tr style=\"text-align: right;\">\n",
       "      <th></th>\n",
       "      <th>tv_id</th>\n",
       "      <th>tv_name</th>\n",
       "      <th>release_year</th>\n",
       "      <th>ratings</th>\n",
       "      <th>series_type</th>\n",
       "      <th>episodes</th>\n",
       "      <th>certificate</th>\n",
       "      <th>duration</th>\n",
       "      <th>cast_id</th>\n",
       "      <th>cast_name</th>\n",
       "      <th>tagline</th>\n",
       "      <th>genre</th>\n",
       "    </tr>\n",
       "  </thead>\n",
       "  <tbody>\n",
       "    <tr>\n",
       "      <th>0</th>\n",
       "      <td>tt5491994</td>\n",
       "      <td>Planet Earth II</td>\n",
       "      <td>2016</td>\n",
       "      <td>9.4</td>\n",
       "      <td>TV Mini Series</td>\n",
       "      <td>6</td>\n",
       "      <td>U</td>\n",
       "      <td>4h 58m</td>\n",
       "      <td>nm0041003,nm0118096,nm1769336,nm4830788,nm2357...</td>\n",
       "      <td>David Attenborough,Gordon Buchanan,Chadden Hun...</td>\n",
       "      <td>A new world revealed</td>\n",
       "      <td>Documentary</td>\n",
       "    </tr>\n",
       "    <tr>\n",
       "      <th>1</th>\n",
       "      <td>tt0903747</td>\n",
       "      <td>Breaking Bad</td>\n",
       "      <td>2008</td>\n",
       "      <td>9.4</td>\n",
       "      <td>TV Series</td>\n",
       "      <td>62</td>\n",
       "      <td>15</td>\n",
       "      <td>49m</td>\n",
       "      <td>nm0186505,nm0666739,nm0348152,nm1336827,nm2666...</td>\n",
       "      <td>Bryan Cranston,Aaron Paul,Anna Gunn,Betsy Bran...</td>\n",
       "      <td>In the no-holds-barred world of Walt White, th...</td>\n",
       "      <td>Crime,Drama,Thriller</td>\n",
       "    </tr>\n",
       "    <tr>\n",
       "      <th>2</th>\n",
       "      <td>tt0795176</td>\n",
       "      <td>Planet Earth</td>\n",
       "      <td>2006</td>\n",
       "      <td>9.4</td>\n",
       "      <td>TV Mini Series</td>\n",
       "      <td>11</td>\n",
       "      <td>PG</td>\n",
       "      <td>8h 58m</td>\n",
       "      <td>nm0000244,nm0041003,nm0238419,nm8603319,nm2898...</td>\n",
       "      <td>Sigourney Weaver,David Attenborough,Nikolay Dr...</td>\n",
       "      <td>Prepare to see it as never before.</td>\n",
       "      <td>Documentary</td>\n",
       "    </tr>\n",
       "    <tr>\n",
       "      <th>3</th>\n",
       "      <td>tt0185906</td>\n",
       "      <td>Band of Brothers</td>\n",
       "      <td>2001</td>\n",
       "      <td>9.4</td>\n",
       "      <td>TV Mini Series</td>\n",
       "      <td>10</td>\n",
       "      <td>15</td>\n",
       "      <td>9h 54m</td>\n",
       "      <td>nm0342241,nm0507073,nm0515296,nm0853169,nm0005...</td>\n",
       "      <td>Scott Grimes,Damian Lewis,Ron Livingston,Shane...</td>\n",
       "      <td>They depended on each other. And the world dep...</td>\n",
       "      <td>Drama,History,War</td>\n",
       "    </tr>\n",
       "    <tr>\n",
       "      <th>4</th>\n",
       "      <td>tt7366338</td>\n",
       "      <td>Chernobyl</td>\n",
       "      <td>2019</td>\n",
       "      <td>9.3</td>\n",
       "      <td>TV Mini Series</td>\n",
       "      <td>5</td>\n",
       "      <td>15</td>\n",
       "      <td>5h 30m</td>\n",
       "      <td>nm2976580,nm0364813,nm0001745,nm1835523,nm0001...</td>\n",
       "      <td>Jessie Buckley,Jared Harris,Stellan Skarsgård,...</td>\n",
       "      <td>What is the cost of lies?</td>\n",
       "      <td>Drama,History,Thriller</td>\n",
       "    </tr>\n",
       "  </tbody>\n",
       "</table>\n",
       "</div>"
      ],
      "text/plain": [
       "       tv_id           tv_name  release_year  ratings     series_type  \\\n",
       "0  tt5491994   Planet Earth II          2016      9.4  TV Mini Series   \n",
       "1  tt0903747      Breaking Bad          2008      9.4       TV Series   \n",
       "2  tt0795176      Planet Earth          2006      9.4  TV Mini Series   \n",
       "3  tt0185906  Band of Brothers          2001      9.4  TV Mini Series   \n",
       "4  tt7366338         Chernobyl          2019      9.3  TV Mini Series   \n",
       "\n",
       "  episodes certificate duration  \\\n",
       "0        6           U   4h 58m   \n",
       "1       62          15      49m   \n",
       "2       11          PG   8h 58m   \n",
       "3       10          15   9h 54m   \n",
       "4        5          15   5h 30m   \n",
       "\n",
       "                                             cast_id  \\\n",
       "0  nm0041003,nm0118096,nm1769336,nm4830788,nm2357...   \n",
       "1  nm0186505,nm0666739,nm0348152,nm1336827,nm2666...   \n",
       "2  nm0000244,nm0041003,nm0238419,nm8603319,nm2898...   \n",
       "3  nm0342241,nm0507073,nm0515296,nm0853169,nm0005...   \n",
       "4  nm2976580,nm0364813,nm0001745,nm1835523,nm0001...   \n",
       "\n",
       "                                           cast_name  \\\n",
       "0  David Attenborough,Gordon Buchanan,Chadden Hun...   \n",
       "1  Bryan Cranston,Aaron Paul,Anna Gunn,Betsy Bran...   \n",
       "2  Sigourney Weaver,David Attenborough,Nikolay Dr...   \n",
       "3  Scott Grimes,Damian Lewis,Ron Livingston,Shane...   \n",
       "4  Jessie Buckley,Jared Harris,Stellan Skarsgård,...   \n",
       "\n",
       "                                             tagline                   genre  \n",
       "0                               A new world revealed             Documentary  \n",
       "1  In the no-holds-barred world of Walt White, th...    Crime,Drama,Thriller  \n",
       "2                 Prepare to see it as never before.             Documentary  \n",
       "3  They depended on each other. And the world dep...       Drama,History,War  \n",
       "4                          What is the cost of lies?  Drama,History,Thriller  "
      ]
     },
     "execution_count": 7,
     "metadata": {},
     "output_type": "execute_result"
    }
   ],
   "source": [
    "df.head()"
   ]
  },
  {
   "cell_type": "markdown",
   "id": "c2ba9041",
   "metadata": {},
   "source": [
    "## Preprocessing the top 250 shows "
   ]
  },
  {
   "cell_type": "code",
   "execution_count": 3,
   "id": "db2930de",
   "metadata": {},
   "outputs": [
    {
     "name": "stdout",
     "output_type": "stream",
     "text": [
      "<class 'pandas.core.frame.DataFrame'>\n",
      "RangeIndex: 250 entries, 0 to 249\n",
      "Data columns (total 12 columns):\n",
      " #   Column        Non-Null Count  Dtype  \n",
      "---  ------        --------------  -----  \n",
      " 0   tv_id         250 non-null    object \n",
      " 1   tv_name       250 non-null    object \n",
      " 2   release_year  250 non-null    int64  \n",
      " 3   ratings       250 non-null    float64\n",
      " 4   series_type   250 non-null    object \n",
      " 5   episodes      250 non-null    int64  \n",
      " 6   certificate   250 non-null    object \n",
      " 7   duration      250 non-null    object \n",
      " 8   cast_id       250 non-null    object \n",
      " 9   cast_name     250 non-null    object \n",
      " 10  tagline       250 non-null    object \n",
      " 11  genre         250 non-null    object \n",
      "dtypes: float64(1), int64(2), object(9)\n",
      "memory usage: 23.6+ KB\n"
     ]
    }
   ],
   "source": [
    "df = pd.read_csv('top_250_shows.csv')\n",
    "df.info()"
   ]
  },
  {
   "cell_type": "code",
   "execution_count": 4,
   "id": "a9259ffb",
   "metadata": {},
   "outputs": [
    {
     "data": {
      "text/html": [
       "<div>\n",
       "<style scoped>\n",
       "    .dataframe tbody tr th:only-of-type {\n",
       "        vertical-align: middle;\n",
       "    }\n",
       "\n",
       "    .dataframe tbody tr th {\n",
       "        vertical-align: top;\n",
       "    }\n",
       "\n",
       "    .dataframe thead th {\n",
       "        text-align: right;\n",
       "    }\n",
       "</style>\n",
       "<table border=\"1\" class=\"dataframe\">\n",
       "  <thead>\n",
       "    <tr style=\"text-align: right;\">\n",
       "      <th></th>\n",
       "      <th>release_year</th>\n",
       "      <th>ratings</th>\n",
       "      <th>episodes</th>\n",
       "    </tr>\n",
       "  </thead>\n",
       "  <tbody>\n",
       "    <tr>\n",
       "      <th>count</th>\n",
       "      <td>250.000000</td>\n",
       "      <td>250.000000</td>\n",
       "      <td>250.000000</td>\n",
       "    </tr>\n",
       "    <tr>\n",
       "      <th>mean</th>\n",
       "      <td>2006.928000</td>\n",
       "      <td>8.653200</td>\n",
       "      <td>68.736000</td>\n",
       "    </tr>\n",
       "    <tr>\n",
       "      <th>std</th>\n",
       "      <td>12.512597</td>\n",
       "      <td>0.220099</td>\n",
       "      <td>92.832417</td>\n",
       "    </tr>\n",
       "    <tr>\n",
       "      <th>min</th>\n",
       "      <td>1955.000000</td>\n",
       "      <td>8.400000</td>\n",
       "      <td>2.000000</td>\n",
       "    </tr>\n",
       "    <tr>\n",
       "      <th>25%</th>\n",
       "      <td>2001.000000</td>\n",
       "      <td>8.500000</td>\n",
       "      <td>14.000000</td>\n",
       "    </tr>\n",
       "    <tr>\n",
       "      <th>50%</th>\n",
       "      <td>2010.000000</td>\n",
       "      <td>8.600000</td>\n",
       "      <td>34.500000</td>\n",
       "    </tr>\n",
       "    <tr>\n",
       "      <th>75%</th>\n",
       "      <td>2016.000000</td>\n",
       "      <td>8.800000</td>\n",
       "      <td>78.000000</td>\n",
       "    </tr>\n",
       "    <tr>\n",
       "      <th>max</th>\n",
       "      <td>2023.000000</td>\n",
       "      <td>9.400000</td>\n",
       "      <td>744.000000</td>\n",
       "    </tr>\n",
       "  </tbody>\n",
       "</table>\n",
       "</div>"
      ],
      "text/plain": [
       "       release_year     ratings    episodes\n",
       "count    250.000000  250.000000  250.000000\n",
       "mean    2006.928000    8.653200   68.736000\n",
       "std       12.512597    0.220099   92.832417\n",
       "min     1955.000000    8.400000    2.000000\n",
       "25%     2001.000000    8.500000   14.000000\n",
       "50%     2010.000000    8.600000   34.500000\n",
       "75%     2016.000000    8.800000   78.000000\n",
       "max     2023.000000    9.400000  744.000000"
      ]
     },
     "execution_count": 4,
     "metadata": {},
     "output_type": "execute_result"
    }
   ],
   "source": [
    "df.describe()"
   ]
  },
  {
   "cell_type": "code",
   "execution_count": 5,
   "id": "c96d09c9",
   "metadata": {},
   "outputs": [
    {
     "data": {
      "text/plain": [
       "tv_id           0\n",
       "tv_name         0\n",
       "release_year    0\n",
       "ratings         0\n",
       "series_type     0\n",
       "episodes        0\n",
       "certificate     0\n",
       "duration        0\n",
       "cast_id         0\n",
       "cast_name       0\n",
       "tagline         0\n",
       "genre           0\n",
       "dtype: int64"
      ]
     },
     "execution_count": 5,
     "metadata": {},
     "output_type": "execute_result"
    }
   ],
   "source": [
    "df.isnull().sum()"
   ]
  },
  {
   "cell_type": "markdown",
   "id": "e8ba7c13",
   "metadata": {},
   "source": [
    "## Pre-processing the duration columns"
   ]
  },
  {
   "cell_type": "code",
   "execution_count": 44,
   "id": "26302f29",
   "metadata": {},
   "outputs": [],
   "source": [
    "duration = []\n",
    "for i in df['duration']:\n",
    "    if 'm' in (i.split(' ')[0]):\n",
    "        duration.append(i.split(' ')[0][:-1])\n",
    "    elif 'h' in i.split(' ')[0] and len(i.split(' ')) == 2 :\n",
    "        duration.append(int(i.split(' ')[0][:-1]) * 60 + int(i.split(' ')[1][:-1]))\n",
    "    elif 'h' in i.split(' ')[0] and len(i.split(' ')) == 1:\n",
    "        duration.append(int(i.split(' ')[0][:-1])*60)\n",
    "    else:\n",
    "        duration.append(i)\n",
    "        \n",
    "df['duration'] = duration"
   ]
  },
  {
   "cell_type": "markdown",
   "id": "c4e5d7f3",
   "metadata": {},
   "source": [
    "## Final Save "
   ]
  },
  {
   "cell_type": "code",
   "execution_count": 46,
   "id": "2044948d",
   "metadata": {},
   "outputs": [],
   "source": [
    "df.to_csv('top_250_shows.csv',index = False )"
   ]
  },
  {
   "cell_type": "code",
   "execution_count": 48,
   "id": "10c479f6",
   "metadata": {},
   "outputs": [
    {
     "data": {
      "text/html": [
       "<div>\n",
       "<style scoped>\n",
       "    .dataframe tbody tr th:only-of-type {\n",
       "        vertical-align: middle;\n",
       "    }\n",
       "\n",
       "    .dataframe tbody tr th {\n",
       "        vertical-align: top;\n",
       "    }\n",
       "\n",
       "    .dataframe thead th {\n",
       "        text-align: right;\n",
       "    }\n",
       "</style>\n",
       "<table border=\"1\" class=\"dataframe\">\n",
       "  <thead>\n",
       "    <tr style=\"text-align: right;\">\n",
       "      <th></th>\n",
       "      <th>tv_id</th>\n",
       "      <th>tv_name</th>\n",
       "      <th>release_year</th>\n",
       "      <th>ratings</th>\n",
       "      <th>series_type</th>\n",
       "      <th>episodes</th>\n",
       "      <th>certificate</th>\n",
       "      <th>duration</th>\n",
       "      <th>cast_id</th>\n",
       "      <th>cast_name</th>\n",
       "      <th>tagline</th>\n",
       "      <th>genre</th>\n",
       "    </tr>\n",
       "  </thead>\n",
       "  <tbody>\n",
       "    <tr>\n",
       "      <th>0</th>\n",
       "      <td>tt5491994</td>\n",
       "      <td>Planet Earth II</td>\n",
       "      <td>2016</td>\n",
       "      <td>9.4</td>\n",
       "      <td>TV Mini Series</td>\n",
       "      <td>6</td>\n",
       "      <td>U</td>\n",
       "      <td>298</td>\n",
       "      <td>nm0041003,nm0118096,nm1769336,nm4830788,nm2357...</td>\n",
       "      <td>David Attenborough,Gordon Buchanan,Chadden Hun...</td>\n",
       "      <td>A new world revealed</td>\n",
       "      <td>Documentary</td>\n",
       "    </tr>\n",
       "    <tr>\n",
       "      <th>1</th>\n",
       "      <td>tt0903747</td>\n",
       "      <td>Breaking Bad</td>\n",
       "      <td>2008</td>\n",
       "      <td>9.4</td>\n",
       "      <td>TV Series</td>\n",
       "      <td>62</td>\n",
       "      <td>15</td>\n",
       "      <td>49</td>\n",
       "      <td>nm0186505,nm0666739,nm0348152,nm1336827,nm2666...</td>\n",
       "      <td>Bryan Cranston,Aaron Paul,Anna Gunn,Betsy Bran...</td>\n",
       "      <td>In the no-holds-barred world of Walt White, th...</td>\n",
       "      <td>Crime,Drama,Thriller</td>\n",
       "    </tr>\n",
       "    <tr>\n",
       "      <th>2</th>\n",
       "      <td>tt0795176</td>\n",
       "      <td>Planet Earth</td>\n",
       "      <td>2006</td>\n",
       "      <td>9.4</td>\n",
       "      <td>TV Mini Series</td>\n",
       "      <td>11</td>\n",
       "      <td>PG</td>\n",
       "      <td>538</td>\n",
       "      <td>nm0000244,nm0041003,nm0238419,nm8603319,nm2898...</td>\n",
       "      <td>Sigourney Weaver,David Attenborough,Nikolay Dr...</td>\n",
       "      <td>Prepare to see it as never before.</td>\n",
       "      <td>Documentary</td>\n",
       "    </tr>\n",
       "    <tr>\n",
       "      <th>3</th>\n",
       "      <td>tt0185906</td>\n",
       "      <td>Band of Brothers</td>\n",
       "      <td>2001</td>\n",
       "      <td>9.4</td>\n",
       "      <td>TV Mini Series</td>\n",
       "      <td>10</td>\n",
       "      <td>15</td>\n",
       "      <td>594</td>\n",
       "      <td>nm0342241,nm0507073,nm0515296,nm0853169,nm0005...</td>\n",
       "      <td>Scott Grimes,Damian Lewis,Ron Livingston,Shane...</td>\n",
       "      <td>They depended on each other. And the world dep...</td>\n",
       "      <td>Drama,History,War</td>\n",
       "    </tr>\n",
       "    <tr>\n",
       "      <th>4</th>\n",
       "      <td>tt7366338</td>\n",
       "      <td>Chernobyl</td>\n",
       "      <td>2019</td>\n",
       "      <td>9.3</td>\n",
       "      <td>TV Mini Series</td>\n",
       "      <td>5</td>\n",
       "      <td>15</td>\n",
       "      <td>330</td>\n",
       "      <td>nm2976580,nm0364813,nm0001745,nm1835523,nm0001...</td>\n",
       "      <td>Jessie Buckley,Jared Harris,Stellan Skarsgård,...</td>\n",
       "      <td>What is the cost of lies?</td>\n",
       "      <td>Drama,History,Thriller</td>\n",
       "    </tr>\n",
       "  </tbody>\n",
       "</table>\n",
       "</div>"
      ],
      "text/plain": [
       "       tv_id           tv_name  release_year  ratings     series_type  \\\n",
       "0  tt5491994   Planet Earth II          2016      9.4  TV Mini Series   \n",
       "1  tt0903747      Breaking Bad          2008      9.4       TV Series   \n",
       "2  tt0795176      Planet Earth          2006      9.4  TV Mini Series   \n",
       "3  tt0185906  Band of Brothers          2001      9.4  TV Mini Series   \n",
       "4  tt7366338         Chernobyl          2019      9.3  TV Mini Series   \n",
       "\n",
       "   episodes certificate duration  \\\n",
       "0         6           U      298   \n",
       "1        62          15       49   \n",
       "2        11          PG      538   \n",
       "3        10          15      594   \n",
       "4         5          15      330   \n",
       "\n",
       "                                             cast_id  \\\n",
       "0  nm0041003,nm0118096,nm1769336,nm4830788,nm2357...   \n",
       "1  nm0186505,nm0666739,nm0348152,nm1336827,nm2666...   \n",
       "2  nm0000244,nm0041003,nm0238419,nm8603319,nm2898...   \n",
       "3  nm0342241,nm0507073,nm0515296,nm0853169,nm0005...   \n",
       "4  nm2976580,nm0364813,nm0001745,nm1835523,nm0001...   \n",
       "\n",
       "                                           cast_name  \\\n",
       "0  David Attenborough,Gordon Buchanan,Chadden Hun...   \n",
       "1  Bryan Cranston,Aaron Paul,Anna Gunn,Betsy Bran...   \n",
       "2  Sigourney Weaver,David Attenborough,Nikolay Dr...   \n",
       "3  Scott Grimes,Damian Lewis,Ron Livingston,Shane...   \n",
       "4  Jessie Buckley,Jared Harris,Stellan Skarsgård,...   \n",
       "\n",
       "                                             tagline                   genre  \n",
       "0                               A new world revealed             Documentary  \n",
       "1  In the no-holds-barred world of Walt White, th...    Crime,Drama,Thriller  \n",
       "2                 Prepare to see it as never before.             Documentary  \n",
       "3  They depended on each other. And the world dep...       Drama,History,War  \n",
       "4                          What is the cost of lies?  Drama,History,Thriller  "
      ]
     },
     "execution_count": 48,
     "metadata": {},
     "output_type": "execute_result"
    }
   ],
   "source": [
    "df.head()"
   ]
  }
 ],
 "metadata": {
  "kernelspec": {
   "display_name": "Python 3 (ipykernel)",
   "language": "python",
   "name": "python3"
  },
  "language_info": {
   "codemirror_mode": {
    "name": "ipython",
    "version": 3
   },
   "file_extension": ".py",
   "mimetype": "text/x-python",
   "name": "python",
   "nbconvert_exporter": "python",
   "pygments_lexer": "ipython3",
   "version": "3.10.6"
  }
 },
 "nbformat": 4,
 "nbformat_minor": 5
}

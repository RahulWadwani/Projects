{
 "cells": [
  {
   "cell_type": "code",
   "execution_count": 2,
   "id": "32263496",
   "metadata": {},
   "outputs": [],
   "source": [
    "from json import dumps"
   ]
  },
  {
   "cell_type": "markdown",
   "id": "6daf7275",
   "metadata": {},
   "source": [
    "# 1. Creating dictionary"
   ]
  },
  {
   "cell_type": "code",
   "execution_count": 37,
   "id": "7b8db45d",
   "metadata": {},
   "outputs": [],
   "source": [
    "# creating a list of dictionary of products \n",
    "dct = { # product_id and product values\n",
    "          1312:{'product_name':'Boult Earbuds',\n",
    "                'product_category':'Electronics',\n",
    "                'price':'499',\n",
    "                'total':'50'\n",
    "               },\n",
    "          1322:{'product_name':'Acer Laptop',\n",
    "                'product_category':'Electronics devices',\n",
    "                'price':'14999',\n",
    "                'total':'10'\n",
    "               },\n",
    "          1332:{'product_name':'Nike Shoes',\n",
    "                'product_category':'Shoes',\n",
    "                'price':'1499',\n",
    "                'total':'15'\n",
    "               },\n",
    "          1342:{'product_name':'Gucci T-shirt',\n",
    "                'product_category':'Clothing',\n",
    "                'price':'899',\n",
    "                'total':'25'\n",
    "               },\n",
    "          1352:{'product_name':'Apple Watch',\n",
    "                'product_category':'Wearables',\n",
    "                'price':'25499',\n",
    "                'total':'10'\n",
    "               }\n",
    "}"
   ]
  },
  {
   "cell_type": "markdown",
   "id": "a80867a6",
   "metadata": {},
   "source": [
    "# 2. Adding and loading the dataset into the json file "
   ]
  },
  {
   "cell_type": "code",
   "execution_count": 91,
   "id": "a968cc68",
   "metadata": {},
   "outputs": [
    {
     "name": "stdout",
     "output_type": "stream",
     "text": [
      "Enter the product key: 1333\n",
      "Enter product name: Intex powerbank \n",
      "Enter product category :mobile and accessory \n",
      "Enter the price: 5000\n",
      "Enter the total Quantity available:35\n"
     ]
    }
   ],
   "source": [
    "def add_item(prod_key):\n",
    "    if prod_key in dct.keys():\n",
    "        print('Product already exits in the Inventory ')\n",
    "    else:\n",
    "        prod_name                 = str(input(\"Enter product name: \"))\n",
    "        prod_category             = str(input(\"Enter product category :\"))\n",
    "        price                     = str(input(\"Enter the price: \"))\n",
    "        total                     = str(input('Enter the total Quantity available:'))\n",
    "        prod                      = {}\n",
    "        prod['product_name']      = prod_name.capitalize()\n",
    "        prod['product_category']  = prod_category\n",
    "        prod['price']             = price\n",
    "        prod['total']             = total \n",
    "        dct[prod_key]             = prod   \n",
    "        \n",
    "# adding the new data \n",
    "prod_key      = int(input(\"Enter the product key: \"))\n",
    "add_item(prod_key)\n",
    "\n",
    "# dumping the data into json file (no sql dataset)\n",
    "fd = open('Inventory_data.json','w')\n",
    "fd.write(dumps(dct))\n",
    "fd.close()"
   ]
  },
  {
   "cell_type": "code",
   "execution_count": 92,
   "id": "be20cffa",
   "metadata": {},
   "outputs": [
    {
     "data": {
      "text/plain": [
       "{1312: {'product_name': 'Boult Earbuds',\n",
       "  'product_category': 'Electronics',\n",
       "  'price': '499',\n",
       "  'total': '50'},\n",
       " 1322: {'product_name': 'Acer Laptop',\n",
       "  'product_category': 'Electronics devices',\n",
       "  'price': '14999',\n",
       "  'total': '0'},\n",
       " 1332: {'product_name': 'Nike Shoes',\n",
       "  'product_category': 'Shoes',\n",
       "  'price': '1499',\n",
       "  'total': '15'},\n",
       " 1342: {'product_name': 'Gucci T-shirt',\n",
       "  'product_category': 'Clothing',\n",
       "  'price': '899',\n",
       "  'total': '25'},\n",
       " 1352: {'product_name': 'Apple Watch',\n",
       "  'product_category': 'Wearables',\n",
       "  'price': '25499',\n",
       "  'total': '10'},\n",
       " 1324: {'product_name': 'Dell mouse',\n",
       "  'product_category': 'computer and peripherals ',\n",
       "  'price': '500',\n",
       "  'total': '20'},\n",
       " 1333: {'product_name': 'Intex powerbank ',\n",
       "  'product_category': 'mobile and accessory ',\n",
       "  'price': '5000',\n",
       "  'total': '35'}}"
      ]
     },
     "execution_count": 92,
     "metadata": {},
     "output_type": "execute_result"
    }
   ],
   "source": [
    "dct"
   ]
  },
  {
   "cell_type": "markdown",
   "id": "6f3de1fe",
   "metadata": {},
   "source": [
    "# 3. Removing a product from the dictionary - using the Product Key as input "
   ]
  },
  {
   "cell_type": "code",
   "execution_count": 93,
   "id": "fb2eec65",
   "metadata": {},
   "outputs": [
    {
     "name": "stdout",
     "output_type": "stream",
     "text": [
      "Enter the product id to be removed :1333\n"
     ]
    },
    {
     "data": {
      "text/plain": [
       "{'product_name': 'Intex powerbank ',\n",
       " 'product_category': 'mobile and accessory ',\n",
       " 'price': '5000',\n",
       " 'total': '35'}"
      ]
     },
     "execution_count": 93,
     "metadata": {},
     "output_type": "execute_result"
    }
   ],
   "source": [
    "def rem_item(prod):\n",
    "    for i in dct.copy(): # shallow copying \n",
    "        if i == prod:\n",
    "            return dct.pop(prod)\n",
    "        elif prod not in dct:\n",
    "            return 'No Such item is present'\n",
    "\n",
    "# removing the product keys from the dictionary \n",
    "prod = int(input('Enter the product id to be removed :'))\n",
    "rem_item(prod)"
   ]
  },
  {
   "cell_type": "markdown",
   "id": "4fd74726",
   "metadata": {},
   "source": [
    "# 4 ) Searching the product and deducing the product"
   ]
  },
  {
   "cell_type": "code",
   "execution_count": 108,
   "id": "0cdca704",
   "metadata": {},
   "outputs": [
    {
     "name": "stdout",
     "output_type": "stream",
     "text": [
      "Enter the product name : boult earbuds\n",
      "Enter the quantity : 2\n",
      "--------------------------------------------------\n",
      "Product Name                   :  Boult Earbuds\n",
      "Category                       :  Electronics\n",
      "Quantity                       :  2\n",
      "Price                          :  Rs. 998\n",
      "--------------------------------------------------\n",
      "Do you want to purchase the product : y\n"
     ]
    }
   ],
   "source": [
    "cart = []\n",
    "product = input('Enter the product name : ').strip()\n",
    "quantity = int(input('Enter the quantity : '))\n",
    "print('-'*50)\n",
    "for i in dct:\n",
    "    if (product.lower() == (dct[i]['product_name']).lower()) and (quantity != 0):\n",
    "        total = (int(dct[i]['price'])*quantity)\n",
    "        print('Product Name                   : ',dct[i]['product_name'])\n",
    "        print('Category                       : ',dct[i]['product_category'])\n",
    "        print('Quantity                       : ',quantity)\n",
    "        print('Price                          :  Rs.',total)\n",
    "        print('-'*50)\n",
    "user = input('Do you want to purchase the product : ')\n",
    "if user == 'yes'or'y':\n",
    "    for i in dct:\n",
    "        if (product.lower() == dct[i]['product_name'].lower()):\n",
    "            cart.append(dct[i]['product_name'])\n",
    "            cart.append(dct[i]['product_category'])\n",
    "            cart.append(quantity)\n",
    "            cart.append(total)\n",
    "            \n",
    "# deducing the product             \n",
    "for i in dct:\n",
    "    if cart[0] == dct[i]['product_name']:\n",
    "        if (int(dct[i]['total']) > 0):\n",
    "            dct[i]['total'] = str(int(dct[i]['total'])-quantity)\n",
    "    "
   ]
  },
  {
   "cell_type": "markdown",
   "id": "2407b8e5",
   "metadata": {},
   "source": [
    "# 5. Creating alerts "
   ]
  },
  {
   "cell_type": "code",
   "execution_count": 103,
   "id": "733ea3da",
   "metadata": {},
   "outputs": [],
   "source": [
    "def alert(dct):\n",
    "    for i in dct:\n",
    "        if (int(dct[i]['total']) == 0):\n",
    "            return 'No more stocks of {} is left '.format(dct[i]['product_name'])\n",
    "        if (int(dct[i]['total']) < 5):\n",
    "            return ('ALERT!! Low on stocks ---->{}'.format(dct[i]['product_name']))\n",
    "        \n",
    "            \n",
    "    "
   ]
  },
  {
   "cell_type": "markdown",
   "id": "9a8558ee",
   "metadata": {},
   "source": [
    "# 5.Generating the bill"
   ]
  },
  {
   "cell_type": "code",
   "execution_count": 109,
   "id": "9990a2fa",
   "metadata": {},
   "outputs": [
    {
     "name": "stdout",
     "output_type": "stream",
     "text": [
      "Enter your Name                 : Shilpa \n",
      "Enter your home/office address  :  Mayawati palace, airoli , 400708\n"
     ]
    }
   ],
   "source": [
    "purchaser_name = str(input('Enter your Name                 : '))\n",
    "Address        = str(input('Enter your home/office address  : '))\n"
   ]
  },
  {
   "cell_type": "code",
   "execution_count": 110,
   "id": "ad2df56f",
   "metadata": {},
   "outputs": [],
   "source": [
    "def generate_bill(cart):\n",
    "    print('-'*25+' Bill '+'-'*25)\n",
    "\n",
    "    print('Name of the Product Purchased : ',cart[0])\n",
    "    print('Sub-Category of the product   : ',cart[1])\n",
    "    print('Quantity                      : ',cart[2])\n",
    "    print('Grand total                   : ',cart[3])\n",
    "    print('-'*56)\n",
    "\n",
    "    print('DETAILS')\n",
    "    print('Name of the Purchaser and address : ' ,purchaser_name.capitalize()+ '| ' + Address.title())\n",
    "\n",
    "    \n",
    "    "
   ]
  },
  {
   "cell_type": "code",
   "execution_count": 111,
   "id": "ed883384",
   "metadata": {},
   "outputs": [
    {
     "name": "stdout",
     "output_type": "stream",
     "text": [
      "------------------------- Bill -------------------------\n",
      "Name of the Product Purchased :  Boult Earbuds\n",
      "Sub-Category of the product   :  Electronics\n",
      "Quantity                      :  2\n",
      "Grand total                   :  998\n",
      "--------------------------------------------------------\n",
      "DETAILS\n",
      "Name of the Purchaser and address :  Shilpa |  Mayawati Palace, Airoli , 400708\n"
     ]
    }
   ],
   "source": [
    "text = generate_bill(cart)\n"
   ]
  },
  {
   "cell_type": "markdown",
   "id": "5f464f4c",
   "metadata": {},
   "source": [
    "# 6. Saving every bill in csv file"
   ]
  },
  {
   "cell_type": "code",
   "execution_count": 112,
   "id": "e6d7a262",
   "metadata": {},
   "outputs": [],
   "source": [
    "data = str(cart[0])+',' +str(cart[1])+ ',' + str(cart[2]) + ',' + str(cart[3])\n",
    "fd = open('bill.csv','a')\n",
    "fd.write(data)\n",
    "fd.write('\\n')\n",
    "fd.close()\n"
   ]
  },
  {
   "cell_type": "code",
   "execution_count": 113,
   "id": "6bd21496",
   "metadata": {},
   "outputs": [
    {
     "name": "stdout",
     "output_type": "stream",
     "text": [
      "Dell mouse,computer and peripherals ,1,500\n",
      "Boult Earbuds,Electronics,2,998\n",
      "\n"
     ]
    }
   ],
   "source": [
    "fd = open('bill.csv','r')\n",
    "text = fd.read()\n",
    "fd.close()\n",
    "print(text)"
   ]
  }
 ],
 "metadata": {
  "kernelspec": {
   "display_name": "Python 3 (ipykernel)",
   "language": "python",
   "name": "python3"
  },
  "language_info": {
   "codemirror_mode": {
    "name": "ipython",
    "version": 3
   },
   "file_extension": ".py",
   "mimetype": "text/x-python",
   "name": "python",
   "nbconvert_exporter": "python",
   "pygments_lexer": "ipython3",
   "version": "3.9.6"
  }
 },
 "nbformat": 4,
 "nbformat_minor": 5
}

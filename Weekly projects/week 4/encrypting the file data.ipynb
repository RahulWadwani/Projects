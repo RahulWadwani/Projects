{
 "cells": [
  {
   "cell_type": "code",
   "execution_count": 14,
   "id": "b3889bda",
   "metadata": {},
   "outputs": [
    {
     "name": "stdout",
     "output_type": "stream",
     "text": [
      "Enter your secret message : keep up the Good Work \n",
      "output text :  #nurZ#grrJ#hkw#sx#shhn\n",
      "\n"
     ]
    }
   ],
   "source": [
    "msg = str(input('Enter your secret message : '))\n",
    "en_msg = ''\n",
    "for i in msg[::-1]:\n",
    "    en_msg += chr(ord(i)+3) \n",
    "    \n",
    "fd = open('confidential.txt','a')\n",
    "fd.write(en_msg)\n",
    "fd.write('\\n')\n",
    "fd.close()\n",
    "\n",
    "fd = open('confidential.txt','r')\n",
    "text = fd.read()\n",
    "fd.close()\n",
    "print('output text : ',text)\n"
   ]
  }
 ],
 "metadata": {
  "kernelspec": {
   "display_name": "Python 3 (ipykernel)",
   "language": "python",
   "name": "python3"
  },
  "language_info": {
   "codemirror_mode": {
    "name": "ipython",
    "version": 3
   },
   "file_extension": ".py",
   "mimetype": "text/x-python",
   "name": "python",
   "nbconvert_exporter": "python",
   "pygments_lexer": "ipython3",
   "version": "3.9.6"
  }
 },
 "nbformat": 4,
 "nbformat_minor": 5
}

{
 "cells": [
  {
   "cell_type": "markdown",
   "id": "56d5464d",
   "metadata": {},
   "source": [
    "# Importing libraries"
   ]
  },
  {
   "cell_type": "code",
   "execution_count": 1,
   "id": "848d2f34",
   "metadata": {},
   "outputs": [],
   "source": [
    "import numpy as np \n",
    "import os\n",
    "import pandas as pd "
   ]
  },
  {
   "cell_type": "markdown",
   "id": "79339707",
   "metadata": {},
   "source": [
    "# Inputing the data to the text file"
   ]
  },
  {
   "cell_type": "code",
   "execution_count": 12,
   "id": "330d4790",
   "metadata": {},
   "outputs": [
    {
     "name": "stdout",
     "output_type": "stream",
     "text": [
      "Suryakumar Yadav,,340,1270,,,,\n",
      "----- Output Dataset -----\n",
      "\n",
      "MS Dhoni,2000,4500,1200,1,2,2\n",
      "Virat Kohli,4500,5000,4000,1,1,1\n",
      "Babar Azam,500,500,400,0,0,1 \n",
      "Aaron finch ,278 ,5406 ,2973, 0,4,0\n",
      "David malan ,1074, 319, 1585, 2 ,1 ,1\n",
      "Joe Root, 10504 ,6207 ,893 ,47 ,26 ,6\n",
      "Marnus Labuschagne, 2539, 734, 2 ,13, 2 \n",
      "Rishab pant ,2123 ,840 ,964 ,0 ,0 ,0\n",
      "Suryakumar Yadav,,340,1270,,,,\n",
      "\n"
     ]
    }
   ],
   "source": [
    "# creating a text file and inputing the values \n",
    "content = str(input()) + '\\n'\n",
    "fd = open('new.txt','a')\n",
    "fd.write(content)\n",
    "fd.close()\n",
    "\n",
    "# Reading the text file\n",
    "print('----- Output Dataset -----')\n",
    "fd = open('new.txt','r')\n",
    "text = fd.read()\n",
    "fd.close()\n",
    "print(text)"
   ]
  },
  {
   "cell_type": "markdown",
   "id": "a788d679",
   "metadata": {},
   "source": [
    "# converting the text file into csv file "
   ]
  },
  {
   "cell_type": "code",
   "execution_count": 13,
   "id": "575d7710",
   "metadata": {},
   "outputs": [],
   "source": [
    "# using os library to convert the text file to csv file\n",
    "os.rename('new.txt','stat.csv')"
   ]
  },
  {
   "cell_type": "code",
   "execution_count": 17,
   "id": "ba2e5dc5",
   "metadata": {},
   "outputs": [
    {
     "name": "stdout",
     "output_type": "stream",
     "text": [
      "MS Dhoni,2000,4500,1200,1,2,2\n",
      "Virat Kohli,4500,5000,4000,1,1,1\n",
      "Babar Azam,500,500,400,0,0,1\n",
      "Aaron finch ,278,5406,2973,0,4,0\n",
      "David malan ,1074,319,1585,2,1,1\n",
      "Joe Root,10504,6207,893,47,26,6\n",
      "Marnus Labuschagne,2539,734,2,13,2,\n",
      "Rishab pant ,2123,840,964,0,0,0\n",
      "Suryakumar Yadav,,340,1270,,,\n",
      "\n"
     ]
    }
   ],
   "source": [
    "fd = open('stat.csv','r')\n",
    "text = fd.read()\n",
    "fd.close()\n",
    "print(text)"
   ]
  },
  {
   "cell_type": "markdown",
   "id": "b6b8ffd4",
   "metadata": {},
   "source": [
    "# converting to numpy array"
   ]
  },
  {
   "cell_type": "code",
   "execution_count": 63,
   "id": "e5d6adec",
   "metadata": {},
   "outputs": [
    {
     "name": "stdout",
     "output_type": "stream",
     "text": [
      "['MS Dhoni,2000,4500,1200,1,2,2' 'Virat Kohli,4500,5000,4000,1,1,1'\n",
      " 'Babar Azam,500,500,400,0,0,1' 'Aaron finch ,278,5406,2973,0,4,0'\n",
      " 'David malan ,1074,319,1585,2,1,1' 'Joe Root,10504,6207,893,47,26,6'\n",
      " 'Marnus Labuschagne,2539,734,2,13,2,' 'Rishab pant ,2123,840,964,0,0,0'\n",
      " 'Suryakumar Yadav,,340,1270,,,']\n",
      "<class 'numpy.ndarray'>\n",
      "9\n"
     ]
    }
   ],
   "source": [
    "# numpy array \n",
    "numpy_array = np.array((text.split('\\n')[:-1]))\n",
    "print(numpy_array)\n",
    "print(type(numpy_array))\n",
    "print(len(numpy_array))\n",
    "    \n",
    "\n"
   ]
  }
 ],
 "metadata": {
  "kernelspec": {
   "display_name": "Python 3 (ipykernel)",
   "language": "python",
   "name": "python3"
  },
  "language_info": {
   "codemirror_mode": {
    "name": "ipython",
    "version": 3
   },
   "file_extension": ".py",
   "mimetype": "text/x-python",
   "name": "python",
   "nbconvert_exporter": "python",
   "pygments_lexer": "ipython3",
   "version": "3.9.6"
  }
 },
 "nbformat": 4,
 "nbformat_minor": 5
}

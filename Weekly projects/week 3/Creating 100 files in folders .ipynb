{
 "cells": [
  {
   "cell_type": "markdown",
   "id": "9a59b6d3",
   "metadata": {},
   "source": [
    "# files in folder "
   ]
  },
  {
   "cell_type": "code",
   "execution_count": 7,
   "id": "148f1d8b",
   "metadata": {},
   "outputs": [
    {
     "name": "stdout",
     "output_type": "stream",
     "text": [
      "Enter your name : rahul\n"
     ]
    }
   ],
   "source": [
    "import os \n",
    "name = input('Enter your name : ')\n",
    "\n",
    "for i in range(101):\n",
    "    os.mkdir(name+str(i))\n",
    "\n",
    "for i in range(101):\n",
    "    fd = open(name + str(i) + '/' + name + str(i)+'.txt','w')\n",
    "    fd.write('Hello '+ str(i))\n",
    "    fd.close()"
   ]
  }
 ],
 "metadata": {
  "kernelspec": {
   "display_name": "Python 3 (ipykernel)",
   "language": "python",
   "name": "python3"
  },
  "language_info": {
   "codemirror_mode": {
    "name": "ipython",
    "version": 3
   },
   "file_extension": ".py",
   "mimetype": "text/x-python",
   "name": "python",
   "nbconvert_exporter": "python",
   "pygments_lexer": "ipython3",
   "version": "3.9.6"
  }
 },
 "nbformat": 4,
 "nbformat_minor": 5
}

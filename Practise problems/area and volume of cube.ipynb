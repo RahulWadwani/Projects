{
 "cells": [
  {
   "cell_type": "markdown",
   "id": "6a140238",
   "metadata": {},
   "source": [
    "# Using simple Way "
   ]
  },
  {
   "cell_type": "code",
   "execution_count": 1,
   "id": "620dc77b",
   "metadata": {},
   "outputs": [
    {
     "name": "stdout",
     "output_type": "stream",
     "text": [
      "Enter side of cube in cm : 5\n",
      "The area of Cube is :  150.0 sq.cm\n",
      "The area of Cube is :  125.0 cubic.cm\n"
     ]
    }
   ],
   "source": [
    "# inputing the value from the user \n",
    "n = float(input('Enter side of cube in cm : '))\n",
    "\n",
    "# formula used to calculate Area and Volume \n",
    "cube_area = 6 * (n ** 2)\n",
    "cube_volume = n ** 3\n",
    "\n",
    "# Printing the output \n",
    "print('The area of Cube is : ',cube_area,'sq.cm')\n",
    "print('The area of Cube is : ',cube_volume,'cubic.cm')\n"
   ]
  },
  {
   "cell_type": "markdown",
   "id": "21fe9694",
   "metadata": {},
   "source": [
    "# Area using classes "
   ]
  },
  {
   "cell_type": "code",
   "execution_count": 4,
   "id": "dc77aa73",
   "metadata": {},
   "outputs": [
    {
     "name": "stdout",
     "output_type": "stream",
     "text": [
      "Enter side of a cube : 4.5\n",
      "Surface area of the cube  :  121.5\n",
      "Volume of the cube        :  91.125\n"
     ]
    }
   ],
   "source": [
    "class Area:\n",
    "    def area(self,n):\n",
    "        return 6*(n**2)\n",
    "    def vol(self,n):\n",
    "        return n**3\n",
    "\n",
    "if __name__ == '__main__':\n",
    "    n = float(input('Enter side of a cube : '))\n",
    "    obj = Area()\n",
    "    print('Surface area of the cube  : ',obj.area(n))\n",
    "    print('Volume of the cube        : ',obj.vol(n))"
   ]
  }
 ],
 "metadata": {
  "kernelspec": {
   "display_name": "Python 3 (ipykernel)",
   "language": "python",
   "name": "python3"
  },
  "language_info": {
   "codemirror_mode": {
    "name": "ipython",
    "version": 3
   },
   "file_extension": ".py",
   "mimetype": "text/x-python",
   "name": "python",
   "nbconvert_exporter": "python",
   "pygments_lexer": "ipython3",
   "version": "3.9.6"
  }
 },
 "nbformat": 4,
 "nbformat_minor": 5
}

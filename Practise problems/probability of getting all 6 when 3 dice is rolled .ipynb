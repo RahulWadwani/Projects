{
 "cells": [
  {
   "cell_type": "code",
   "execution_count": 46,
   "id": "a0650e1a",
   "metadata": {},
   "outputs": [
    {
     "name": "stdout",
     "output_type": "stream",
     "text": [
      "probabilty of getting all 6 when 3 dice is rolled: 0.004629629629629629\n"
     ]
    }
   ],
   "source": [
    "#  getting all 6 when 3 dice are rolled \n",
    "lis = []\n",
    "lis2 = []\n",
    "for i in range(1,7):\n",
    "    for j in range(1,7):\n",
    "        for k in range(1,7):\n",
    "            a = i,j,k\n",
    "            lis.append(a)\n",
    "            if (i==6 and j== 6 and k==6):\n",
    "                lis2.append(a)\n",
    "                \n",
    "# probablity part \n",
    "print('probabilty of getting all 6 when 3 dice is rolled:',len(lis2)/len(lis))\n"
   ]
  }
 ],
 "metadata": {
  "kernelspec": {
   "display_name": "Python 3 (ipykernel)",
   "language": "python",
   "name": "python3"
  },
  "language_info": {
   "codemirror_mode": {
    "name": "ipython",
    "version": 3
   },
   "file_extension": ".py",
   "mimetype": "text/x-python",
   "name": "python",
   "nbconvert_exporter": "python",
   "pygments_lexer": "ipython3",
   "version": "3.9.6"
  }
 },
 "nbformat": 4,
 "nbformat_minor": 5
}

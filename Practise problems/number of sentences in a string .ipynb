{
 "cells": [
  {
   "cell_type": "code",
   "execution_count": 17,
   "id": "04b45100",
   "metadata": {},
   "outputs": [
    {
     "name": "stdout",
     "output_type": "stream",
     "text": [
      "Enter sentences hello guys my name is Rahul. I am 22 Years old. I am currently pursuing my bachelors degree in electronics and telecommunication department in bharati vidyapeeth college of engineering. I have a keen interest in analysing the data and learn more on the programming. i also love to watch anime and sci-fi hollywood movies and sometimes i also watch south indian comedy movies.\n",
      "5\n"
     ]
    }
   ],
   "source": [
    "string = input('Enter sentences ')\n",
    "\n",
    "def tot_sent(string):\n",
    "    if '' in string.split('.')[-1]:\n",
    "        number = len(string.split('.'))-1\n",
    "    else:\n",
    "        number = len(string.split('.'))\n",
    "        \n",
    "    return number\n",
    "\n",
    "print(tot_sent(string))\n"
   ]
  }
 ],
 "metadata": {
  "kernelspec": {
   "display_name": "Python 3 (ipykernel)",
   "language": "python",
   "name": "python3"
  },
  "language_info": {
   "codemirror_mode": {
    "name": "ipython",
    "version": 3
   },
   "file_extension": ".py",
   "mimetype": "text/x-python",
   "name": "python",
   "nbconvert_exporter": "python",
   "pygments_lexer": "ipython3",
   "version": "3.10.6"
  }
 },
 "nbformat": 4,
 "nbformat_minor": 5
}

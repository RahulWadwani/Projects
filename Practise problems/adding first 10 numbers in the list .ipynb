{
 "cells": [
  {
   "cell_type": "code",
   "execution_count": 5,
   "id": "ba39560b",
   "metadata": {},
   "outputs": [
    {
     "name": "stdout",
     "output_type": "stream",
     "text": [
      "Enter numbers greater than 10 :12\n",
      "45\n",
      "42\n",
      "10\n",
      "20\n",
      "30\n",
      "60\n",
      "504\n",
      "10\n",
      "70\n",
      "80\n",
      "90\n",
      "802\n",
      "Final Answer 1718\n"
     ]
    }
   ],
   "source": [
    "# adding the even numbers present in the list \n",
    "def solve(lis):\n",
    "    t = 0\n",
    "    for i in lis:\n",
    "        if i % 2 == 0:\n",
    "            t += i\n",
    "    return t\n",
    "if __name__ == '__main__':\n",
    "    lis = []\n",
    "    n = int(input('Enter numbers greater than 10 :'))\n",
    "    if n > 10:\n",
    "        for i in range(n):\n",
    "            s = int(input())\n",
    "            lis.append(s)    \n",
    "        print('Final Answer',solve(lis))\n",
    "    else:\n",
    "        print('Invalid')"
   ]
  }
 ],
 "metadata": {
  "kernelspec": {
   "display_name": "Python 3 (ipykernel)",
   "language": "python",
   "name": "python3"
  },
  "language_info": {
   "codemirror_mode": {
    "name": "ipython",
    "version": 3
   },
   "file_extension": ".py",
   "mimetype": "text/x-python",
   "name": "python",
   "nbconvert_exporter": "python",
   "pygments_lexer": "ipython3",
   "version": "3.9.6"
  }
 },
 "nbformat": 4,
 "nbformat_minor": 5
}

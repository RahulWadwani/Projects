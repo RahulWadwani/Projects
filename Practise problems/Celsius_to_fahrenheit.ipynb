{
 "cells": [
  {
   "cell_type": "markdown",
   "id": "5b55e603",
   "metadata": {},
   "source": [
    "# Celsius to fahrenheit "
   ]
  },
  {
   "cell_type": "code",
   "execution_count": 1,
   "id": "39f53700",
   "metadata": {},
   "outputs": [
    {
     "name": "stdout",
     "output_type": "stream",
     "text": [
      "***************************************************************************\n",
      "****     This is a program to convert celsius to degree fahrenheit     **** \n",
      "***************************************************************************\n",
      "Enter the temperature in Degree celsius:32\n",
      "Degree Fahrenheit : 89.6\n",
      "***************************************************************************\n"
     ]
    }
   ],
   "source": [
    "print('*'*75)\n",
    "print(\"****     This is a program to convert celsius to degree fahrenheit     **** \")\n",
    "print('*'*75)\n",
    "celsius = float(input(\"Enter the temperature in Degree celsius:\"))\n",
    "fahrenheit = float ((celsius *(9/5))+32)\n",
    "print (\"Degree Fahrenheit : \",fahrenheit)\n",
    "print('*'*75)"
   ]
  }
 ],
 "metadata": {
  "kernelspec": {
   "display_name": "Python 3 (ipykernel)",
   "language": "python",
   "name": "python3"
  },
  "language_info": {
   "codemirror_mode": {
    "name": "ipython",
    "version": 3
   },
   "file_extension": ".py",
   "mimetype": "text/x-python",
   "name": "python",
   "nbconvert_exporter": "python",
   "pygments_lexer": "ipython3",
   "version": "3.9.6"
  }
 },
 "nbformat": 4,
 "nbformat_minor": 5
}

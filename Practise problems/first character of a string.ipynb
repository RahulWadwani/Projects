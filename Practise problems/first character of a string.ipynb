{
 "cells": [
  {
   "cell_type": "code",
   "execution_count": 7,
   "id": "34f6b536",
   "metadata": {},
   "outputs": [
    {
     "name": "stdout",
     "output_type": "stream",
     "text": [
      "Enter a sentence: hello My name is Rahul\n",
      "h\n",
      "M\n",
      "n\n",
      "i\n",
      "R\n"
     ]
    }
   ],
   "source": [
    "string = input('Enter a sentence: ')\n",
    "def first_char(sent):\n",
    "    for i in string.split(' '):\n",
    "        print(i[0])\n",
    "        \n",
    "first_char(string)"
   ]
  }
 ],
 "metadata": {
  "kernelspec": {
   "display_name": "Python 3 (ipykernel)",
   "language": "python",
   "name": "python3"
  },
  "language_info": {
   "codemirror_mode": {
    "name": "ipython",
    "version": 3
   },
   "file_extension": ".py",
   "mimetype": "text/x-python",
   "name": "python",
   "nbconvert_exporter": "python",
   "pygments_lexer": "ipython3",
   "version": "3.10.6"
  }
 },
 "nbformat": 4,
 "nbformat_minor": 5
}

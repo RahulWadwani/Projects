{
 "cells": [
  {
   "cell_type": "code",
   "execution_count": 7,
   "id": "6bd01041",
   "metadata": {},
   "outputs": [
    {
     "name": "stdout",
     "output_type": "stream",
     "text": [
      "i am engineer. i am good looking. i am thoughtful. i care for other . i am friendly.\n",
      "number of sentences present in the string. 5\n"
     ]
    }
   ],
   "source": [
    "def sentences(s):\n",
    "    return len(s.split('.')[:-1])\n",
    "if __name__ == '__main__':\n",
    "    s = str(input())\n",
    "    print('number of sentences present in the string.',sentences(s))"
   ]
  }
 ],
 "metadata": {
  "kernelspec": {
   "display_name": "Python 3 (ipykernel)",
   "language": "python",
   "name": "python3"
  },
  "language_info": {
   "codemirror_mode": {
    "name": "ipython",
    "version": 3
   },
   "file_extension": ".py",
   "mimetype": "text/x-python",
   "name": "python",
   "nbconvert_exporter": "python",
   "pygments_lexer": "ipython3",
   "version": "3.9.6"
  }
 },
 "nbformat": 4,
 "nbformat_minor": 5
}

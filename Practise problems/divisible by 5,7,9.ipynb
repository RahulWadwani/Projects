{
 "cells": [
  {
   "cell_type": "code",
   "execution_count": 2,
   "id": "e5690023",
   "metadata": {},
   "outputs": [
    {
     "name": "stdout",
     "output_type": "stream",
     "text": [
      "Enter a number to check the divisiblity: 315\n",
      "Number is divisible by 5\n",
      "Number is divisible by 7\n",
      "Number is divisible by 9\n"
     ]
    }
   ],
   "source": [
    "class Divisible:\n",
    "    def div_5(self,n):\n",
    "        if n % 5 == 0:\n",
    "            return 'Number is divisible by 5'\n",
    "        else:\n",
    "            return 'Not Divisible by 5'\n",
    "    def div_7(self,n):\n",
    "        if n % 7  == 0:\n",
    "            return 'Number is divisible by 7'\n",
    "        else:\n",
    "            return 'Not Divisible by 7'\n",
    "    def div_9(self,n):\n",
    "        if n % 9 == 0:\n",
    "            return 'Number is divisible by 9'\n",
    "        else:\n",
    "            return 'Not Divisible by 9'\n",
    "        \n",
    "if __name__ == '__main__':\n",
    "    n = int(input('Enter a number to check the divisiblity: '))\n",
    "    obj = Divisible()\n",
    "    print(obj.div_5(n))\n",
    "    print(obj.div_7(n))\n",
    "    print(obj.div_9(n))"
   ]
  }
 ],
 "metadata": {
  "kernelspec": {
   "display_name": "Python 3 (ipykernel)",
   "language": "python",
   "name": "python3"
  },
  "language_info": {
   "codemirror_mode": {
    "name": "ipython",
    "version": 3
   },
   "file_extension": ".py",
   "mimetype": "text/x-python",
   "name": "python",
   "nbconvert_exporter": "python",
   "pygments_lexer": "ipython3",
   "version": "3.9.6"
  }
 },
 "nbformat": 4,
 "nbformat_minor": 5
}

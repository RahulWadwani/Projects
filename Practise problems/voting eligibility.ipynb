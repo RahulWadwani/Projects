{
 "cells": [
  {
   "cell_type": "code",
   "execution_count": 3,
   "id": "84cf96b1",
   "metadata": {},
   "outputs": [
    {
     "name": "stdout",
     "output_type": "stream",
     "text": [
      "Enter your age : 18\n",
      "Voter is Eligible for voting \n"
     ]
    }
   ],
   "source": [
    "def vote(n):\n",
    "    if n < 18:\n",
    "        return 'Not Eligible for voting '\n",
    "    else:\n",
    "        return 'Eligible for voting ' \n",
    "if __name__ == '__main__':\n",
    "    n = int(input('Enter your age : '))\n",
    "    print('Voter is',vote(n))"
   ]
  }
 ],
 "metadata": {
  "kernelspec": {
   "display_name": "Python 3 (ipykernel)",
   "language": "python",
   "name": "python3"
  },
  "language_info": {
   "codemirror_mode": {
    "name": "ipython",
    "version": 3
   },
   "file_extension": ".py",
   "mimetype": "text/x-python",
   "name": "python",
   "nbconvert_exporter": "python",
   "pygments_lexer": "ipython3",
   "version": "3.9.6"
  }
 },
 "nbformat": 4,
 "nbformat_minor": 5
}

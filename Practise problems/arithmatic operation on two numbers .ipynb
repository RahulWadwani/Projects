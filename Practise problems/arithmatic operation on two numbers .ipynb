{
 "cells": [
  {
   "cell_type": "code",
   "execution_count": 4,
   "id": "6c619b0d",
   "metadata": {},
   "outputs": [
    {
     "name": "stdout",
     "output_type": "stream",
     "text": [
      "Enter first number: 10\n",
      "Enter Second number: 20\n",
      "ADDITION       :  30\n",
      "SUBSTRACTION   :  -10\n",
      "MULTIPLICATION :  200\n",
      "SUBSTRACTION   :  0.5\n",
      "REMAINDER      :  10\n"
     ]
    }
   ],
   "source": [
    "class Math_op:\n",
    "    def add(self,a,b):\n",
    "        return a+b\n",
    "    def sub(self,a,b):\n",
    "        return a-b\n",
    "    def mul(self,a,b):\n",
    "        return a*b\n",
    "    def div(self,a,b):\n",
    "        return a/b\n",
    "    def mod(self,a,b):\n",
    "        return a%b\n",
    "if __name__ == '__main__':\n",
    "    a = int(input('Enter first number: '))\n",
    "    b = int(input('Enter Second number: '))\n",
    "    obj = Math_op()\n",
    "    # for adding \n",
    "    print(\"ADDITION       : \",obj.add(a,b))\n",
    "    # for substracting \n",
    "    print(\"SUBSTRACTION   : \",obj.sub(a,b))\n",
    "    # for multiplying\n",
    "    print(\"MULTIPLICATION : \",obj.mul(a,b))\n",
    "    # for dividing \n",
    "    print(\"SUBSTRACTION   : \",obj.div(a,b))\n",
    "    # for remainder \n",
    "    print(\"REMAINDER      : \",obj.mod(a,b))\n"
   ]
  }
 ],
 "metadata": {
  "kernelspec": {
   "display_name": "Python 3 (ipykernel)",
   "language": "python",
   "name": "python3"
  },
  "language_info": {
   "codemirror_mode": {
    "name": "ipython",
    "version": 3
   },
   "file_extension": ".py",
   "mimetype": "text/x-python",
   "name": "python",
   "nbconvert_exporter": "python",
   "pygments_lexer": "ipython3",
   "version": "3.9.6"
  }
 },
 "nbformat": 4,
 "nbformat_minor": 5
}
